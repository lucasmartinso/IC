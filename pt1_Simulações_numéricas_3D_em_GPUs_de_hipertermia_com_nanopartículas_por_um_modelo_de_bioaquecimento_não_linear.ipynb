{
  "nbformat": 4,
  "nbformat_minor": 0,
  "metadata": {
    "colab": {
      "provenance": [],
      "include_colab_link": true
    },
    "kernelspec": {
      "name": "python3",
      "display_name": "Python 3"
    },
    "language_info": {
      "name": "python"
    }
  },
  "cells": [
    {
      "cell_type": "markdown",
      "metadata": {
        "id": "view-in-github",
        "colab_type": "text"
      },
      "source": [
        "<a href=\"https://colab.research.google.com/github/lucasmartinso/IC/blob/main/pt1_Simula%C3%A7%C3%B5es_num%C3%A9ricas_3D_em_GPUs_de_hipertermia_com_nanopart%C3%ADculas_por_um_modelo_de_bioaquecimento_n%C3%A3o_linear.ipynb\" target=\"_parent\"><img src=\"https://colab.research.google.com/assets/colab-badge.svg\" alt=\"Open In Colab\"/></a>"
      ]
    },
    {
      "cell_type": "markdown",
      "source": [
        "## **Simulações numéricas 3D em GPUs de hipertermia com nanopartículas por um modelo de bioaquecimento não linear**\n",
        "\n",
        "Nome: Lucas Martins Oliveira"
      ],
      "metadata": {
        "id": "AcrPiutW-dDf"
      }
    },
    {
      "cell_type": "markdown",
      "source": [
        "# **Motivação**\n",
        "\n",
        "Temos que o câncer de um modo geral é um problema de saúde mundial e afeta milhares de pessoas todos anos, dessa forma uma forma menos invasiva que vem sendo adotada são as terapias térmicas, já que essas vem apresentando ótimos resultados devido a sua  capacidade de aquecimento de diferentes tecidos e em áreas localizadas, assim temos vários “métodos”, como a terapia baseada em radiação eletromagnética, as baseadas em campos magnéticos alternados  de baixa frequência e a hipertermia por meio de nanopartículas que vai ser o nosso alvo de estudo\n",
        "\n",
        "De um modo geral, a hipertermia com nanopartículas pode ser usada como um tratamento minimamente invasivo para destruir tumores em tecidos vivos.O objetivo é aquecer o tumor até um limiar de temperatura acima do fisiológico normal, a fim de destruir suas células por necrose,mantendo o mínimo possível o dano do tecido saudável, na qual esse tratamento não só destroi as celulas tumorais por conta do aquecimento provocado como também gera uma indução da resposta imune"
      ],
      "metadata": {
        "id": "KTgUFWGAUBHj"
      }
    },
    {
      "cell_type": "markdown",
      "source": [
        "Equação a ser modelada:\n",
        "\n",
        "\\begin{equation*}\n",
        "  \\begin{cases}\n",
        "    \\displaystyle \\nabla \\cdot k \\nabla T + w_b c_b(T_a - T) + Q_m = 0 \\text{ para } \\Omega\\\\\\\\\n",
        "    \\displaystyle k \\nabla T \\cdot\\vec{n} = 0 \\text{ para } \\partial \\Omega_N\\\\\\\\\n",
        "    \\displaystyle T  = 37 \\text{ para } \\partial \\Omega_D\\\\\\\\\n",
        "    \\displaystyle T(.,0) = 37\n",
        "  \\end{cases}\n",
        "\\end{equation*}\n",
        "\n",
        "\\begin{equation*}\n",
        "  \\text { onde } T : \\Omega \\times  I \\rightarrow \\mathbb{R^+} \\text { representa o campo de temperatura do tecido } \\\\\n",
        "  c_b : \\Omega \\times  I \\rightarrow \\mathbb{R^+} \\text { representa o calor específico do sangue } \\\\\n",
        "  k : \\Omega \\times  I \\rightarrow \\mathbb{R^+} \\text { na qual a condutividade térmica é considerada isotrópica, mas não homogênea } \\\\\n",
        "  w_b:  \\Omega \\times {R^+} \\times  I \\rightarrow \\mathbb{R^+} \\text { taxa de perfusão sanguínea } \\\\\n",
        "  T_a \\text { temperatura arterial } \\\\\n",
        "  Q_m : \\Omega \\times  I \\rightarrow \\mathbb{R^+} \\text { representa a geração de calor metabólico } \\\\\n",
        "  f : \\Omega \\times  I \\rightarrow \\mathbb{R^+} \\text { temperaturaprescrita(Dirichelet) ou fluxo (Neumann ou Robin} \\\\\n",
        "  \\alpha , \\beta : \\Omega \\times  I \\rightarrow \\mathbb{R^+} \\text { sendo o vetor normal unitário } \\\\\n",
        "\\end{equation*}"
      ],
      "metadata": {
        "id": "5Tr73TudMbgi"
      }
    },
    {
      "cell_type": "markdown",
      "source": [
        "A discretização da primeira equação, através da aplicação do método das diferenças finitas de segunda ordem de 7 pontos:\n",
        "\n",
        "\\begin{equation*}\n",
        "  \\phi(T_{i,j}, T_{i \\pm 1,j}, T_{i,j \\pm 1}, T_{i,j \\pm 1}) + (w_{b_{i,j}})(c_{b_{i,j}})T_a + Q_{m_{i,j}} = 0\n",
        "\\end{equation*}\n",
        "\n",
        "Na qual obtemos que:\n",
        "\n",
        "\\begin{equation*}\n",
        "  \\phi(T_{i,j}, T_{i \\pm 1,j}, T_{i,j \\pm 1}, T_{i,j \\pm 1}) = \\\\\n",
        "  \\frac{1}{\\Delta x^2}[k_{i+\\frac{1}{2},j}(T_{i+1,j}-T_{i,j}) - k_{i-\\frac{1}{2},j}(T_{i,j}-T_{i-1,j})] \\\\\n",
        "  + \\frac{1}{\\Delta y^2}[k_{i,j+\\frac{1}{2}}(T_{i,j+1}-T_{i,j}) - k_{i,j-\\frac{1}{2}}(T_{i,j}-T_{i,j-1})] \\\\\n",
        "   \\\\\n",
        "  - w_{b_{i,j}} c_{b_{i,j}} T_{i,j} \\\\\n",
        "\\end{equation*}"
      ],
      "metadata": {
        "id": "GSs-cnytDZEE"
      }
    },
    {
      "cell_type": "code",
      "source": [
        "import matplotlib\n",
        "import matplotlib.pyplot as plt\n",
        "from matplotlib import cm\n",
        "from mpl_toolkits.mplot3d import axes3d, Axes3D\n",
        "import numpy as np\n",
        "import math\n",
        "\n",
        "from google.colab import files\n",
        "from matplotlib.figure import projections\n",
        "\n",
        "plt.rcParams['figure.figsize'] = [8, 6]"
      ],
      "metadata": {
        "id": "1KSJM7enRDQ8"
      },
      "execution_count": null,
      "outputs": []
    },
    {
      "cell_type": "code",
      "source": [
        "#n = (b-a)/h + 1 -> numero de pontos\n",
        "#como temos que os dois pontos das extremidades já sao de dirichelet entao\n",
        "#nn = (b-a)/h + 1 -2 -> numero de incognitas\n",
        "\n",
        "h = 0.1/(101-1)\n",
        "x = np.arange(0, 0.05+h/2, h)\n",
        "y = np.arange(0, 0.1+h/2, h)\n",
        "\n",
        "#Condicoes de Contorno\n",
        "u_a = 37 #dirichelet esquerdo -> T0\n",
        "u_b = 0 #neumann topo\n",
        "u_c = 0 #neumann direito\n",
        "u_d = 0 #neumann base\n",
        "\n",
        "tam = len(x) #numero de incógnitas no eixo x\n",
        "\n",
        "kit=0\n",
        "k_max = 100000 #numero maximo de iteraçoes do metodo\n",
        "error=1\n",
        "\n",
        "#calor específico dp sangue\n",
        "cb = 4200.0"
      ],
      "metadata": {
        "id": "zI6BiTKR0e2A"
      },
      "execution_count": null,
      "outputs": []
    },
    {
      "cell_type": "markdown",
      "source": [
        "A geração de calor metabólico varia de acordo com a região tratada, temos assim então:\n",
        "\n",
        "\\begin{equation*}\n",
        "  Qm_{muscle} = Qm_{fat} = Qm_{dermis} = 420.0 \\\\\n",
        "  Qm_{tumor} = 4200.0\n",
        "\\end{equation*}"
      ],
      "metadata": {
        "id": "EtO7bpzrX92c"
      }
    },
    {
      "cell_type": "code",
      "source": [
        "qm = np.zeros(4)\n",
        "\n",
        "for i in range(4):\n",
        "  '''\n",
        "  qm[0] => qm_dermis\n",
        "  qm[1] => qm_fat\n",
        "  qm[2] => qm_muscle\n",
        "  qm[3] => qm_tumor\n",
        "  '''\n",
        "\n",
        "  if(i==0 or i==1 or i==2) :\n",
        "    qm[i] = 420.0\n",
        "  else:\n",
        "    qm[i] = 4200.0"
      ],
      "metadata": {
        "id": "YlQcRvBOX9AY"
      },
      "execution_count": null,
      "outputs": []
    },
    {
      "cell_type": "markdown",
      "source": [
        "Temos que a condutividade térmica varia de acordo com o tecido, assim obtemos a seguintes relações:\n",
        "\n",
        "\\begin{equation*}\n",
        "  k_{dermis} = 0.40\\\\\n",
        "  k_{fat} = 0.21\\\\\n",
        "  k_{muscle} = 0.45\\\\\n",
        "  k_{tumor} = 0.55\\\\\n",
        "\\end{equation*}"
      ],
      "metadata": {
        "id": "fe-hntH2VXff"
      }
    },
    {
      "cell_type": "code",
      "source": [
        "k = np.zeros(4)\n",
        "\n",
        "'''\n",
        "  k[0] => k_dermis\n",
        "  k[1] => k_fat\n",
        "  k[2] => k_muscle\n",
        "  k[3] => k_tumor\n",
        "'''\n",
        "\n",
        "k[0] = 0.4\n",
        "k[1] = 0.21\n",
        "k[2] = 0.45\n",
        "k[3] = 0.55"
      ],
      "metadata": {
        "id": "VWQo-v_OV84c"
      },
      "execution_count": null,
      "outputs": []
    },
    {
      "cell_type": "markdown",
      "source": [
        "A taxa de perfusão sanguínea varia de acordo com o tecido e com a temperatura que esse se encontra, dessa forma temos que:\n",
        "\n",
        "\\begin{equation*}\n",
        "  W_{dermis} = 0.5 \\\\\n",
        "  W_{muscle} =\n",
        "    \\begin{cases}\n",
        "      \\displaystyle 0.45 + 3.55exp(-\\frac{(T-45.0)^2}{12.0}) \\text { para } T \\leq 45.0 \\\\\\\\\n",
        "      4.0 \\text { para } T>45.0\n",
        "    \\end{cases} \\\\\n",
        "    W_{fat} =\n",
        "    \\begin{cases}\n",
        "      \\displaystyle 0.36 + 0.36exp(-\\frac{(T-45.0)^2}{12.0}) \\text { para } T \\leq 45.0 \\\\\\\\\n",
        "      0.72 \\text { para } T>45.0\n",
        "    \\end{cases} \\\\\n",
        "    W_{tumor} =\n",
        "    \\begin{cases}\n",
        "      \\displaystyle 0.833 + -\\frac{(T-37.0)^{4.8}}{5.438E+3} \\text { para } 37.0 \\leq T \\leq 42.0 \\\\\\\\\n",
        "      0.416 \\text { para } T>42.0\n",
        "    \\end{cases} \\\\\n",
        "\\end{equation*}"
      ],
      "metadata": {
        "id": "ZjRrOiDB6f6s"
      }
    },
    {
      "cell_type": "code",
      "source": [
        "def w_b(T) :\n",
        "  '''\n",
        "  w[0] => w_dermis\n",
        "  w[1] => w_fat\n",
        "  w[2] => w_muscle\n",
        "  w[3] => w_tumor\n",
        "  '''\n",
        "\n",
        "  w_dermis = 0.5\n",
        "\n",
        "  #w_muscle, w_fat, w_tumor -> definido pela condicao acima\n",
        "  w_muscle = 4.0\n",
        "  if(T<=45.0):\n",
        "    w_muscle = 0.45 + 3.55*np.exp(-((T-45.0)**2)/12.0)\n",
        "\n",
        "  w_fat = 0.72\n",
        "  if(T<=45.0):\n",
        "    w_fat = 0.36 + 0.36*np.exp(-((T-45.0)**2)/12.0)\n",
        "\n",
        "  w_tumor = 0.416\n",
        "  if(T<=42.0 and T>=37):\n",
        "    w_tumor = 0.833 + (-((T-37.0)**(4.8))/((5.438)*1000))\n",
        "\n",
        "  return np.array([ w_dermis, w_fat, w_muscle, w_tumor ])"
      ],
      "metadata": {
        "id": "kCkCugF3N581"
      },
      "execution_count": null,
      "outputs": []
    },
    {
      "cell_type": "markdown",
      "source": [
        "Assim para modelarmos de acordo com a matriz solução que temos, modelamos as regiões do espaço, aonde é tumor, músculo, derme, gordura"
      ],
      "metadata": {
        "id": "q3JGpUC2Yvdz"
      }
    },
    {
      "cell_type": "code",
      "source": [
        "#matriz de 51x101\n",
        "#matriz indica qual tecido se trata\n",
        "tp = np.zeros((len(x),len(y)))\n",
        "\n",
        "for i in range(len(x)):\n",
        "  for j in range(len(y)):\n",
        "    '''\n",
        "    tp[i][j] = 0 -> dermis\n",
        "    tp[i][j] = 1 -> fat\n",
        "    tp[i][j] = 2 -> muscle\n",
        "    tp[i][j] = 3 -> tumor\n",
        "    '''\n",
        "\n",
        "    if(i>(12+20-13) and i<(12+20+13) and j>(50-13) and j<(50+13)):\n",
        "      #tumor esfera de raio 13mm\n",
        "      #centro (20,50)mm\n",
        "      tp[i][j] = 3\n",
        "    elif(i<2) :\n",
        "      #derme 2mm\n",
        "      tp[i,j] = 0\n",
        "    elif(i<12) :\n",
        "      #adiposo 10mm\n",
        "      tp[i,j] = 1\n",
        "    else :\n",
        "      #muscular 38mm\n",
        "      tp[i,j] = 2\n",
        "\n",
        "np.savetxt(\"k\",np.transpose(tp), fmt='%d')\n",
        "plt.imshow(tp)\n",
        "plt.savefig(\"Domminio.pdf\")"
      ],
      "metadata": {
        "colab": {
          "base_uri": "https://localhost:8080/",
          "height": 376
        },
        "id": "sIrz1x3UYt1_",
        "outputId": "5caa8a1b-005d-4de7-fc04-38621df7417b"
      },
      "execution_count": null,
      "outputs": [
        {
          "output_type": "display_data",
          "data": {
            "text/plain": [
              "<Figure size 800x600 with 1 Axes>"
            ],
            "image/png": "[encoded data removed]"
          },
          "metadata": {}
        }
      ]
    },
    {
      "cell_type": "markdown",
      "source": [
        "Assim temos que a condutividade térmica, pode ser calculada usando o método do ponto do médio, então:\n",
        "\\begin{equation*}\n",
        "  k_{i+\\frac{1}{2},j} \\approx \\frac{2k_{i,j}+k_{i+1,j}}{k_{i,j}+k_{i+1,j}}\n",
        "\\end{equation*}"
      ],
      "metadata": {
        "id": "Iik5OLkO2ilZ"
      }
    },
    {
      "cell_type": "code",
      "source": [
        "#buscar o tipo: derme, musculo, gordura, tumor\n",
        "def busca(i,j):\n",
        "  return tp[i][j]\n",
        "\n",
        "#definicao de k_i+1/2,j ou k_i,j+1/2 obtido atraves da media\n",
        "def k_meio(i,j,ind,sinal) :\n",
        "  '''\n",
        "  ind -> 0 -> i\n",
        "  ind -> 1 -> j,\n",
        "  '''\n",
        "\n",
        "  '''\n",
        "  sinal -> True -> +1\n",
        "  sinal -> False -> -1,\n",
        "  '''\n",
        "\n",
        "  #buscar o tipo derme, musculo, gordura, tumor\n",
        "  ktp1 = int(busca(i,j))\n",
        "  ktp2 = int(busca(i,j))\n",
        "\n",
        "  #tratar fronteira\n",
        "  if(ind==0 and i==50 and sinal==True):\n",
        "    return (2*k[ktp1]*k[ktp2])/(k[ktp1]+k[ktp2])\n",
        "\n",
        "  elif(ind==0 and i==0 and sinal==False):\n",
        "    return (2*k[ktp1]*k[ktp2])/(k[ktp1]+k[ktp2])\n",
        "\n",
        "  elif(ind==1 and j==100 and sinal==True):\n",
        "    return (2*k[ktp1]*k[ktp2])/(k[ktp1]+k[ktp2])\n",
        "\n",
        "  elif(ind==1 and j==0 and sinal==False):\n",
        "    return (2*k[ktp1]*k[ktp2])/(k[ktp1]+k[ktp2])\n",
        "\n",
        "  elif(ind==0 and sinal==True) :\n",
        "    ktp2 = int(busca(i+1,j))\n",
        "    return (2*k[ktp1]*k[ktp2])/(k[ktp1]+k[ktp2])\n",
        "\n",
        "  elif(ind==0 and sinal==False) :\n",
        "    ktp2 = int(busca(i-1,j))\n",
        "    return (2*k[ktp1]*k[ktp2])/(k[ktp1]+k[ktp2])\n",
        "\n",
        "  elif(ind==1 and sinal==True) :\n",
        "    ktp2 = int(busca(i,j+1))\n",
        "    return (2*k[ktp1]*k[ktp2])/(k[ktp1]+k[ktp2])\n",
        "\n",
        "  elif(ind==1 and sinal==False) :\n",
        "    ktp2 = int(busca(i,j-1))\n",
        "    return (2*k[ktp1]*k[ktp2])/(k[ktp1]+k[ktp2])"
      ],
      "metadata": {
        "id": "SQE9dq5Szw51"
      },
      "execution_count": null,
      "outputs": []
    },
    {
      "cell_type": "markdown",
      "source": [
        "\\begin{equation*}\n",
        "  \\text{Temos que, reorganizando a equação separamos aonde a variavel } T_{i,j}\n",
        "  \\text { para o lado esquerdo da equação, e aonde não consta para o lado direito, então obtemos: }\n",
        "\\end{equation*}\n",
        "\n",
        "Lado direito da equação, chamamos de f\n",
        "\n",
        "\\begin{equation*}\n",
        "  f_{i,j} = -Qm_{i,j} - Wb_{i,j}C_bT_a\n",
        "\\end{equation*}\n",
        "\n",
        "Assim de forma encontramos a equação:\n",
        "\n",
        "\\begin{equation*}\n",
        "  T_{i,j} = \\frac{-h^2f_{i,j} + k_{i+\\frac{1}{2},j}T_{i+1,j} + k_{i-\\frac{1}{2},j}T_{i-1,j} + k_{i,j+\\frac{1}{2}}T_{i,j+1} + k_{i,j-\\frac{1}{2}}T_{i,j-1}}{k_{i+\\frac{1}{2},j} + k_{i-\\frac{1}{2}} + k_{i,j+\\frac{1}{2}} + k_{i,j-\\frac{1}{2}} + Wb_{i,j}C_bh^2}\n",
        "\\end{equation*}"
      ],
      "metadata": {
        "id": "yJH-ASggHYPg"
      }
    },
    {
      "cell_type": "markdown",
      "source": [
        "Implementação utilizando Jacobi:"
      ],
      "metadata": {
        "id": "w47Oo6kAmBhz"
      }
    },
    {
      "cell_type": "code",
      "source": [
        "#vetor solução\n",
        "u=np.ones((len(x),len(y)))*37.0 #chute inicial\n",
        "u_new=np.ones((len(x),len(y)))*37.0\n",
        "\n",
        "#funçao do lado direito f\n",
        "f = np.zeros((len(x),len(y)))\n",
        "\n",
        "Ta = 37.0\n",
        "\n",
        "error_max = 1e-6 #erro para convergencia\n",
        "\n",
        "from tqdm import tqdm\n",
        "\n",
        "while (kit<k_max and error > error_max): #metodo de jacob\n",
        "  for i in range(len(x)):\n",
        "    for j in range(len(y)):\n",
        "      #TODAS AS RELAÇÕES COM PONTOS FICTICIOS\n",
        "      # uijp = 2*h*u_c+u[i,len(y)-1] if j==len(y)-1 else u[i,j+1]\n",
        "      # uijm = 2*h*u_a+u[i,1] if j==0 else u[i,j-1]\n",
        "      # uipj = 2*h*u_d+u[tam-1,j] if i==tam-1 else u[i+1,j]\n",
        "      # uimj = 2*h*u_b+u[1,j] if i==0 else u[i-1,j]\n",
        "\n",
        "      k_ip = k_meio(i,j,0,True) #ki+1/2\n",
        "      k_im = k_meio(i,j,0,False) #ki-1/2\n",
        "      k_jp = k_meio(i,j,1,True) #ki,j+1/2\n",
        "      k_jm = k_meio(i,j,1,False) #ki,j-1/2\n",
        "      #k_ip = k_im = k_jm = k_jp = 0.5\n",
        "\n",
        "\n",
        "      #para tratar do tipo Dirichlet, devemos atribuir diretamente no ponto (x_i,y_j)\n",
        "      if (i==0):\n",
        "        u_new[i,j] = u_a\n",
        "      else:\n",
        "        #Tradando condicoes de contorno do tipo Neumann\n",
        "        uijp = 2*h*u_c+u[i,len(y)-2] if j==len(y)-1 else u[i,j+1]\n",
        "        uimj = 2*h*u_b+u[1,j] if i==0 else u[i-1,j]\n",
        "        uipj = 2*h*u_d+u[tam-2,j] if i==tam-1 else u[i+1,j]\n",
        "\n",
        "        uijm = u[i,j-1]\n",
        "\n",
        "        f[i,j] = -(qm[int(busca(i,j))] + w_b(u[i][j])[int(busca(i,j))]*cb*Ta)\n",
        "        u_new[i,j] = (k_ip*uipj + k_im*uimj + k_jp*uijp + k_jm*uijm - f[i,j]*h**2)/( k_ip+ k_im + k_jp + k_jm + w_b(u[i][j])[int(busca(i,j))]*cb*(h**2))\n",
        "\n",
        "  error = np.linalg.norm(u_new-u, np.inf)/np.linalg.norm(u_new, np.inf)\n",
        "  kit=kit+1\n",
        "  u = np.copy(u_new)\n",
        "\n",
        "\n",
        "# x, y = np.meshgrid(x, y)\n",
        "\n",
        "# np.savetxt(\"vetor solucao\",u)\n",
        "# plt.imshow(u)"
      ],
      "metadata": {
        "id": "L4UrNJk-KLJJ"
      },
      "execution_count": null,
      "outputs": []
    },
    {
      "cell_type": "code",
      "source": [
        "print(u)\n",
        "\n",
        "print(kit, error)\n",
        "fig = plt.figure()\n",
        "plt.xlabel('x-axis (m)')\n",
        "plt.ylabel('Temperatura (°C)')\n",
        "plt.ylabel('z-axis (m)')\n",
        "plt.imshow(np.transpose(u), vmin = 37.0, vmax = 37.65, cmap = 'rainbow', interpolation = 'nearest', origin = 'lower', extent=[0,0.05,0,0.1])\n",
        "plt.colorbar(label = 'Temperatura (°C)')\n",
        "plt.show()"
      ],
      "metadata": {
        "colab": {
          "base_uri": "https://localhost:8080/",
          "height": 790
        },
        "id": "IQz7kmYe94Gf",
        "outputId": "9cf7c188-7e99-4fed-9502-b88b17cc51b3"
      },
      "execution_count": null,
      "outputs": [
        {
          "output_type": "stream",
          "name": "stdout",
          "text": [
            "[[37.         37.         37.         ... 37.         37.\n",
            "  37.        ]\n",
            " [37.0152249  37.0152287  37.01524166 ... 37.01524857 37.01523553\n",
            "  37.01523166]\n",
            " [37.02958265 37.02959026 37.0296162  ... 37.02962999 37.02960391\n",
            "  37.02959617]\n",
            " ...\n",
            " [37.23162014 37.23172981 37.23209979 ... 37.23229068 37.23191975\n",
            "  37.2318094 ]\n",
            " [37.23177504 37.23188476 37.23225491 ... 37.23244582 37.23207474\n",
            "  37.23196434]\n",
            " [37.23183976 37.23194955 37.23231977 ... 37.23251059 37.23213944\n",
            "  37.23202901]]\n",
            "1178 9.97290858638165e-07\n"
          ]
        },
        {
          "output_type": "display_data",
          "data": {
            "text/plain": [
              "<Figure size 800x600 with 2 Axes>"
            ],
            "image/png": "[encoded data removed]"
          },
          "metadata": {}
        }
      ]
    },
    {
      "cell_type": "markdown",
      "source": [
        "Para o resolver o problema utilizando o método de Gauss-Seidal, utilizamos o seguinte tipo de descretização:\n",
        "\n",
        "\\begin{equation*}\n",
        "  -ru^{n+1}_{i-1} + (1 + 2r)u^{n+1}_i - ru^{n+1}_{i+1} = ru^n_{i-1} + (1 - 2r)u^n_i + ru^n\n",
        "_{i+1} , \\\\\n",
        "  \\text {onde } r = \\frac{kh}{2h^2}\n",
        "\\end{equation*}\n",
        "\n",
        "\\begin{equation*}\n",
        "  u^{n+1}_{i,j} = (ru^n_{i-1,j} + 2(1 - 2r)u^n_i + ru^n_{i+1} + ru^{n+1}_{i+1} + u^{n+1}_i-1)/(1 + 2r)\n",
        "\\end{equation*}"
      ],
      "metadata": {
        "id": "lQBG1q0nmK4G"
      }
    },
    {
      "cell_type": "code",
      "source": [
        "#vetor solução\n",
        "u=np.ones((len(x),len(y)))*37.0 #chute inicial\n",
        "\n",
        "u_n = np.copy(u)\n",
        "kit=0\n",
        "error = 1\n",
        "\n",
        "while (kit<k_max and error > error_max): #loop da iteraçao de Gauss-Seidel\n",
        "    u_old = np.copy(u)\n",
        "    for i in range(len(x)): #loop sobre os pontos do espaço\n",
        "      for j in range(len(y)):\n",
        "        #para tratar do tipo Dirichlet, devemos atribuir diretamente no ponto (x_i,y_j)\n",
        "        if (i==0):\n",
        "          u_new[i,j] = u_a\n",
        "        else:\n",
        "          #Tradando condicoes de contorno do tipo Neumann\n",
        "          uijp = 2*h*u_c+u[i,len(y)-2] if j==len(y)-1 else u[i,j+1]\n",
        "          uimj = 2*h*u_b+u[1,j] if i==0 else u[i-1,j]\n",
        "          uipj = 2*h*u_d+u[tam-2,j] if i==tam-1 else u[i+1,j]\n",
        "\n",
        "          uijm = u[i,j-1]\n",
        "\n",
        "          f[i,j] = -(qm[int(busca(i,j))] + w_b(u[i][j])[int(busca(i,j))]*cb*Ta)\n",
        "          u[i,j] = (k_ip*uipj + k_im*uimj + k_jp*uijp + k_jm*uijm - f[i,j]*h**2)/( k_ip+ k_im + k_jp + k_jm + w_b(u[i][j])[int(busca(i,j))]*cb*(h**2))\n",
        "          #u[i,j] = ((r*u_n[i-1] + (1-2*r)*u_n[i]+ r*u_n[i+1]) + (r*u[i-1] + r*u[i+1]))/(1+2*r)\n",
        "\n",
        "    error = np.linalg.norm(u-u_old, np.inf)/np.linalg.norm(u, np.inf)\n",
        "    kit=kit+1\n"
      ],
      "metadata": {
        "id": "h13EcChUgzEK"
      },
      "execution_count": null,
      "outputs": []
    },
    {
      "cell_type": "code",
      "source": [
        "\n",
        "print(u)\n",
        "\n",
        "print(kit, error)\n",
        "fig = plt.figure()\n",
        "plt.xlabel('x-axis (m)')\n",
        "plt.ylabel('Temperatura (°C)')\n",
        "plt.ylabel('z-axis (m)')\n",
        "plt.imshow(np.transpose(u), vmin = 37.0, vmax = 37.65, cmap = 'rainbow', interpolation = 'nearest', origin = 'lower', extent=[0,0.05,0,0.1])\n",
        "plt.colorbar(label = 'Temperatura (°C)')\n",
        "plt.show()"
      ],
      "metadata": {
        "id": "xdVgzO1YHqpd",
        "outputId": "31c89b01-9c04-4f1b-d870-a5b1771e1294",
        "colab": {
          "base_uri": "https://localhost:8080/",
          "height": 790
        }
      },
      "execution_count": null,
      "outputs": [
        {
          "output_type": "stream",
          "name": "stdout",
          "text": [
            "[[37.         37.         37.         ... 37.         37.\n",
            "  37.        ]\n",
            " [37.0152249  37.0152287  37.01524166 ... 37.01524857 37.01523553\n",
            "  37.01523166]\n",
            " [37.02958265 37.02959026 37.0296162  ... 37.02962999 37.02960391\n",
            "  37.02959617]\n",
            " ...\n",
            " [37.23162014 37.23172981 37.23209979 ... 37.23229068 37.23191975\n",
            "  37.2318094 ]\n",
            " [37.23177504 37.23188476 37.23225491 ... 37.23244582 37.23207474\n",
            "  37.23196434]\n",
            " [37.23183976 37.23194955 37.23231977 ... 37.23251059 37.23213944\n",
            "  37.23202901]]\n",
            "1178 9.97290858638165e-07\n"
          ]
        },
        {
          "output_type": "display_data",
          "data": {
            "text/plain": [
              "<Figure size 800x600 with 2 Axes>"
            ],
            "image/png": "[encoded data removed]"
          },
          "metadata": {}
        }
      ]
    }
  ]
}