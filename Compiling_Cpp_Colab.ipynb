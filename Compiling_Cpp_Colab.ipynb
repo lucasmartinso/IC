{
  "nbformat": 4,
  "nbformat_minor": 0,
  "metadata": {
    "colab": {
      "provenance": [],
      "include_colab_link": true
    },
    "kernelspec": {
      "name": "python3",
      "display_name": "Python 3"
    },
    "language_info": {
      "name": "python"
    }
  },
  "cells": [
    {
      "cell_type": "markdown",
      "metadata": {
        "id": "view-in-github",
        "colab_type": "text"
      },
      "source": [
        "<a href=\"https://colab.research.google.com/github/lucasmartinso/IC/blob/main/Compiling_Cpp_Colab.ipynb\" target=\"_parent\"><img src=\"https://colab.research.google.com/assets/colab-badge.svg\" alt=\"Open In Colab\"/></a>"
      ]
    },
    {
      "cell_type": "markdown",
      "source": [
        "## **Simulações numéricas 3D em GPUs de hipertermia com nanopartículas por um modelo de bioaquecimento não linear**\n",
        "\n",
        "Nome: Lucas Martins Oliveira"
      ],
      "metadata": {
        "id": "7y40cz7uOq3P"
      }
    },
    {
      "cell_type": "markdown",
      "source": [
        "Equação a ser modelada:\n",
        "\n",
        "\\begin{equation*}\n",
        "  \\begin{cases}\n",
        "    \\displaystyle \\nabla \\cdot k \\nabla T + w_b c_b(T_a - T) + Q_m + Q_r = \\rho c \\frac{\\partial T}{\\partial t} \\text{ para } \\Omega\\\\\\\\\n",
        "    \\displaystyle k \\nabla T \\cdot\\vec{n} = 0 \\text{ para } \\partial \\Omega_{N_{B,C,D}}\\\\\\\\\n",
        "    \\displaystyle T  = 37 \\text{ para } \\partial \\Omega_{D_A}\\\\\\\\\n",
        "    \\displaystyle T(.,0) = 37\n",
        "  \\end{cases}\n",
        "\\end{equation*}\n",
        "\n",
        "\\begin{equation*}\n",
        "  \\text { onde } T : \\Omega \\times  I \\rightarrow \\mathbb{R^+} \\text { representa o campo de temperatura do tecido } \\\\\n",
        "  p,c : \\Omega \\times  I \\rightarrow \\mathbb{R^+} \\text { representa densidade  e o calor específico  do tecido, respectivamente } \\\\\n",
        "  p_b, c_b : \\Omega \\times  I \\rightarrow \\mathbb{R^+} \\text { representa densidade e o calor específico do sangue, respectivamente } \\\\\n",
        "  k : \\Omega \\times  I \\rightarrow \\mathbb{R^+} \\text { na qual a condutividade térmica é considerada isotrópica, mas não homogênea } \\\\\n",
        "  w_b:  \\Omega \\times {R^+} \\times  I \\rightarrow \\mathbb{R^+} \\text { taxa de perfusão sanguínea } \\\\\n",
        "  T_a \\text {: temperatura arterial } \\\\\n",
        "  Q_m : \\Omega \\times  I \\rightarrow \\mathbb{R^+} \\text { representa a geração de calor metabólico } \\\\\n",
        "  f : \\Omega \\times  I \\rightarrow \\mathbb{R^+} \\text { temperatura prescrita(Dirichelet) ou fluxo (Neumann ou Robin)} \\\\\n",
        "  \\alpha , \\beta : \\Omega \\times  I \\rightarrow \\mathbb{R^+} \\text { sendo o vetor normal unitário } \\\\\n",
        "  Q_r : \\Omega \\times  I \\rightarrow \\mathbb{R^+} \\text { é o calor externo gerado pelas nanopartículas } \\\\\n",
        "\\end{equation*}"
      ],
      "metadata": {
        "id": "-0Fg_WW-OwpZ"
      }
    },
    {
      "cell_type": "markdown",
      "source": [
        "Inicialmente definimos o dominio, em questão"
      ],
      "metadata": {
        "id": "QoGbNEG_PKC-"
      }
    },
    {
      "cell_type": "code",
      "source": [
        "%%writefile dominio.h\n",
        "\n",
        "#ifndef DOMINIO_H\n",
        "#define DOMINIO_H\n",
        "\n",
        "class Dominio {\n",
        "  private:\n",
        "    int tamX, tamY;\n",
        "    float h;\n",
        "    float *x;\n",
        "    float *y;\n",
        "\n",
        "  public:\n",
        "    Dominio(float passo, int tamx, int tamy);\n",
        "    ~Dominio();\n",
        "    void setX();\n",
        "    void setY();\n",
        "    float getX(int indice);\n",
        "    float getY(int indice);\n",
        "};\n",
        "\n",
        "#endif //DOMINIO_H"
      ],
      "metadata": {
        "colab": {
          "base_uri": "https://localhost:8080/"
        },
        "id": "d0PlvPgOga0G",
        "outputId": "3c1de0de-4f3f-48f6-dea7-27420b048293"
      },
      "execution_count": null,
      "outputs": [
        {
          "output_type": "stream",
          "name": "stdout",
          "text": [
            "Writing dominio.h\n"
          ]
        }
      ]
    },
    {
      "cell_type": "code",
      "source": [
        "%%writefile dominio.cpp\n",
        "\n",
        "#include <iostream>\n",
        "using namespace std;\n",
        "\n",
        "#include \"dominio.h\"\n",
        "\n",
        "Dominio::Dominio(float passo, int tamx, int tamy) {\n",
        "  h = passo;\n",
        "  tamX = tamx;\n",
        "  tamY = tamy;\n",
        "  x = new float[tamX];\n",
        "  y = new float[tamY];\n",
        "}\n",
        "\n",
        "Dominio::~Dominio() {\n",
        "  delete [] x;\n",
        "  delete [] y;\n",
        "}\n",
        "\n",
        "void Dominio::setX() {\n",
        "  for(int i=0; i<tamX; i++) {\n",
        "      x[i] = i*h;\n",
        "  }\n",
        "}\n",
        "\n",
        "void Dominio::setY() {\n",
        "  for(int i=0; i<tamY; i++) {\n",
        "      y[i] = i*h;\n",
        "  }\n",
        "}\n",
        "\n",
        "float Dominio::getX(int indice) {\n",
        "  if(indice < tamX)\n",
        "  {\n",
        "    return x[indice];\n",
        "  }\n",
        "  else\n",
        "  {\n",
        "    cout << \"INDICE INVALIDO\" << endl;\n",
        "    exit(1);\n",
        "  }\n",
        "}\n",
        "\n",
        "float Dominio::getY(int indice) {\n",
        "  if(indice < tamY)\n",
        "  {\n",
        "    return y[indice];\n",
        "  }\n",
        "  else\n",
        "  {\n",
        "    cout << \"INDICE INVALIDO\" << endl;\n",
        "    exit(1);\n",
        "  }\n",
        "}"
      ],
      "metadata": {
        "colab": {
          "base_uri": "https://localhost:8080/"
        },
        "id": "8qrBe-qWj690",
        "outputId": "86627194-f76b-4fb6-ff18-d63d1741e733"
      },
      "execution_count": null,
      "outputs": [
        {
          "output_type": "stream",
          "name": "stdout",
          "text": [
            "Writing dominio.cpp\n"
          ]
        }
      ]
    },
    {
      "cell_type": "markdown",
      "source": [
        "Assim modelamos agora as regiões do nosso espaço em questão que é divida em 4:\n",
        "\n",
        "\n",
        "---\n",
        "\n",
        "\n",
        "\n",
        "0.   Derme\n",
        "1.   Gordura\n",
        "2.   Músculo\n",
        "3.   Tumor\n",
        "\n",
        "\n",
        "\n",
        "---\n",
        "\n",
        "\n",
        "\n"
      ],
      "metadata": {
        "id": "q3JGpUC2Yvdz"
      }
    },
    {
      "cell_type": "code",
      "source": [
        "%%writefile tecidos.h\n",
        "\n",
        "#ifndef TECIDOS_H\n",
        "#define TECIDOS_H\n",
        "\n",
        "class Tecidos {\n",
        "  private:\n",
        "    int *tecidosHumanos;\n",
        "    int tamX;\n",
        "    int tamY;\n",
        "    int detInd(int i, int j);\n",
        "\n",
        "  public:\n",
        "    Tecidos(int tamx, int tamy);\n",
        "    ~Tecidos();\n",
        "    void set();\n",
        "    int busca(int i, int j);\n",
        "    void salvaMatriz();\n",
        "};\n",
        "\n",
        "#endif //TECIDOS_H"
      ],
      "metadata": {
        "colab": {
          "base_uri": "https://localhost:8080/"
        },
        "outputId": "cc03385f-7e4e-44e1-f96e-2dccc5aeb313",
        "id": "W_Yz-iCyQ3Ti"
      },
      "execution_count": null,
      "outputs": [
        {
          "output_type": "stream",
          "name": "stdout",
          "text": [
            "Writing tecidos.h\n"
          ]
        }
      ]
    },
    {
      "cell_type": "code",
      "source": [
        "%%writefile tecidos.cpp\n",
        "\n",
        "#include <iostream>\n",
        "using namespace std;\n",
        "\n",
        "#include <fstream>\n",
        "#include <vector>\n",
        "\n",
        "#include \"tecidos.h\"\n",
        "\n",
        "Tecidos::Tecidos(int tamx, int tamy) {\n",
        "  tamX = tamx;\n",
        "  tamY = tamy;\n",
        "  tecidosHumanos = new int[tamX*tamY];\n",
        "}\n",
        "\n",
        "Tecidos::~Tecidos() {\n",
        "  delete [] tecidosHumanos;\n",
        "}\n",
        "\n",
        "int Tecidos::detInd(int i, int j) {\n",
        "  if(i<tamX && j<tamY)\n",
        "  {\n",
        "    return tamY*i + j;\n",
        "  }\n",
        "  else\n",
        "  {\n",
        "    cout << \"INDICE INVALIDO\" << endl;\n",
        "    exit(1);\n",
        "  }\n",
        "}\n",
        "\n",
        "void Tecidos::set() {\n",
        "  for(int i=0; i<tamX; i++) {\n",
        "     for(int j=0; j<tamY; j++) {\n",
        "        if((i>(19) && i<(45) && j>(37) && j<(63)))\n",
        "        {\n",
        "          //tumor esfera de raio 13mm -> consideramos um quadrado nessa abordagem\n",
        "          //centro (20,50)mm\n",
        "          tecidosHumanos[detInd(i,j)] = 3;\n",
        "        }\n",
        "        else if(i<2)\n",
        "        {\n",
        "          //derme 2mm\n",
        "          tecidosHumanos[detInd(i,j)] = 0;\n",
        "        }\n",
        "        else if(i<12)\n",
        "        {\n",
        "          //adiposo\n",
        "          tecidosHumanos[detInd(i,j)] = 1;\n",
        "        }\n",
        "        else\n",
        "        {\n",
        "          //musculo\n",
        "          tecidosHumanos[detInd(i,j)] = 2;\n",
        "        }\n",
        "     }\n",
        "  }\n",
        "}\n",
        "\n",
        "int Tecidos::busca(int i, int j) {\n",
        "  if(i < tamX && j < tamY)\n",
        "  {\n",
        "    return tecidosHumanos[detInd(i,j)];\n",
        "  }\n",
        "  else\n",
        "  {\n",
        "    cout << \"INDICE INVALIDO\" << endl;\n",
        "    exit(1);\n",
        "  }\n",
        "}\n",
        "\n",
        "void Tecidos::salvaMatriz() {\n",
        "    // Matriz que vai receber os valores dos tecidos\n",
        "    vector<vector<int>> matriz;\n",
        "\n",
        "    // Inicializar a matriz que vai ser salva com elementos\n",
        "    matriz.resize(tamX);\n",
        "    for (int i = 0; i < tamX; i++) {\n",
        "      matriz[i].resize(tamY);\n",
        "      for (int j = 0; j < tamY; j++) {\n",
        "        matriz[i][j] =  busca(i,j);\n",
        "      }\n",
        "    }\n",
        "\n",
        "    // Salvar a matriz de tecidos em um arquivo para ser importada posteriormente\n",
        "    ofstream arquivo(\"matriz.txt\");\n",
        "    if (arquivo.is_open()) {\n",
        "      for (const auto& linha : matriz) {\n",
        "        for (const auto& elemento : linha) {\n",
        "          arquivo << elemento << \" \";\n",
        "        }\n",
        "        arquivo << \"\\n\";\n",
        "      }\n",
        "      arquivo.close();\n",
        "      cout << \"C++: Matriz salva em matriz.txt\" << endl;\n",
        "    } else {\n",
        "      cerr << \"C++: Erro ao abrir o arquivo\" << endl;\n",
        "    }\n",
        "}"
      ],
      "metadata": {
        "colab": {
          "base_uri": "https://localhost:8080/"
        },
        "outputId": "8762c1d4-f50b-4470-ada7-8e87eb928ac8",
        "id": "GJ8LD-F3RhYM"
      },
      "execution_count": null,
      "outputs": [
        {
          "output_type": "stream",
          "name": "stdout",
          "text": [
            "Writing tecidos.cpp\n"
          ]
        }
      ]
    },
    {
      "cell_type": "markdown",
      "source": [
        "A geração de calor metabólico varia de acordo com a região tratada, temos assim então:\n",
        "\n",
        "\\begin{equation*}\n",
        "  Q_{m_{muscle}} = Q_{m_{fat}} = Q_{m_{dermis}} = 420.0 \\\\\n",
        "  Q_{m_{tumor}} = 4200.0\n",
        "\\end{equation*}"
      ],
      "metadata": {
        "id": "EtO7bpzrX92c"
      }
    },
    {
      "cell_type": "markdown",
      "source": [
        "Temos que a condutividade térmica varia de acordo com o tecido, assim obtemos a seguintes relações:\n",
        "\n",
        "\\begin{equation*}\n",
        "  k_{dermis} = 0.40\\\\\n",
        "  k_{fat} = 0.21\\\\\n",
        "  k_{muscle} = 0.45\\\\\n",
        "  k_{tumor} = 0.55\\\\\n",
        "\\end{equation*}"
      ],
      "metadata": {
        "id": "fe-hntH2VXff"
      }
    },
    {
      "cell_type": "markdown",
      "source": [
        "A densidade dos tecidos são diferentes uma das outras, dessa forma definimos para a mesma a seguinte variação:\n",
        "\n",
        "\\begin{equation*}\n",
        "  \\rho_{dermis} = 1200\\\\\n",
        "  \\rho_{fat} = 1000\\\\\n",
        "  \\rho_{muscle} = 1000\\\\\n",
        "  \\rho_{tumor} = 1000\\\\\n",
        "\\end{equation*}"
      ],
      "metadata": {
        "id": "ooTSR8GGWuaI"
      }
    },
    {
      "cell_type": "markdown",
      "source": [
        "O calor específico dos tecidos são diferentes um dos outros, dessa forma definimos para a mesma a seguinte variação:\n",
        "\n",
        "\\begin{equation*}\n",
        "  c_{dermis} = 3600\\\\\n",
        "  c_{fat} = 2500\\\\\n",
        "  c_{muscle} = 3800\\\\\n",
        "  c_{tumor} = 4200\\\\\n",
        "\\end{equation*}"
      ],
      "metadata": {
        "id": "kZAMPceZXmt0"
      }
    },
    {
      "cell_type": "markdown",
      "source": [
        "A taxa de perfusão sanguínea varia de acordo com o tecido e com a temperatura que esse se encontra, dessa forma temos que:\n",
        "\n",
        "\\begin{equation*}\n",
        "  W_{dermis} = 0.5 \\\\\n",
        "  W_{fat} =\n",
        "    \\begin{cases}\n",
        "      \\displaystyle 0.36 + 0.36exp(-\\frac{(T-45.0)^2}{12.0}) \\text { para } T \\leq 45.0 \\\\\\\\\n",
        "      0.72 \\text { para } T>45.0\n",
        "    \\end{cases} \\\\\n",
        "  W_{muscle} =\n",
        "    \\begin{cases}\n",
        "      \\displaystyle 0.45 + 3.55exp(-\\frac{(T-45.0)^2}{12.0}) \\text { para } T \\leq 45.0 \\\\\\\\\n",
        "      4.0 \\text { para } T>45.0\n",
        "    \\end{cases} \\\\\n",
        "    W_{tumor} =\n",
        "    \\begin{cases}\n",
        "      \\displaystyle 0.833 -\\frac{(T-37.0)^{4.8}}{5.438E+3} \\text { para } 37.0 \\leq T \\leq 42.0 \\\\\\\\\n",
        "      0.416 \\text { para } T>42.0\n",
        "    \\end{cases} \\\\\n",
        "\\end{equation*}"
      ],
      "metadata": {
        "id": "ZjRrOiDB6f6s"
      }
    },
    {
      "cell_type": "code",
      "source": [
        "%%writefile variaveis.h\n",
        "\n",
        "#ifndef VARIAVEIS_H\n",
        "#define VARIAVEIS_H\n",
        "\n",
        "class Variaveis {\n",
        "  private:\n",
        "   float *qm;\n",
        "   float *k;\n",
        "   float *w;\n",
        "   float *p;\n",
        "   float *c;\n",
        "\n",
        "  public:\n",
        "    Variaveis();\n",
        "    ~Variaveis();\n",
        "    void setQm();\n",
        "    void setK();\n",
        "    void setP();\n",
        "    void setC();\n",
        "    void setW();\n",
        "    float getQm(int tecido);\n",
        "    float* getK();\n",
        "    float getP(int tecido);\n",
        "    float getC(int tecido);\n",
        "    float getW(int tecido, float temp);\n",
        "};\n",
        "\n",
        "#endif //VARIAVEIS_H"
      ],
      "metadata": {
        "colab": {
          "base_uri": "https://localhost:8080/"
        },
        "outputId": "6852c47e-56fc-4b80-8ac1-3a7a90c04464",
        "id": "h47g2uv-ll69"
      },
      "execution_count": null,
      "outputs": [
        {
          "output_type": "stream",
          "name": "stdout",
          "text": [
            "Writing variaveis.h\n"
          ]
        }
      ]
    },
    {
      "cell_type": "code",
      "source": [
        "%%writefile variaveis.cpp\n",
        "\n",
        "#include <iostream>\n",
        "#include <cmath>\n",
        "using namespace std;\n",
        "\n",
        "#include \"variaveis.h\"\n",
        "\n",
        "Variaveis::Variaveis() {\n",
        "  qm = new float[4];\n",
        "  k = new float[4];\n",
        "  w = new float[4];\n",
        "  p = new float[4];\n",
        "  c = new float[4];\n",
        "}\n",
        "\n",
        "Variaveis::~Variaveis() {\n",
        "  delete [] qm;\n",
        "  delete [] k;\n",
        "  delete [] w;\n",
        "  delete [] p;\n",
        "  delete [] c;\n",
        "}\n",
        "\n",
        "void Variaveis::setQm() {\n",
        "  for(int i=0; i<4; i++) {\n",
        "    i==3 ? qm[i]=4200 : qm[i]=420;\n",
        "  }\n",
        "}\n",
        "\n",
        "void Variaveis::setK() {\n",
        "  k[0] = 0.4;\n",
        "  k[1] = 0.21;\n",
        "  k[2] = 0.45;\n",
        "  k[3] = 0.55;\n",
        "}\n",
        "\n",
        "void Variaveis::setP() {\n",
        "  for(int i=0; i<4; i++) {\n",
        "    i==0 ? p[i]=1200 : p[i]=1000;\n",
        "  }\n",
        "}\n",
        "\n",
        "void Variaveis::setC() {\n",
        "  c[0] = 3600;\n",
        "  c[1] = 2500;\n",
        "  c[2] = 3800;\n",
        "  c[3] = 4200;\n",
        "}\n",
        "\n",
        "void Variaveis::setW() {\n",
        "  w[0] = 0.5;\n",
        "  w[1] = 4.0;\n",
        "  w[2] = 0.72;\n",
        "  w[3] = 0.416;\n",
        "}\n",
        "\n",
        "float Variaveis::getQm(int tecido) {\n",
        "  if(tecido <= 3 && tecido >=0)\n",
        "    return qm[tecido];\n",
        "  else {\n",
        "    cout << \"INDICE INVALIDO\" << endl;\n",
        "    exit(1);\n",
        "  }\n",
        "}\n",
        "\n",
        "float* Variaveis::getK() {\n",
        "  return k;\n",
        "}\n",
        "\n",
        "float Variaveis::getP(int tecido) {\n",
        "  if(tecido <= 3 && tecido >=0)\n",
        "    return p[tecido];\n",
        "  else {\n",
        "    cout << \"INDICE INVALIDO\" << endl;\n",
        "    exit(1);\n",
        "  }\n",
        "}\n",
        "\n",
        "float Variaveis::getC(int tecido) {\n",
        "  if(tecido <= 3 && tecido >=0)\n",
        "    return c[tecido];\n",
        "  else {\n",
        "    cout << \"INDICE INVALIDO\" << endl;\n",
        "    exit(1);\n",
        "  }\n",
        "}\n",
        "\n",
        "float Variaveis::getW(int tecido, float temp) {\n",
        "  if(tecido == 0)\n",
        "    return w[0];\n",
        "  else if(tecido == 1)\n",
        "    return temp > 45.0 ? w[1] : ( 0.36 + 0.36*exp(-pow(temp - 45, 2)/12));\n",
        "  else if(tecido == 2)\n",
        "    return temp > 45.0 ? w[2] : ( 0.45 + 3.55*exp(-pow(temp - 45, 2)/12));\n",
        "  else if(tecido == 3)\n",
        "    return temp > 42.0 ? w[3] : ( 0.833 - (pow(temp-37, 4.8)/5438));\n",
        "  else {\n",
        "    cout << \"INDICE INVÁLIDO\" << endl;\n",
        "    exit(1);\n",
        "  }\n",
        "}"
      ],
      "metadata": {
        "colab": {
          "base_uri": "https://localhost:8080/"
        },
        "outputId": "6620ce53-e038-419c-8cff-b50aea8e8f8a",
        "id": "_RsiZj-CnPXa"
      },
      "execution_count": null,
      "outputs": [
        {
          "output_type": "stream",
          "name": "stdout",
          "text": [
            "Writing variaveis.cpp\n"
          ]
        }
      ]
    },
    {
      "cell_type": "markdown",
      "source": [
        "\\begin{equation*}\n",
        "  \\text{Temos que, reorganizando a equação separamos aonde a variavel } T_{i,j}\n",
        "  \\text { para o lado esquerdo da equação, e aonde não consta para o lado direito, então obtemos: }\n",
        "\\end{equation*}\n",
        "\n",
        "Lado direito da equação, chamamos de f\n",
        "\n",
        "\\begin{equation*}\n",
        "  f_{i,j} = -Q_{m_{i,j}} - W_{b_{i,j}}C_bT_a\n",
        "\\end{equation*}\n",
        "\n",
        "Assim de forma encontramos a equação:\n",
        "\n",
        "\\begin{equation*}\n",
        "  T_{i,j} = \\frac{-h^2f_{i,j} + k_{i+\\frac{1}{2},j}T_{i+1,j} + k_{i-\\frac{1}{2},j}T_{i-1,j} + k_{i,j+\\frac{1}{2}}T_{i,j+1} + k_{i,j-\\frac{1}{2}}T_{i,j-1}}{k_{i+\\frac{1}{2},j} + k_{i-\\frac{1}{2}} + k_{i,j+\\frac{1}{2}} + k_{i,j-\\frac{1}{2}} + W_{b_{i,j}}C_bh^2}\n",
        "\\end{equation*}"
      ],
      "metadata": {
        "id": "yJH-ASggHYPg"
      }
    },
    {
      "cell_type": "markdown",
      "source": [
        "Assim temos que a condutividade térmica, pode ser calculada usando o método do ponto do médio, então:\n",
        "\\begin{equation*}\n",
        "  k_{i+\\frac{1}{2},j} \\approx \\frac{2k_{i,j}k_{i+1,j}}{k_{i,j}+k_{i+1,j}}\n",
        "\\end{equation*}"
      ],
      "metadata": {
        "id": "Iik5OLkO2ilZ"
      }
    },
    {
      "cell_type": "code",
      "source": [
        "%%writefile jacobi.h\n",
        "\n",
        "#ifndef JACOBI_H\n",
        "#define JACOBI_H\n",
        "\n",
        "#include <string>\n",
        "\n",
        "#include \"tecidos.h\"\n",
        "#include \"variaveis.h\"\n",
        "\n",
        "class Jacobi {\n",
        "  private:\n",
        "    float *sol; //vetor solucao\n",
        "    float *u; //passo anterior ao da solucao (necessario para resolver o problema)\n",
        "    float *f; //lado direito da funcao\n",
        "    int tamX;\n",
        "    int tamY;\n",
        "    int detInd(int i, int j);\n",
        "\n",
        "  public:\n",
        "    Jacobi(int tamx, int tamy);\n",
        "    ~Jacobi();\n",
        "    void setU(int ci);\n",
        "    float getKmeio(int i, int j, string cond, char cord, Tecidos *t, float *ks); //cond == plus or minus\n",
        "    void resolucao(float cb, float Ta, Tecidos *t, Variaveis *var, float h);\n",
        "    void salvaMatriz(float *mat);\n",
        "};\n",
        "\n",
        "#endif //JACOBI_H"
      ],
      "metadata": {
        "colab": {
          "base_uri": "https://localhost:8080/"
        },
        "outputId": "ee6e92b8-b2bd-45b1-f4fc-e93519099cdd",
        "id": "xM5g9zxepFV4"
      },
      "execution_count": null,
      "outputs": [
        {
          "output_type": "stream",
          "name": "stdout",
          "text": [
            "Writing jacobi.h\n"
          ]
        }
      ]
    },
    {
      "cell_type": "code",
      "source": [
        "%%writefile jacobi.cpp\n",
        "\n",
        "#include <iostream>\n",
        "#include <cmath>\n",
        "using namespace std;\n",
        "#include <string>\n",
        "#include <fstream>\n",
        "#include <vector>\n",
        "\n",
        "#include \"jacobi.h\"\n",
        "#include \"tecidos.h\"\n",
        "#include \"variaveis.h\"\n",
        "\n",
        "Jacobi::Jacobi(int tamx, int tamy) {\n",
        "  tamX = tamx;\n",
        "  tamY = tamy;\n",
        "\n",
        "  sol = new float[tamx*tamy];\n",
        "  u = new float[tamx*tamy];\n",
        "  f = new float[tamx*tamy];\n",
        "}\n",
        "\n",
        "Jacobi::~Jacobi() {\n",
        "  delete [] f;\n",
        "  delete [] u;\n",
        "  delete [] sol;\n",
        "}\n",
        "\n",
        "int Jacobi::detInd(int i, int j) {\n",
        "   if(i<tamX && j<tamY)\n",
        "  {\n",
        "    return tamY*i + j;\n",
        "  }\n",
        "  else\n",
        "  {\n",
        "    cout << \"INDICE INVALIDO\" << endl;\n",
        "    exit(1);\n",
        "  }\n",
        "}\n",
        "\n",
        "void Jacobi::setU(int ci) {\n",
        "  //ci == chute inicial\n",
        "\n",
        "  for(int i=0; i<tamX; i++) {\n",
        "    for(int j=0; j<tamY; j++) {\n",
        "      u[detInd(i,j)] = 37;\n",
        "    }\n",
        "  }\n",
        "}\n",
        "\n",
        "void Jacobi::salvaMatriz(float *mat) {\n",
        "    // Matriz que vai receber os valores dos tecidos\n",
        "    vector<vector<float>> final;\n",
        "\n",
        "    // Inicializar a final que vai ser salva com elementos\n",
        "    final.resize(tamX);\n",
        "    for (int i = 0; i < tamX; i++) {\n",
        "      final[i].resize(tamY);\n",
        "      for (int j = 0; j < tamY; j++) {\n",
        "        final[i][j] =  mat[detInd(i,j)];\n",
        "      }\n",
        "    }\n",
        "\n",
        "    // Salvar a final de tecidos em um arquivo para ser importada posteriormente\n",
        "    ofstream arquivo(\"final.txt\");\n",
        "    if (arquivo.is_open()) {\n",
        "      for (const auto& linha : final) {\n",
        "        for (const auto& elemento : linha) {\n",
        "          arquivo << elemento << \" \";\n",
        "        }\n",
        "        arquivo << \"\\n\";\n",
        "      }\n",
        "      arquivo.close();\n",
        "      cout << \"C++: Matriz salva em matriz.txt\" << endl;\n",
        "    } else {\n",
        "      cerr << \"C++: Erro ao abrir o arquivo\" << endl;\n",
        "    }\n",
        "}\n",
        "\n",
        "float Jacobi::getKmeio(int i, int j, string cond, char cord, Tecidos *t, float *ks) {\n",
        "  //media harmonica\n",
        "\n",
        "  float kij = ks[t->busca(i,j)]; //vai ser usado em todos os casos\n",
        "\n",
        "  //fronteira\n",
        "  float fronteira = 2*kij*kij / (kij+kij);\n",
        "  if(i<tamX && j<tamY) {\n",
        "\n",
        "    if( ((i==0 && cord=='i') || (j==0 && cord=='j')) && cond==\"minus\" )\n",
        "      return fronteira;\n",
        "    else if( ((i==tamX-1 && cord=='i') || (j==tamY-1 && cord=='j')) && cond==\"plus\")\n",
        "      return fronteira;\n",
        "    else if(cond==\"plus\" && cord=='i')\n",
        "    {\n",
        "      float kipj = ks[t->busca(i+1,j)];\n",
        "      return 2*kij*kipj / (kij + kipj);\n",
        "    }\n",
        "    else if(cond==\"minus\" && cord=='i')\n",
        "    {\n",
        "      float kimj = ks[t->busca(i-1,j)];\n",
        "      return 2*kij*kimj / (kij + kimj);\n",
        "    }\n",
        "    else if(cond==\"plus\" && cord=='j')\n",
        "    {\n",
        "      float kijp = ks[t->busca(i+1,j)];\n",
        "      return 2*kij*kijp / (kij + kijp);\n",
        "    }\n",
        "    else\n",
        "    {\n",
        "      float kijm = ks[t->busca(i,j-1)];\n",
        "      return 2*kij*kijm / (kij + kijm);\n",
        "    }\n",
        "\n",
        "  } else {\n",
        "    cout << \"INDICE INVALIDO\" << endl;\n",
        "    exit(1);\n",
        "  }\n",
        "\n",
        "}\n",
        "\n",
        "void Jacobi::resolucao(float cb, float Ta, Tecidos *t, Variaveis *var, float h) {\n",
        "  //Condicoes de Contorno\n",
        "  float u_a = 37.0; //dirichelet esquerdo -> T0\n",
        "  int u_b = 0; //neumann topo\n",
        "  int u_c = 0; //neumann direito\n",
        "  int u_d = 0; //neumann base\n",
        "\n",
        "  int kit=0;\n",
        "  int k_max = 10000; //numero maximo de iteraçoes do metodo\n",
        "  float error= 1;\n",
        "  float error_max = 1*pow(10,-6); //erro para convergencia\n",
        "\n",
        "  while (kit<k_max && error > error_max) { //metodo de jacob\n",
        "    for(int i=0; i<tamX; i++) {\n",
        "      for(int j=0; j<tamY; j++) {\n",
        "         float k_ip = 0.5; //getKmeio(i, j, \"plus\", 'i', t, var->getK());\n",
        "         float k_im = 0.5; //getKmeio(i, j, \"minus\", 'i', t, var->getK());\n",
        "         float k_jp = 0.5; //getKmeio(i, j, \"plus\", 'j', t, var->getK());\n",
        "         float k_jm = 0.5; //getKmeio(i, j, \"minus\", 'j', t, var->getK());\n",
        "\n",
        "        //para tratar do tipo Dirichlet, devemos atribuir diretamente no ponto (x_i,y_j)\n",
        "        if (i==0)\n",
        "          sol[detInd(i,j)] = u_a;\n",
        "        else {\n",
        "          //Tradando condicoes de contorno do tipo Neumann\n",
        "          float uijp;\n",
        "          float uimj;\n",
        "          float uipj;\n",
        "          float uijm;\n",
        "\n",
        "          uipj = i==tamX-1 ? 2*h*u_c+u[detInd(tamX-2,j)]: u[detInd(i+1,j)];\n",
        "          uimj = i==0 ? 2*h*u_a+u[detInd(1,j)] : u[detInd(i-1,j)];\n",
        "          uijp = j==tamY-1 ? 2*h*u_d+u[detInd(i,tamY-2)]  : u[detInd(i,j+1)];\n",
        "          uijm = j==0 ? 2*h*u_b+u[detInd(i,1)] : u[detInd(i,j-1)];\n",
        "\n",
        "          int indice = t->busca(i,j);\n",
        "\n",
        "          f[detInd(i,j)] = -(var->getQm(indice) + var->getW(indice, u[detInd(i,j)])*cb*Ta);\n",
        "          sol[detInd(i,j)] = (k_ip*uipj + k_im*uimj + k_jp*uijp + k_jm*uijm - f[detInd(i,j)]*pow(h,2)) / ( k_ip+ k_im + k_jp + k_jm + var->getW(indice, u[detInd(i,j)])*cb*pow(h,2));\n",
        "        }\n",
        "      }\n",
        "    }\n",
        "    kit=kit+1;\n",
        "\n",
        "    for(int i=0; i<tamX; i++) {\n",
        "      for(int j=0; j<tamY; j++) {\n",
        "        u[detInd(i,j)] = sol[detInd(i,j)];\n",
        "      }\n",
        "    }\n",
        "  }\n",
        "\n",
        "  for(int i=0; i<tamX; i++) {\n",
        "      for(int j=0; j<tamY; j++) {\n",
        "        cout << u[detInd(i,j)] << \", \";\n",
        "      }\n",
        "      cout << endl;\n",
        "  }\n",
        "\n",
        "  salvaMatriz(u);\n",
        "}"
      ],
      "metadata": {
        "colab": {
          "base_uri": "https://localhost:8080/"
        },
        "outputId": "5b88d2c1-20b8-4a7f-d14b-606500d23800",
        "id": "Dn1pTlCyqFLI"
      },
      "execution_count": null,
      "outputs": [
        {
          "output_type": "stream",
          "name": "stdout",
          "text": [
            "Overwriting jacobi.cpp\n"
          ]
        }
      ]
    },
    {
      "cell_type": "code",
      "execution_count": null,
      "metadata": {
        "colab": {
          "base_uri": "https://localhost:8080/"
        },
        "id": "nqMDOQAKGS56",
        "outputId": "cbd0cda6-d148-491f-efa4-6773e48e982b"
      },
      "outputs": [
        {
          "output_type": "stream",
          "name": "stdout",
          "text": [
            "Overwriting main.cpp\n"
          ]
        }
      ],
      "source": [
        "%%writefile main.cpp\n",
        "#include <iostream>\n",
        "using namespace std;\n",
        "#include <string>\n",
        "\n",
        "#include \"dominio.h\"\n",
        "#include \"tecidos.h\"\n",
        "#include \"variaveis.h\"\n",
        "#include \"jacobi.h\"\n",
        "\n",
        "\n",
        "int main()\n",
        "{\n",
        "    float h = 0.001; // 0.1/(101-1);\n",
        "    int tamX = 51;\n",
        "    int tamY = 101;\n",
        "\n",
        "    Dominio *dom = new Dominio(h, tamX, tamY);\n",
        "    dom->setX();\n",
        "    dom->setY();\n",
        "\n",
        "    Tecidos *humano = new Tecidos(tamX, tamY);\n",
        "    humano->set();\n",
        "    humano->salvaMatriz();\n",
        "\n",
        "    Variaveis *var = new Variaveis;\n",
        "    var->setQm();\n",
        "    var->setK();\n",
        "    var->setP();\n",
        "    var->setC();\n",
        "    var->setW();\n",
        "\n",
        "    int cb = 4200; //calor especifico do sangue (constante)\n",
        "    int Ta = 37; //temperatura inicial (constante)\n",
        "\n",
        "    cout << humano->busca(tamX-1,tamY-1) << endl;\n",
        "\n",
        "    Jacobi solucao(tamX, tamY);\n",
        "    solucao.setU(Ta);\n",
        "    solucao.resolucao(cb, Ta, humano, var, h);\n",
        "\n",
        "    return 0;\n",
        "}"
      ]
    },
    {
      "cell_type": "code",
      "source": [
        "!g++ dominio.cpp \\\n",
        "  tecidos.cpp \\\n",
        "  variaveis.cpp \\\n",
        "  jacobi.cpp \\\n",
        "  main.cpp \\\n",
        "  -o hyperthermia"
      ],
      "metadata": {
        "id": "g6KKYe_rGuAs"
      },
      "execution_count": null,
      "outputs": []
    },
    {
      "cell_type": "code",
      "source": [
        "!./hyperthermia"
      ],
      "metadata": {
        "colab": {
          "base_uri": "https://localhost:8080/"
        },
        "id": "SqoQmduWHDyf",
        "outputId": "024cfd8b-ce2d-4ba4-fb58-89e0a8eedd34"
      },
      "execution_count": null,
      "outputs": [
        {
          "output_type": "stream",
          "name": "stdout",
          "text": [
            "C++: Matriz salva em matriz.txt\n",
            "2\n",
            "37, 37, 37, 37, 37, 37, 37, 37, 37, 37, 37, 37, 37, 37, 37, 37, 37, 37, 37, 37, 37, 37, 37, 37, 37, 37, 37, 37, 37, 37, 37, 37, 37, 37, 37, 37, 37, 37, 37, 37, 37, 37, 37, 37, 37, 37, 37, 37, 37, 37, 37, 37, 37, 37, 37, 37, 37, 37, 37, 37, 37, 37, 37, 37, 37, 37, 37, 37, 37, 37, 37, 37, 37, 37, 37, 37, 37, 37, 37, 37, 37, 37, 37, 37, 37, 37, 37, 37, 37, 37, 37, 37, 37, 37, 37, 37, 37, 37, 37, 37, 37, \n",
            "37.0151, 37.0151, 37.0151, 37.0151, 37.0152, 37.0152, 37.0152, 37.0153, 37.0154, 37.0155, 37.0156, 37.0157, 37.0158, 37.0159, 37.016, 37.0162, 37.0163, 37.0165, 37.0167, 37.0169, 37.0171, 37.0173, 37.0176, 37.0178, 37.0181, 37.0184, 37.0187, 37.019, 37.0193, 37.0196, 37.02, 37.0203, 37.0207, 37.021, 37.0214, 37.0218, 37.0221, 37.0225, 37.0228, 37.0231, 37.0234, 37.0237, 37.024, 37.0242, 37.0244, 37.0246, 37.0248, 37.0249, 37.025, 37.025, 37.0251, 37.025, 37.025, 37.0249, 37.0248, 37.0246, 37.0244, 37.0242, 37.024, 37.0237, 37.0234, 37.0231, 37.0228, 37.0225, 37.0221, 37.0218, 37.0214, 37.021, 37.0207, 37.0203, 37.02, 37.0196, 37.0193, 37.019, 37.0187, 37.0184, 37.0181, 37.0178, 37.0176, 37.0173, 37.0171, 37.0169, 37.0167, 37.0165, 37.0163, 37.0162, 37.016, 37.0159, 37.0158, 37.0157, 37.0156, 37.0155, 37.0154, 37.0153, 37.0152, 37.0152, 37.0152, 37.0151, 37.0151, 37.0151, 37.0151, \n",
            "37.0294, 37.0294, 37.0294, 37.0295, 37.0295, 37.0296, 37.0297, 37.0298, 37.03, 37.0301, 37.0303, 37.0305, 37.0307, 37.031, 37.0313, 37.0316, 37.0319, 37.0322, 37.0326, 37.033, 37.0334, 37.0339, 37.0344, 37.0349, 37.0354, 37.036, 37.0366, 37.0372, 37.0379, 37.0385, 37.0392, 37.0399, 37.0406, 37.0413, 37.0421, 37.0428, 37.0435, 37.0442, 37.0449, 37.0455, 37.0461, 37.0467, 37.0473, 37.0477, 37.0482, 37.0485, 37.0489, 37.0491, 37.0493, 37.0494, 37.0494, 37.0494, 37.0493, 37.0491, 37.0488, 37.0485, 37.0482, 37.0477, 37.0473, 37.0467, 37.0461, 37.0455, 37.0449, 37.0442, 37.0435, 37.0428, 37.0421, 37.0413, 37.0406, 37.0399, 37.0392, 37.0385, 37.0379, 37.0372, 37.0366, 37.036, 37.0354, 37.0349, 37.0344, 37.0339, 37.0334, 37.033, 37.0326, 37.0322, 37.0319, 37.0316, 37.0313, 37.031, 37.0307, 37.0305, 37.0303, 37.0301, 37.03, 37.0298, 37.0297, 37.0296, 37.0295, 37.0295, 37.0294, 37.0294, 37.0294, \n",
            "37.0429, 37.0429, 37.043, 37.043, 37.0431, 37.0433, 37.0434, 37.0436, 37.0438, 37.044, 37.0443, 37.0446, 37.045, 37.0453, 37.0457, 37.0462, 37.0467, 37.0472, 37.0478, 37.0484, 37.049, 37.0497, 37.0504, 37.0512, 37.052, 37.0529, 37.0538, 37.0547, 37.0557, 37.0567, 37.0577, 37.0587, 37.0598, 37.0609, 37.062, 37.0631, 37.0642, 37.0652, 37.0663, 37.0673, 37.0682, 37.0691, 37.0699, 37.0706, 37.0713, 37.0718, 37.0723, 37.0727, 37.0729, 37.0731, 37.0732, 37.0731, 37.0729, 37.0727, 37.0723, 37.0718, 37.0713, 37.0706, 37.0699, 37.0691, 37.0682, 37.0673, 37.0663, 37.0652, 37.0642, 37.0631, 37.062, 37.0609, 37.0598, 37.0588, 37.0577, 37.0567, 37.0557, 37.0547, 37.0538, 37.0529, 37.052, 37.0512, 37.0504, 37.0497, 37.049, 37.0484, 37.0478, 37.0472, 37.0467, 37.0462, 37.0457, 37.0453, 37.045, 37.0446, 37.0443, 37.044, 37.0438, 37.0436, 37.0434, 37.0433, 37.0431, 37.043, 37.043, 37.0429, 37.0429, \n",
            "37.0557, 37.0557, 37.0558, 37.0559, 37.056, 37.0562, 37.0564, 37.0566, 37.0569, 37.0572, 37.0576, 37.058, 37.0584, 37.0589, 37.0595, 37.0601, 37.0607, 37.0614, 37.0622, 37.063, 37.0638, 37.0648, 37.0657, 37.0668, 37.0679, 37.069, 37.0702, 37.0715, 37.0728, 37.0741, 37.0755, 37.0769, 37.0784, 37.0798, 37.0813, 37.0828, 37.0842, 37.0857, 37.0871, 37.0884, 37.0897, 37.0909, 37.092, 37.093, 37.0938, 37.0946, 37.0952, 37.0957, 37.0961, 37.0963, 37.0964, 37.0963, 37.0961, 37.0957, 37.0952, 37.0946, 37.0938, 37.093, 37.092, 37.0909, 37.0897, 37.0884, 37.0871, 37.0857, 37.0842, 37.0828, 37.0813, 37.0798, 37.0784, 37.0769, 37.0755, 37.0741, 37.0728, 37.0715, 37.0702, 37.069, 37.0679, 37.0668, 37.0657, 37.0648, 37.0638, 37.063, 37.0622, 37.0614, 37.0607, 37.0601, 37.0595, 37.0589, 37.0584, 37.058, 37.0576, 37.0572, 37.0569, 37.0566, 37.0564, 37.0562, 37.056, 37.0559, 37.0558, 37.0557, 37.0557, \n",
            "37.0678, 37.0678, 37.0679, 37.068, 37.0682, 37.0684, 37.0686, 37.0689, 37.0693, 37.0697, 37.0701, 37.0707, 37.0712, 37.0718, 37.0725, 37.0733, 37.0741, 37.075, 37.0759, 37.0769, 37.078, 37.0791, 37.0803, 37.0816, 37.083, 37.0844, 37.086, 37.0875, 37.0892, 37.0909, 37.0926, 37.0944, 37.0963, 37.0981, 37.1, 37.1019, 37.1038, 37.1056, 37.1074, 37.1091, 37.1107, 37.1122, 37.1136, 37.1149, 37.116, 37.117, 37.1178, 37.1184, 37.1189, 37.1191, 37.1192, 37.1191, 37.1189, 37.1184, 37.1178, 37.117, 37.116, 37.1149, 37.1136, 37.1122, 37.1107, 37.1091, 37.1074, 37.1056, 37.1038, 37.1019, 37.1, 37.0982, 37.0963, 37.0945, 37.0927, 37.0909, 37.0892, 37.0876, 37.086, 37.0845, 37.083, 37.0816, 37.0804, 37.0791, 37.078, 37.0769, 37.0759, 37.075, 37.0741, 37.0733, 37.0725, 37.0718, 37.0712, 37.0707, 37.0701, 37.0697, 37.0693, 37.0689, 37.0686, 37.0684, 37.0682, 37.068, 37.0679, 37.0678, 37.0678, \n",
            "37.0792, 37.0793, 37.0793, 37.0795, 37.0797, 37.0799, 37.0802, 37.0806, 37.081, 37.0815, 37.082, 37.0826, 37.0833, 37.0841, 37.0849, 37.0858, 37.0868, 37.0878, 37.0889, 37.0901, 37.0914, 37.0928, 37.0943, 37.0959, 37.0975, 37.0993, 37.1011, 37.103, 37.105, 37.1071, 37.1092, 37.1114, 37.1136, 37.1159, 37.1182, 37.1205, 37.1228, 37.125, 37.1272, 37.1293, 37.1313, 37.1331, 37.1349, 37.1364, 37.1378, 37.139, 37.14, 37.1408, 37.1413, 37.1417, 37.1418, 37.1417, 37.1413, 37.1408, 37.14, 37.139, 37.1378, 37.1364, 37.1349, 37.1331, 37.1313, 37.1293, 37.1272, 37.125, 37.1228, 37.1205, 37.1182, 37.1159, 37.1136, 37.1114, 37.1092, 37.1071, 37.105, 37.103, 37.1011, 37.0993, 37.0975, 37.0959, 37.0943, 37.0928, 37.0914, 37.0901, 37.0889, 37.0878, 37.0868, 37.0858, 37.0849, 37.0841, 37.0833, 37.0826, 37.082, 37.0815, 37.081, 37.0806, 37.0802, 37.0799, 37.0797, 37.0795, 37.0793, 37.0793, 37.0792, \n",
            "37.09, 37.09, 37.0901, 37.0903, 37.0905, 37.0908, 37.0912, 37.0916, 37.0921, 37.0926, 37.0933, 37.094, 37.0948, 37.0956, 37.0966, 37.0976, 37.0988, 37.1, 37.1013, 37.1027, 37.1043, 37.1059, 37.1076, 37.1094, 37.1114, 37.1134, 37.1156, 37.1179, 37.1202, 37.1227, 37.1252, 37.1278, 37.1305, 37.1332, 37.1359, 37.1387, 37.1414, 37.1441, 37.1467, 37.1492, 37.1516, 37.1538, 37.1559, 37.1577, 37.1594, 37.1608, 37.162, 37.1629, 37.1636, 37.164, 37.1641, 37.164, 37.1636, 37.1629, 37.162, 37.1608, 37.1594, 37.1577, 37.1559, 37.1538, 37.1516, 37.1492, 37.1467, 37.1441, 37.1414, 37.1387, 37.1359, 37.1332, 37.1305, 37.1278, 37.1252, 37.1227, 37.1202, 37.1179, 37.1156, 37.1134, 37.1114, 37.1095, 37.1076, 37.1059, 37.1043, 37.1027, 37.1013, 37.1, 37.0988, 37.0976, 37.0966, 37.0956, 37.0948, 37.094, 37.0933, 37.0926, 37.0921, 37.0916, 37.0911, 37.0908, 37.0905, 37.0903, 37.0901, 37.09, 37.09, \n",
            "37.1001, 37.1002, 37.1003, 37.1005, 37.1007, 37.1011, 37.1015, 37.1019, 37.1025, 37.1031, 37.1039, 37.1047, 37.1056, 37.1066, 37.1077, 37.1089, 37.1102, 37.1116, 37.1131, 37.1147, 37.1164, 37.1183, 37.1203, 37.1224, 37.1246, 37.127, 37.1295, 37.1321, 37.1349, 37.1377, 37.1407, 37.1437, 37.1468, 37.15, 37.1532, 37.1564, 37.1596, 37.1628, 37.1658, 37.1688, 37.1716, 37.1743, 37.1767, 37.1789, 37.1808, 37.1825, 37.1839, 37.185, 37.1858, 37.1863, 37.1865, 37.1863, 37.1858, 37.185, 37.1839, 37.1825, 37.1809, 37.1789, 37.1767, 37.1743, 37.1716, 37.1688, 37.1658, 37.1628, 37.1596, 37.1564, 37.1532, 37.15, 37.1468, 37.1437, 37.1407, 37.1377, 37.1349, 37.1321, 37.1295, 37.127, 37.1247, 37.1224, 37.1203, 37.1183, 37.1165, 37.1147, 37.1131, 37.1116, 37.1102, 37.1089, 37.1077, 37.1066, 37.1056, 37.1047, 37.1039, 37.1031, 37.1025, 37.1019, 37.1015, 37.101, 37.1007, 37.1005, 37.1003, 37.1002, 37.1001, \n",
            "37.1097, 37.1097, 37.1098, 37.1101, 37.1103, 37.1107, 37.1112, 37.1117, 37.1123, 37.1131, 37.1139, 37.1148, 37.1158, 37.1169, 37.1181, 37.1195, 37.1209, 37.1225, 37.1242, 37.1261, 37.128, 37.1301, 37.1324, 37.1348, 37.1373, 37.14, 37.1429, 37.1458, 37.149, 37.1522, 37.1556, 37.1591, 37.1627, 37.1664, 37.1701, 37.1738, 37.1776, 37.1812, 37.1848, 37.1882, 37.1915, 37.1946, 37.1974, 37.2, 37.2023, 37.2043, 37.2059, 37.2072, 37.2081, 37.2086, 37.2088, 37.2086, 37.2081, 37.2072, 37.2059, 37.2043, 37.2023, 37.2, 37.1974, 37.1946, 37.1915, 37.1883, 37.1848, 37.1812, 37.1776, 37.1738, 37.1701, 37.1664, 37.1627, 37.1591, 37.1556, 37.1522, 37.149, 37.1459, 37.1429, 37.14, 37.1373, 37.1348, 37.1324, 37.1301, 37.128, 37.1261, 37.1242, 37.1225, 37.1209, 37.1195, 37.1181, 37.1169, 37.1158, 37.1148, 37.1139, 37.113, 37.1123, 37.1117, 37.1111, 37.1107, 37.1103, 37.11, 37.1098, 37.1097, 37.1097, \n",
            "37.1186, 37.1187, 37.1188, 37.119, 37.1194, 37.1198, 37.1203, 37.1209, 37.1216, 37.1224, 37.1233, 37.1243, 37.1254, 37.1267, 37.128, 37.1295, 37.1311, 37.1329, 37.1348, 37.1368, 37.139, 37.1414, 37.1439, 37.1466, 37.1494, 37.1525, 37.1557, 37.159, 37.1626, 37.1663, 37.1701, 37.1741, 37.1782, 37.1824, 37.1867, 37.191, 37.1952, 37.1995, 37.2036, 37.2076, 37.2114, 37.215, 37.2182, 37.2212, 37.2238, 37.2261, 37.228, 37.2294, 37.2305, 37.2311, 37.2313, 37.2311, 37.2305, 37.2294, 37.228, 37.2261, 37.2238, 37.2212, 37.2182, 37.215, 37.2114, 37.2076, 37.2036, 37.1995, 37.1952, 37.191, 37.1867, 37.1824, 37.1782, 37.1741, 37.1701, 37.1663, 37.1626, 37.159, 37.1557, 37.1525, 37.1494, 37.1466, 37.1439, 37.1414, 37.139, 37.1368, 37.1348, 37.1329, 37.1311, 37.1295, 37.128, 37.1267, 37.1254, 37.1243, 37.1233, 37.1224, 37.1216, 37.1209, 37.1203, 37.1198, 37.1194, 37.119, 37.1188, 37.1187, 37.1186, \n",
            "37.127, 37.1271, 37.1272, 37.1275, 37.1278, 37.1283, 37.1288, 37.1295, 37.1302, 37.1311, 37.1321, 37.1332, 37.1345, 37.1358, 37.1373, 37.139, 37.1408, 37.1427, 37.1448, 37.147, 37.1495, 37.1521, 37.1548, 37.1578, 37.161, 37.1644, 37.1679, 37.1717, 37.1757, 37.1798, 37.1841, 37.1886, 37.1933, 37.1981, 37.2029, 37.2078, 37.2127, 37.2176, 37.2223, 37.2269, 37.2313, 37.2354, 37.2392, 37.2426, 37.2456, 37.2482, 37.2503, 37.252, 37.2532, 37.2539, 37.2542, 37.2539, 37.2532, 37.252, 37.2503, 37.2482, 37.2456, 37.2426, 37.2392, 37.2354, 37.2313, 37.2269, 37.2224, 37.2176, 37.2127, 37.2078, 37.2029, 37.1981, 37.1933, 37.1886, 37.1841, 37.1798, 37.1757, 37.1717, 37.1679, 37.1644, 37.161, 37.1578, 37.1549, 37.1521, 37.1495, 37.147, 37.1448, 37.1427, 37.1407, 37.139, 37.1373, 37.1358, 37.1344, 37.1332, 37.1321, 37.1311, 37.1302, 37.1295, 37.1288, 37.1283, 37.1278, 37.1275, 37.1272, 37.1271, 37.127, \n",
            "37.1349, 37.1349, 37.1351, 37.1354, 37.1357, 37.1362, 37.1368, 37.1375, 37.1384, 37.1393, 37.1404, 37.1416, 37.143, 37.1444, 37.1461, 37.1479, 37.1498, 37.1519, 37.1542, 37.1567, 37.1593, 37.1622, 37.1652, 37.1685, 37.172, 37.1757, 37.1797, 37.1838, 37.1882, 37.1929, 37.1977, 37.2028, 37.208, 37.2134, 37.2189, 37.2245, 37.2301, 37.2356, 37.2411, 37.2463, 37.2513, 37.256, 37.2603, 37.2642, 37.2677, 37.2706, 37.273, 37.2749, 37.2763, 37.2771, 37.2774, 37.2771, 37.2763, 37.2749, 37.273, 37.2706, 37.2677, 37.2642, 37.2603, 37.256, 37.2514, 37.2464, 37.2411, 37.2356, 37.2301, 37.2245, 37.2189, 37.2134, 37.208, 37.2028, 37.1977, 37.1929, 37.1883, 37.1838, 37.1797, 37.1757, 37.172, 37.1685, 37.1652, 37.1622, 37.1593, 37.1567, 37.1542, 37.1519, 37.1498, 37.1479, 37.1461, 37.1444, 37.1429, 37.1416, 37.1404, 37.1393, 37.1383, 37.1375, 37.1368, 37.1362, 37.1357, 37.1353, 37.1351, 37.1349, 37.1349, \n",
            "37.1423, 37.1424, 37.1425, 37.1428, 37.1432, 37.1438, 37.1444, 37.1452, 37.1461, 37.1471, 37.1483, 37.1496, 37.151, 37.1526, 37.1544, 37.1563, 37.1584, 37.1607, 37.1632, 37.1659, 37.1688, 37.1719, 37.1752, 37.1788, 37.1826, 37.1867, 37.191, 37.1957, 37.2005, 37.2057, 37.211, 37.2167, 37.2226, 37.2286, 37.2348, 37.2412, 37.2476, 37.2539, 37.2601, 37.2661, 37.2719, 37.2772, 37.2821, 37.2866, 37.2905, 37.2938, 37.2965, 37.2987, 37.3002, 37.3012, 37.3015, 37.3012, 37.3002, 37.2987, 37.2965, 37.2938, 37.2905, 37.2866, 37.2822, 37.2772, 37.2719, 37.2662, 37.2601, 37.2539, 37.2476, 37.2412, 37.2349, 37.2286, 37.2226, 37.2167, 37.2111, 37.2057, 37.2005, 37.1957, 37.1911, 37.1867, 37.1827, 37.1788, 37.1752, 37.1719, 37.1688, 37.1659, 37.1632, 37.1607, 37.1584, 37.1563, 37.1544, 37.1526, 37.151, 37.1496, 37.1483, 37.1471, 37.1461, 37.1452, 37.1444, 37.1437, 37.1432, 37.1428, 37.1425, 37.1424, 37.1423, \n",
            "37.1494, 37.1494, 37.1496, 37.1499, 37.1503, 37.1509, 37.1516, 37.1524, 37.1534, 37.1545, 37.1558, 37.1571, 37.1587, 37.1604, 37.1623, 37.1644, 37.1667, 37.1692, 37.1718, 37.1747, 37.1779, 37.1812, 37.1848, 37.1887, 37.1929, 37.1973, 37.2021, 37.2071, 37.2125, 37.2182, 37.2241, 37.2304, 37.2369, 37.2438, 37.2508, 37.2579, 37.2652, 37.2725, 37.2796, 37.2865, 37.293, 37.2991, 37.3047, 37.3097, 37.3141, 37.3179, 37.321, 37.3234, 37.3252, 37.3262, 37.3265, 37.3262, 37.3252, 37.3234, 37.321, 37.3179, 37.3142, 37.3097, 37.3047, 37.2991, 37.293, 37.2865, 37.2796, 37.2725, 37.2652, 37.258, 37.2508, 37.2438, 37.237, 37.2304, 37.2241, 37.2182, 37.2125, 37.2072, 37.2021, 37.1974, 37.1929, 37.1888, 37.1849, 37.1812, 37.1779, 37.1747, 37.1718, 37.1691, 37.1667, 37.1644, 37.1623, 37.1604, 37.1587, 37.1571, 37.1557, 37.1545, 37.1534, 37.1524, 37.1516, 37.1509, 37.1503, 37.1499, 37.1496, 37.1494, 37.1493, \n",
            "37.156, 37.1561, 37.1563, 37.1566, 37.1571, 37.1577, 37.1584, 37.1593, 37.1603, 37.1615, 37.1629, 37.1643, 37.166, 37.1679, 37.1699, 37.1721, 37.1746, 37.1772, 37.1801, 37.1832, 37.1866, 37.1902, 37.1941, 37.1983, 37.2028, 37.2076, 37.2128, 37.2183, 37.2242, 37.2304, 37.237, 37.2439, 37.2512, 37.2588, 37.2667, 37.2748, 37.2831, 37.2914, 37.2995, 37.3074, 37.3149, 37.3219, 37.3282, 37.3339, 37.3389, 37.3431, 37.3466, 37.3493, 37.3512, 37.3524, 37.3528, 37.3524, 37.3512, 37.3493, 37.3466, 37.3431, 37.3389, 37.3339, 37.3283, 37.3219, 37.315, 37.3075, 37.2996, 37.2914, 37.2831, 37.2748, 37.2667, 37.2588, 37.2512, 37.2439, 37.237, 37.2304, 37.2242, 37.2183, 37.2128, 37.2077, 37.2028, 37.1983, 37.1941, 37.1902, 37.1866, 37.1832, 37.1801, 37.1772, 37.1745, 37.1721, 37.1699, 37.1678, 37.166, 37.1643, 37.1628, 37.1615, 37.1603, 37.1593, 37.1584, 37.1577, 37.1571, 37.1566, 37.1563, 37.1561, 37.156, \n",
            "37.1624, 37.1624, 37.1626, 37.163, 37.1635, 37.1641, 37.1649, 37.1658, 37.1669, 37.1682, 37.1696, 37.1712, 37.173, 37.1749, 37.1771, 37.1795, 37.1821, 37.1849, 37.188, 37.1913, 37.1949, 37.1988, 37.203, 37.2075, 37.2124, 37.2176, 37.2232, 37.2292, 37.2355, 37.2423, 37.2495, 37.2572, 37.2653, 37.2738, 37.2826, 37.2918, 37.3012, 37.3107, 37.3201, 37.3292, 37.3378, 37.3457, 37.3529, 37.3593, 37.3649, 37.3696, 37.3735, 37.3765, 37.3786, 37.3799, 37.3803, 37.3799, 37.3786, 37.3765, 37.3735, 37.3696, 37.3649, 37.3593, 37.3529, 37.3457, 37.3378, 37.3292, 37.3202, 37.3108, 37.3013, 37.2918, 37.2826, 37.2738, 37.2653, 37.2572, 37.2496, 37.2423, 37.2356, 37.2292, 37.2232, 37.2176, 37.2124, 37.2075, 37.203, 37.1988, 37.1949, 37.1913, 37.188, 37.1849, 37.1821, 37.1795, 37.1771, 37.1749, 37.1729, 37.1712, 37.1696, 37.1682, 37.1669, 37.1658, 37.1649, 37.1641, 37.1635, 37.163, 37.1626, 37.1624, 37.1624, \n",
            "37.1684, 37.1684, 37.1687, 37.169, 37.1695, 37.1702, 37.1711, 37.172, 37.1732, 37.1745, 37.176, 37.1777, 37.1796, 37.1817, 37.184, 37.1865, 37.1892, 37.1922, 37.1955, 37.199, 37.2029, 37.207, 37.2115, 37.2164, 37.2216, 37.2272, 37.2332, 37.2397, 37.2466, 37.254, 37.2619, 37.2702, 37.2792, 37.2886, 37.2985, 37.3089, 37.3197, 37.3306, 37.3415, 37.352, 37.3618, 37.3709, 37.379, 37.3862, 37.3924, 37.3976, 37.4019, 37.4052, 37.4076, 37.409, 37.4095, 37.409, 37.4076, 37.4052, 37.4019, 37.3976, 37.3924, 37.3862, 37.379, 37.3709, 37.3618, 37.352, 37.3415, 37.3306, 37.3197, 37.3089, 37.2985, 37.2886, 37.2792, 37.2703, 37.2619, 37.254, 37.2466, 37.2397, 37.2332, 37.2272, 37.2216, 37.2164, 37.2115, 37.2071, 37.2029, 37.199, 37.1955, 37.1922, 37.1892, 37.1865, 37.1839, 37.1816, 37.1796, 37.1777, 37.176, 37.1745, 37.1732, 37.172, 37.171, 37.1702, 37.1695, 37.169, 37.1686, 37.1684, 37.1683, \n",
            "37.174, 37.1741, 37.1743, 37.1747, 37.1753, 37.176, 37.1769, 37.1779, 37.1791, 37.1805, 37.1821, 37.1839, 37.1859, 37.1881, 37.1905, 37.1931, 37.1961, 37.1992, 37.2027, 37.2065, 37.2105, 37.215, 37.2197, 37.2249, 37.2304, 37.2364, 37.2429, 37.2498, 37.2573, 37.2653, 37.2739, 37.283, 37.2928, 37.3033, 37.3143, 37.3261, 37.3383, 37.351, 37.3638, 37.376, 37.3873, 37.3975, 37.4067, 37.4147, 37.4216, 37.4274, 37.4321, 37.4357, 37.4383, 37.4398, 37.4404, 37.4398, 37.4383, 37.4357, 37.4321, 37.4274, 37.4216, 37.4147, 37.4067, 37.3975, 37.3873, 37.376, 37.3638, 37.351, 37.3384, 37.3261, 37.3144, 37.3033, 37.2928, 37.283, 37.2739, 37.2653, 37.2573, 37.2499, 37.2429, 37.2365, 37.2305, 37.2249, 37.2197, 37.215, 37.2105, 37.2065, 37.2027, 37.1992, 37.1961, 37.1931, 37.1905, 37.188, 37.1858, 37.1839, 37.1821, 37.1805, 37.1791, 37.1779, 37.1768, 37.176, 37.1753, 37.1747, 37.1743, 37.1741, 37.174, \n",
            "37.1794, 37.1795, 37.1797, 37.1801, 37.1807, 37.1815, 37.1824, 37.1835, 37.1848, 37.1862, 37.1879, 37.1897, 37.1918, 37.1941, 37.1967, 37.1995, 37.2026, 37.2059, 37.2096, 37.2135, 37.2178, 37.2225, 37.2276, 37.233, 37.239, 37.2453, 37.2522, 37.2597, 37.2676, 37.2762, 37.2855, 37.2955, 37.3061, 37.3176, 37.3299, 37.3431, 37.3571, 37.372, 37.3873, 37.4016, 37.4145, 37.4261, 37.4363, 37.4451, 37.4527, 37.4591, 37.4642, 37.4682, 37.471, 37.4726, 37.4732, 37.4726, 37.471, 37.4682, 37.4642, 37.4591, 37.4527, 37.4451, 37.4363, 37.4261, 37.4145, 37.4016, 37.3873, 37.372, 37.3571, 37.3431, 37.3299, 37.3176, 37.3062, 37.2955, 37.2855, 37.2763, 37.2677, 37.2597, 37.2523, 37.2454, 37.239, 37.2331, 37.2276, 37.2225, 37.2178, 37.2135, 37.2096, 37.2059, 37.2026, 37.1995, 37.1967, 37.1941, 37.1918, 37.1897, 37.1879, 37.1862, 37.1847, 37.1834, 37.1824, 37.1814, 37.1807, 37.1801, 37.1797, 37.1795, 37.1794, \n",
            "37.1845, 37.1846, 37.1848, 37.1853, 37.1859, 37.1866, 37.1876, 37.1887, 37.1901, 37.1916, 37.1934, 37.1953, 37.1975, 37.1999, 37.2026, 37.2055, 37.2087, 37.2123, 37.2161, 37.2203, 37.2248, 37.2297, 37.2351, 37.2409, 37.2471, 37.2539, 37.2612, 37.2691, 37.2776, 37.2868, 37.2968, 37.3075, 37.3191, 37.3316, 37.3451, 37.3598, 37.3757, 37.3931, 37.4125, 37.4293, 37.444, 37.4569, 37.4681, 37.4779, 37.4861, 37.493, 37.4985, 37.5028, 37.5058, 37.5076, 37.5082, 37.5076, 37.5058, 37.5028, 37.4985, 37.493, 37.4861, 37.4779, 37.4681, 37.4569, 37.444, 37.4293, 37.4125, 37.3931, 37.3757, 37.3598, 37.3452, 37.3316, 37.3191, 37.3075, 37.2968, 37.2869, 37.2776, 37.2691, 37.2612, 37.2539, 37.2471, 37.2409, 37.2351, 37.2297, 37.2248, 37.2203, 37.2161, 37.2123, 37.2087, 37.2055, 37.2026, 37.1999, 37.1975, 37.1953, 37.1933, 37.1916, 37.1901, 37.1887, 37.1876, 37.1866, 37.1859, 37.1853, 37.1848, 37.1846, 37.1845, \n",
            "37.1893, 37.1894, 37.1897, 37.1901, 37.1907, 37.1915, 37.1925, 37.1937, 37.1951, 37.1967, 37.1985, 37.2006, 37.2029, 37.2054, 37.2082, 37.2113, 37.2146, 37.2183, 37.2223, 37.2267, 37.2315, 37.2366, 37.2422, 37.2483, 37.2549, 37.2621, 37.2698, 37.2781, 37.2872, 37.297, 37.3076, 37.3191, 37.3315, 37.3451, 37.3598, 37.3758, 37.3934, 37.4129, 37.4348, 37.4536, 37.47, 37.4841, 37.4964, 37.507, 37.5159, 37.5233, 37.5293, 37.5338, 37.5371, 37.539, 37.5396, 37.539, 37.5371, 37.5338, 37.5293, 37.5233, 37.5159, 37.507, 37.4964, 37.4841, 37.47, 37.4536, 37.4348, 37.4129, 37.3935, 37.3758, 37.3598, 37.3451, 37.3316, 37.3191, 37.3076, 37.297, 37.2872, 37.2782, 37.2698, 37.2621, 37.2549, 37.2483, 37.2422, 37.2366, 37.2315, 37.2267, 37.2223, 37.2183, 37.2146, 37.2113, 37.2082, 37.2054, 37.2029, 37.2006, 37.1985, 37.1967, 37.1951, 37.1937, 37.1925, 37.1915, 37.1907, 37.1901, 37.1897, 37.1894, 37.1893, \n",
            "37.1939, 37.194, 37.1942, 37.1947, 37.1953, 37.1962, 37.1972, 37.1985, 37.1999, 37.2016, 37.2035, 37.2056, 37.208, 37.2106, 37.2135, 37.2167, 37.2202, 37.224, 37.2282, 37.2328, 37.2378, 37.2432, 37.2491, 37.2554, 37.2623, 37.2698, 37.278, 37.2868, 37.2963, 37.3067, 37.3179, 37.3301, 37.3434, 37.3579, 37.3737, 37.391, 37.4101, 37.4312, 37.4548, 37.4753, 37.493, 37.5083, 37.5215, 37.5328, 37.5424, 37.5503, 37.5567, 37.5615, 37.565, 37.567, 37.5677, 37.567, 37.565, 37.5615, 37.5567, 37.5503, 37.5424, 37.5328, 37.5215, 37.5083, 37.493, 37.4753, 37.4548, 37.4312, 37.4101, 37.391, 37.3737, 37.3579, 37.3434, 37.3302, 37.3179, 37.3067, 37.2963, 37.2868, 37.278, 37.2699, 37.2624, 37.2554, 37.2491, 37.2432, 37.2378, 37.2328, 37.2282, 37.224, 37.2202, 37.2167, 37.2135, 37.2106, 37.2079, 37.2056, 37.2034, 37.2016, 37.1999, 37.1984, 37.1972, 37.1962, 37.1953, 37.1947, 37.1942, 37.1939, 37.1939, \n",
            "37.1982, 37.1983, 37.1985, 37.199, 37.1997, 37.2006, 37.2017, 37.2029, 37.2044, 37.2062, 37.2081, 37.2103, 37.2128, 37.2155, 37.2185, 37.2218, 37.2255, 37.2295, 37.2338, 37.2386, 37.2438, 37.2494, 37.2555, 37.2622, 37.2694, 37.2772, 37.2857, 37.295, 37.305, 37.3159, 37.3277, 37.3406, 37.3546, 37.37, 37.3867, 37.4052, 37.4254, 37.4479, 37.4729, 37.4946, 37.5134, 37.5297, 37.5438, 37.5558, 37.5659, 37.5743, 37.581, 37.5862, 37.5898, 37.592, 37.5927, 37.592, 37.5898, 37.5862, 37.581, 37.5743, 37.5659, 37.5558, 37.5438, 37.5297, 37.5134, 37.4946, 37.4729, 37.4479, 37.4254, 37.4052, 37.3868, 37.37, 37.3547, 37.3406, 37.3277, 37.3159, 37.305, 37.295, 37.2857, 37.2772, 37.2694, 37.2622, 37.2555, 37.2494, 37.2438, 37.2386, 37.2338, 37.2295, 37.2255, 37.2218, 37.2185, 37.2155, 37.2128, 37.2103, 37.2081, 37.2061, 37.2044, 37.2029, 37.2016, 37.2006, 37.1997, 37.199, 37.1985, 37.1982, 37.1982, \n",
            "37.2022, 37.2023, 37.2026, 37.2031, 37.2038, 37.2047, 37.2058, 37.2072, 37.2087, 37.2105, 37.2125, 37.2148, 37.2173, 37.2202, 37.2233, 37.2267, 37.2305, 37.2346, 37.2391, 37.2441, 37.2494, 37.2553, 37.2616, 37.2685, 37.2761, 37.2842, 37.2931, 37.3027, 37.3132, 37.3245, 37.3369, 37.3504, 37.3652, 37.3813, 37.3989, 37.4182, 37.4395, 37.463, 37.489, 37.5118, 37.5315, 37.5487, 37.5635, 37.5761, 37.5868, 37.5956, 37.6027, 37.6081, 37.6119, 37.6142, 37.6149, 37.6142, 37.6119, 37.6081, 37.6027, 37.5956, 37.5868, 37.5762, 37.5635, 37.5487, 37.5316, 37.5118, 37.4891, 37.463, 37.4395, 37.4182, 37.3989, 37.3813, 37.3652, 37.3505, 37.337, 37.3246, 37.3132, 37.3027, 37.2931, 37.2842, 37.2761, 37.2686, 37.2617, 37.2553, 37.2494, 37.2441, 37.2392, 37.2346, 37.2305, 37.2267, 37.2233, 37.2202, 37.2173, 37.2148, 37.2125, 37.2105, 37.2087, 37.2071, 37.2058, 37.2047, 37.2038, 37.2031, 37.2026, 37.2023, 37.2022, \n",
            "37.206, 37.2062, 37.2065, 37.207, 37.2077, 37.2086, 37.2098, 37.2111, 37.2127, 37.2146, 37.2167, 37.219, 37.2216, 37.2246, 37.2278, 37.2313, 37.2352, 37.2395, 37.2441, 37.2492, 37.2548, 37.2608, 37.2674, 37.2746, 37.2823, 37.2908, 37.3, 37.31, 37.3208, 37.3327, 37.3456, 37.3596, 37.3749, 37.3917, 37.4101, 37.4302, 37.4523, 37.4767, 37.5035, 37.5271, 37.5476, 37.5655, 37.5809, 37.5941, 37.6052, 37.6144, 37.6218, 37.6274, 37.6314, 37.6338, 37.6345, 37.6338, 37.6314, 37.6274, 37.6218, 37.6144, 37.6052, 37.5941, 37.5809, 37.5655, 37.5477, 37.5271, 37.5036, 37.4767, 37.4523, 37.4302, 37.4101, 37.3917, 37.375, 37.3596, 37.3456, 37.3327, 37.3209, 37.31, 37.3, 37.2908, 37.2823, 37.2746, 37.2674, 37.2608, 37.2548, 37.2492, 37.2442, 37.2395, 37.2352, 37.2313, 37.2278, 37.2245, 37.2216, 37.219, 37.2166, 37.2146, 37.2127, 37.2111, 37.2098, 37.2086, 37.2077, 37.207, 37.2064, 37.2061, 37.206, \n",
            "37.2097, 37.2098, 37.2101, 37.2106, 37.2113, 37.2123, 37.2135, 37.2149, 37.2165, 37.2184, 37.2206, 37.223, 37.2257, 37.2287, 37.232, 37.2357, 37.2397, 37.2441, 37.2489, 37.2541, 37.2598, 37.266, 37.2728, 37.2802, 37.2882, 37.2969, 37.3064, 37.3168, 37.328, 37.3402, 37.3536, 37.3681, 37.384, 37.4013, 37.4203, 37.4411, 37.4639, 37.4889, 37.5165, 37.5407, 37.5619, 37.5803, 37.5963, 37.6099, 37.6214, 37.6309, 37.6385, 37.6444, 37.6485, 37.651, 37.6518, 37.651, 37.6485, 37.6444, 37.6385, 37.6309, 37.6214, 37.6099, 37.5963, 37.5804, 37.5619, 37.5407, 37.5165, 37.489, 37.4639, 37.4411, 37.4203, 37.4013, 37.384, 37.3681, 37.3536, 37.3403, 37.328, 37.3168, 37.3065, 37.297, 37.2882, 37.2802, 37.2728, 37.2661, 37.2598, 37.2541, 37.2489, 37.2441, 37.2397, 37.2357, 37.232, 37.2287, 37.2257, 37.223, 37.2206, 37.2184, 37.2165, 37.2149, 37.2135, 37.2123, 37.2113, 37.2106, 37.2101, 37.2098, 37.2097, \n",
            "37.2131, 37.2132, 37.2135, 37.214, 37.2148, 37.2158, 37.217, 37.2184, 37.2201, 37.222, 37.2243, 37.2267, 37.2295, 37.2326, 37.236, 37.2397, 37.2438, 37.2484, 37.2533, 37.2587, 37.2645, 37.2709, 37.2779, 37.2855, 37.2937, 37.3027, 37.3125, 37.3231, 37.3346, 37.3472, 37.3609, 37.3759, 37.3922, 37.4101, 37.4296, 37.4509, 37.4743, 37.4999, 37.5279, 37.5527, 37.5744, 37.5933, 37.6097, 37.6237, 37.6355, 37.6453, 37.6532, 37.6592, 37.6634, 37.666, 37.6668, 37.666, 37.6634, 37.6592, 37.6532, 37.6453, 37.6355, 37.6237, 37.6097, 37.5933, 37.5744, 37.5527, 37.528, 37.4999, 37.4743, 37.4509, 37.4296, 37.4101, 37.3923, 37.3759, 37.361, 37.3472, 37.3347, 37.3231, 37.3125, 37.3027, 37.2938, 37.2855, 37.2779, 37.271, 37.2646, 37.2587, 37.2533, 37.2484, 37.2439, 37.2397, 37.236, 37.2326, 37.2295, 37.2267, 37.2242, 37.222, 37.2201, 37.2184, 37.217, 37.2158, 37.2148, 37.214, 37.2135, 37.2132, 37.2131, \n",
            "37.2163, 37.2164, 37.2167, 37.2173, 37.218, 37.219, 37.2203, 37.2217, 37.2235, 37.2255, 37.2277, 37.2302, 37.2331, 37.2362, 37.2397, 37.2436, 37.2478, 37.2524, 37.2574, 37.2629, 37.269, 37.2755, 37.2826, 37.2904, 37.2988, 37.308, 37.318, 37.3289, 37.3407, 37.3536, 37.3677, 37.383, 37.3997, 37.418, 37.4379, 37.4597, 37.4835, 37.5095, 37.538, 37.5632, 37.5853, 37.6046, 37.6213, 37.6357, 37.6478, 37.6578, 37.6658, 37.672, 37.6763, 37.6789, 37.6798, 37.6789, 37.6763, 37.672, 37.6658, 37.6578, 37.6478, 37.6357, 37.6214, 37.6046, 37.5853, 37.5632, 37.538, 37.5096, 37.4835, 37.4597, 37.4379, 37.418, 37.3997, 37.383, 37.3677, 37.3537, 37.3408, 37.3289, 37.3181, 37.3081, 37.2989, 37.2904, 37.2827, 37.2755, 37.269, 37.263, 37.2574, 37.2524, 37.2478, 37.2436, 37.2397, 37.2362, 37.2331, 37.2302, 37.2277, 37.2254, 37.2235, 37.2217, 37.2203, 37.219, 37.218, 37.2173, 37.2167, 37.2164, 37.2163, \n",
            "37.2193, 37.2194, 37.2197, 37.2203, 37.2211, 37.2221, 37.2233, 37.2249, 37.2266, 37.2286, 37.2309, 37.2335, 37.2364, 37.2397, 37.2432, 37.2471, 37.2514, 37.2561, 37.2613, 37.2669, 37.2731, 37.2797, 37.287, 37.295, 37.3036, 37.313, 37.3232, 37.3342, 37.3463, 37.3595, 37.3738, 37.3894, 37.4064, 37.425, 37.4453, 37.4674, 37.4916, 37.518, 37.5468, 37.5723, 37.5947, 37.6143, 37.6313, 37.6459, 37.6582, 37.6684, 37.6766, 37.6829, 37.6873, 37.69, 37.6908, 37.69, 37.6873, 37.6829, 37.6766, 37.6684, 37.6582, 37.6459, 37.6313, 37.6144, 37.5947, 37.5723, 37.5468, 37.518, 37.4916, 37.4674, 37.4453, 37.425, 37.4065, 37.3895, 37.3738, 37.3595, 37.3464, 37.3343, 37.3232, 37.313, 37.3036, 37.295, 37.2871, 37.2798, 37.2731, 37.2669, 37.2613, 37.2562, 37.2514, 37.2471, 37.2432, 37.2397, 37.2364, 37.2335, 37.2309, 37.2286, 37.2266, 37.2248, 37.2233, 37.2221, 37.2211, 37.2203, 37.2197, 37.2194, 37.2193, \n",
            "37.2221, 37.2222, 37.2225, 37.2231, 37.2239, 37.2249, 37.2262, 37.2278, 37.2296, 37.2316, 37.234, 37.2366, 37.2396, 37.2429, 37.2465, 37.2505, 37.2549, 37.2596, 37.2649, 37.2706, 37.2769, 37.2837, 37.2911, 37.2992, 37.3079, 37.3175, 37.3278, 37.3391, 37.3514, 37.3648, 37.3793, 37.3952, 37.4124, 37.4313, 37.4518, 37.4742, 37.4986, 37.5253, 37.5543, 37.5801, 37.6027, 37.6226, 37.6398, 37.6545, 37.667, 37.6773, 37.6857, 37.692, 37.6965, 37.6992, 37.7001, 37.6992, 37.6965, 37.692, 37.6857, 37.6774, 37.667, 37.6545, 37.6398, 37.6226, 37.6028, 37.5801, 37.5544, 37.5253, 37.4986, 37.4742, 37.4518, 37.4313, 37.4125, 37.3952, 37.3793, 37.3648, 37.3514, 37.3391, 37.3279, 37.3175, 37.3079, 37.2992, 37.2911, 37.2837, 37.2769, 37.2707, 37.2649, 37.2597, 37.2549, 37.2505, 37.2465, 37.2429, 37.2396, 37.2366, 37.234, 37.2316, 37.2296, 37.2278, 37.2262, 37.2249, 37.2239, 37.2231, 37.2225, 37.2222, 37.2221, \n",
            "37.2247, 37.2248, 37.2252, 37.2258, 37.2266, 37.2276, 37.2289, 37.2305, 37.2323, 37.2344, 37.2368, 37.2395, 37.2425, 37.2458, 37.2495, 37.2536, 37.258, 37.2629, 37.2682, 37.2741, 37.2804, 37.2873, 37.2948, 37.303, 37.3119, 37.3216, 37.3321, 37.3435, 37.3559, 37.3695, 37.3842, 37.4002, 37.4177, 37.4367, 37.4574, 37.48, 37.5046, 37.5314, 37.5607, 37.5866, 37.6094, 37.6294, 37.6467, 37.6616, 37.6742, 37.6847, 37.693, 37.6995, 37.704, 37.7067, 37.7076, 37.7067, 37.704, 37.6995, 37.693, 37.6847, 37.6742, 37.6616, 37.6467, 37.6294, 37.6094, 37.5866, 37.5607, 37.5315, 37.5046, 37.48, 37.4574, 37.4367, 37.4177, 37.4003, 37.3842, 37.3695, 37.356, 37.3435, 37.3321, 37.3216, 37.3119, 37.303, 37.2949, 37.2873, 37.2804, 37.2741, 37.2683, 37.2629, 37.258, 37.2536, 37.2495, 37.2458, 37.2425, 37.2395, 37.2368, 37.2344, 37.2323, 37.2305, 37.2289, 37.2276, 37.2266, 37.2258, 37.2252, 37.2248, 37.2247, \n",
            "37.2272, 37.2273, 37.2276, 37.2282, 37.2291, 37.2301, 37.2315, 37.2331, 37.2349, 37.237, 37.2395, 37.2422, 37.2452, 37.2486, 37.2523, 37.2565, 37.261, 37.2659, 37.2713, 37.2772, 37.2836, 37.2906, 37.2982, 37.3065, 37.3155, 37.3253, 37.3359, 37.3474, 37.36, 37.3736, 37.3885, 37.4046, 37.4222, 37.4413, 37.4622, 37.4849, 37.5096, 37.5365, 37.5659, 37.5918, 37.6148, 37.6348, 37.6523, 37.6672, 37.6799, 37.6904, 37.6988, 37.7053, 37.7099, 37.7126, 37.7135, 37.7126, 37.7099, 37.7053, 37.6988, 37.6904, 37.6799, 37.6673, 37.6523, 37.6348, 37.6148, 37.5919, 37.5659, 37.5366, 37.5096, 37.4849, 37.4622, 37.4414, 37.4222, 37.4047, 37.3885, 37.3737, 37.36, 37.3475, 37.3359, 37.3253, 37.3155, 37.3065, 37.2983, 37.2907, 37.2837, 37.2772, 37.2713, 37.2659, 37.261, 37.2565, 37.2524, 37.2486, 37.2452, 37.2422, 37.2395, 37.237, 37.2349, 37.2331, 37.2315, 37.2301, 37.2291, 37.2282, 37.2276, 37.2273, 37.2272, \n",
            "37.2295, 37.2296, 37.2299, 37.2305, 37.2314, 37.2325, 37.2338, 37.2354, 37.2373, 37.2395, 37.2419, 37.2447, 37.2478, 37.2512, 37.255, 37.2591, 37.2637, 37.2687, 37.2742, 37.2801, 37.2866, 37.2937, 37.3013, 37.3097, 37.3188, 37.3286, 37.3393, 37.3509, 37.3636, 37.3773, 37.3922, 37.4084, 37.426, 37.4452, 37.4661, 37.4889, 37.5136, 37.5406, 37.5699, 37.5959, 37.6189, 37.639, 37.6564, 37.6714, 37.6841, 37.6946, 37.7031, 37.7096, 37.7141, 37.7169, 37.7178, 37.7169, 37.7141, 37.7096, 37.7031, 37.6946, 37.6841, 37.6714, 37.6564, 37.639, 37.6189, 37.596, 37.57, 37.5406, 37.5137, 37.4889, 37.4662, 37.4453, 37.4261, 37.4084, 37.3922, 37.3773, 37.3636, 37.351, 37.3393, 37.3286, 37.3188, 37.3097, 37.3014, 37.2937, 37.2866, 37.2801, 37.2742, 37.2687, 37.2637, 37.2591, 37.255, 37.2512, 37.2478, 37.2447, 37.2419, 37.2395, 37.2373, 37.2354, 37.2338, 37.2325, 37.2314, 37.2305, 37.2299, 37.2296, 37.2295, \n",
            "37.2316, 37.2317, 37.2321, 37.2327, 37.2335, 37.2346, 37.236, 37.2376, 37.2395, 37.2417, 37.2442, 37.247, 37.2501, 37.2536, 37.2574, 37.2616, 37.2662, 37.2712, 37.2768, 37.2828, 37.2893, 37.2964, 37.3041, 37.3125, 37.3217, 37.3316, 37.3423, 37.354, 37.3666, 37.3804, 37.3953, 37.4116, 37.4292, 37.4484, 37.4693, 37.492, 37.5167, 37.5436, 37.5729, 37.5989, 37.6218, 37.6418, 37.6593, 37.6742, 37.6869, 37.6974, 37.7058, 37.7123, 37.7169, 37.7196, 37.7205, 37.7196, 37.7169, 37.7123, 37.7058, 37.6974, 37.6869, 37.6742, 37.6593, 37.6419, 37.6218, 37.5989, 37.5729, 37.5437, 37.5168, 37.492, 37.4693, 37.4484, 37.4292, 37.4116, 37.3954, 37.3804, 37.3667, 37.354, 37.3423, 37.3316, 37.3217, 37.3126, 37.3042, 37.2964, 37.2893, 37.2828, 37.2768, 37.2713, 37.2662, 37.2616, 37.2574, 37.2536, 37.2501, 37.247, 37.2442, 37.2417, 37.2395, 37.2376, 37.236, 37.2346, 37.2335, 37.2327, 37.2321, 37.2317, 37.2316, \n",
            "37.2335, 37.2337, 37.234, 37.2346, 37.2355, 37.2366, 37.238, 37.2396, 37.2416, 37.2438, 37.2463, 37.2491, 37.2522, 37.2557, 37.2596, 37.2638, 37.2685, 37.2736, 37.2791, 37.2852, 37.2917, 37.2989, 37.3067, 37.3151, 37.3242, 37.3342, 37.3449, 37.3566, 37.3693, 37.383, 37.3979, 37.4141, 37.4317, 37.4508, 37.4716, 37.4943, 37.5189, 37.5457, 37.5748, 37.6007, 37.6235, 37.6434, 37.6608, 37.6756, 37.6882, 37.6987, 37.7071, 37.7135, 37.7181, 37.7208, 37.7217, 37.7208, 37.7181, 37.7135, 37.7071, 37.6987, 37.6883, 37.6757, 37.6608, 37.6434, 37.6235, 37.6007, 37.5749, 37.5457, 37.5189, 37.4943, 37.4717, 37.4509, 37.4317, 37.4142, 37.398, 37.383, 37.3693, 37.3566, 37.345, 37.3342, 37.3243, 37.3151, 37.3067, 37.2989, 37.2918, 37.2852, 37.2791, 37.2736, 37.2685, 37.2638, 37.2596, 37.2557, 37.2522, 37.2491, 37.2463, 37.2438, 37.2416, 37.2396, 37.238, 37.2366, 37.2355, 37.2346, 37.234, 37.2337, 37.2335, \n",
            "37.2353, 37.2355, 37.2358, 37.2365, 37.2373, 37.2385, 37.2399, 37.2415, 37.2435, 37.2457, 37.2482, 37.2511, 37.2542, 37.2577, 37.2616, 37.2659, 37.2706, 37.2757, 37.2813, 37.2873, 37.2939, 37.3011, 37.3089, 37.3173, 37.3265, 37.3364, 37.3472, 37.3588, 37.3715, 37.3852, 37.4, 37.4161, 37.4336, 37.4526, 37.4732, 37.4957, 37.5201, 37.5467, 37.5757, 37.6014, 37.624, 37.6437, 37.6609, 37.6757, 37.6882, 37.6985, 37.7068, 37.7132, 37.7177, 37.7204, 37.7213, 37.7204, 37.7177, 37.7132, 37.7068, 37.6985, 37.6882, 37.6757, 37.6609, 37.6438, 37.624, 37.6014, 37.5757, 37.5468, 37.5202, 37.4957, 37.4733, 37.4526, 37.4336, 37.4161, 37.4, 37.3852, 37.3715, 37.3589, 37.3472, 37.3365, 37.3265, 37.3174, 37.3089, 37.3011, 37.294, 37.2874, 37.2813, 37.2757, 37.2706, 37.2659, 37.2616, 37.2577, 37.2542, 37.2511, 37.2482, 37.2457, 37.2435, 37.2415, 37.2398, 37.2385, 37.2373, 37.2365, 37.2358, 37.2355, 37.2353, \n",
            "37.237, 37.2371, 37.2375, 37.2381, 37.239, 37.2401, 37.2416, 37.2432, 37.2452, 37.2474, 37.25, 37.2528, 37.256, 37.2596, 37.2635, 37.2678, 37.2725, 37.2776, 37.2832, 37.2893, 37.2959, 37.3031, 37.3109, 37.3193, 37.3285, 37.3384, 37.3491, 37.3607, 37.3733, 37.3869, 37.4016, 37.4176, 37.4349, 37.4537, 37.4741, 37.4963, 37.5205, 37.5468, 37.5755, 37.6009, 37.6232, 37.6428, 37.6597, 37.6743, 37.6866, 37.6969, 37.7051, 37.7114, 37.7158, 37.7185, 37.7194, 37.7185, 37.7159, 37.7114, 37.7051, 37.6969, 37.6867, 37.6743, 37.6598, 37.6428, 37.6232, 37.6009, 37.5755, 37.5468, 37.5205, 37.4963, 37.4741, 37.4537, 37.4349, 37.4176, 37.4016, 37.3869, 37.3733, 37.3607, 37.3491, 37.3384, 37.3285, 37.3194, 37.3109, 37.3031, 37.2959, 37.2893, 37.2832, 37.2776, 37.2725, 37.2678, 37.2635, 37.2596, 37.256, 37.2528, 37.25, 37.2474, 37.2452, 37.2432, 37.2415, 37.2401, 37.239, 37.2381, 37.2375, 37.2371, 37.237, \n",
            "37.2385, 37.2386, 37.239, 37.2397, 37.2405, 37.2417, 37.2431, 37.2448, 37.2468, 37.249, 37.2516, 37.2545, 37.2577, 37.2612, 37.2651, 37.2695, 37.2742, 37.2793, 37.2849, 37.291, 37.2977, 37.3048, 37.3126, 37.321, 37.3302, 37.34, 37.3507, 37.3622, 37.3747, 37.3881, 37.4027, 37.4185, 37.4356, 37.4541, 37.4743, 37.4962, 37.52, 37.5459, 37.5742, 37.5993, 37.6213, 37.6405, 37.6572, 37.6715, 37.6836, 37.6937, 37.7018, 37.708, 37.7124, 37.715, 37.7159, 37.715, 37.7124, 37.708, 37.7018, 37.6937, 37.6836, 37.6715, 37.6572, 37.6405, 37.6213, 37.5993, 37.5743, 37.546, 37.52, 37.4962, 37.4743, 37.4542, 37.4356, 37.4185, 37.4028, 37.3882, 37.3747, 37.3622, 37.3507, 37.3401, 37.3302, 37.3211, 37.3127, 37.3049, 37.2977, 37.2911, 37.285, 37.2793, 37.2742, 37.2695, 37.2652, 37.2612, 37.2577, 37.2545, 37.2516, 37.249, 37.2468, 37.2448, 37.2431, 37.2417, 37.2405, 37.2397, 37.239, 37.2386, 37.2385, \n",
            "37.2399, 37.24, 37.2404, 37.241, 37.2419, 37.2431, 37.2445, 37.2462, 37.2482, 37.2505, 37.253, 37.2559, 37.2591, 37.2627, 37.2666, 37.271, 37.2757, 37.2809, 37.2865, 37.2926, 37.2992, 37.3064, 37.3141, 37.3225, 37.3316, 37.3414, 37.352, 37.3634, 37.3757, 37.3891, 37.4034, 37.419, 37.4358, 37.454, 37.4738, 37.4952, 37.5186, 37.5441, 37.5719, 37.5965, 37.618, 37.6368, 37.6532, 37.6672, 37.6791, 37.6889, 37.6969, 37.703, 37.7073, 37.7098, 37.7107, 37.7098, 37.7073, 37.703, 37.6969, 37.6889, 37.6791, 37.6672, 37.6532, 37.6369, 37.618, 37.5965, 37.5719, 37.5441, 37.5186, 37.4953, 37.4738, 37.454, 37.4358, 37.419, 37.4035, 37.3891, 37.3758, 37.3634, 37.352, 37.3414, 37.3316, 37.3226, 37.3142, 37.3064, 37.2992, 37.2926, 37.2865, 37.2809, 37.2757, 37.271, 37.2667, 37.2627, 37.2591, 37.2559, 37.253, 37.2505, 37.2482, 37.2462, 37.2445, 37.2431, 37.2419, 37.241, 37.2404, 37.24, 37.2399, \n",
            "37.2411, 37.2413, 37.2417, 37.2423, 37.2432, 37.2444, 37.2458, 37.2475, 37.2495, 37.2517, 37.2543, 37.2572, 37.2605, 37.2641, 37.268, 37.2723, 37.2771, 37.2822, 37.2878, 37.2939, 37.3005, 37.3077, 37.3154, 37.3238, 37.3328, 37.3425, 37.353, 37.3643, 37.3765, 37.3896, 37.4038, 37.419, 37.4355, 37.4533, 37.4726, 37.4936, 37.5164, 37.5412, 37.5685, 37.5924, 37.6134, 37.6318, 37.6477, 37.6613, 37.6729, 37.6825, 37.6903, 37.6962, 37.7004, 37.7029, 37.7038, 37.7029, 37.7004, 37.6962, 37.6903, 37.6825, 37.6729, 37.6613, 37.6477, 37.6318, 37.6134, 37.5924, 37.5685, 37.5413, 37.5164, 37.4936, 37.4727, 37.4534, 37.4355, 37.4191, 37.4038, 37.3896, 37.3765, 37.3643, 37.353, 37.3426, 37.3328, 37.3238, 37.3155, 37.3077, 37.3006, 37.294, 37.2879, 37.2822, 37.2771, 37.2723, 37.268, 37.2641, 37.2605, 37.2572, 37.2543, 37.2518, 37.2495, 37.2475, 37.2458, 37.2444, 37.2432, 37.2423, 37.2417, 37.2413, 37.2411, \n",
            "37.2423, 37.2424, 37.2428, 37.2434, 37.2443, 37.2455, 37.2469, 37.2486, 37.2506, 37.2529, 37.2555, 37.2584, 37.2617, 37.2652, 37.2692, 37.2735, 37.2783, 37.2834, 37.289, 37.2951, 37.3017, 37.3088, 37.3165, 37.3248, 37.3338, 37.3434, 37.3538, 37.365, 37.377, 37.3899, 37.4038, 37.4187, 37.4348, 37.4522, 37.4709, 37.4913, 37.5133, 37.5374, 37.5639, 37.587, 37.6074, 37.6251, 37.6405, 37.6538, 37.665, 37.6744, 37.6819, 37.6877, 37.6918, 37.6943, 37.6951, 37.6943, 37.6918, 37.6877, 37.6819, 37.6744, 37.665, 37.6538, 37.6405, 37.6251, 37.6074, 37.5871, 37.5639, 37.5375, 37.5134, 37.4913, 37.471, 37.4522, 37.4348, 37.4188, 37.4038, 37.3899, 37.377, 37.365, 37.3538, 37.3435, 37.3338, 37.3249, 37.3166, 37.3089, 37.3017, 37.2951, 37.2891, 37.2834, 37.2783, 37.2735, 37.2692, 37.2653, 37.2617, 37.2584, 37.2555, 37.2529, 37.2506, 37.2486, 37.2469, 37.2455, 37.2443, 37.2434, 37.2428, 37.2424, 37.2423, \n",
            "37.2433, 37.2434, 37.2438, 37.2444, 37.2453, 37.2465, 37.2479, 37.2496, 37.2516, 37.2539, 37.2565, 37.2594, 37.2627, 37.2663, 37.2702, 37.2746, 37.2793, 37.2845, 37.2901, 37.2961, 37.3027, 37.3098, 37.3175, 37.3257, 37.3346, 37.3441, 37.3544, 37.3654, 37.3772, 37.3899, 37.4035, 37.4181, 37.4338, 37.4506, 37.4688, 37.4883, 37.5095, 37.5326, 37.558, 37.5803, 37.5997, 37.6168, 37.6316, 37.6444, 37.6553, 37.6643, 37.6717, 37.6773, 37.6813, 37.6837, 37.6845, 37.6837, 37.6813, 37.6773, 37.6717, 37.6644, 37.6553, 37.6444, 37.6316, 37.6168, 37.5998, 37.5803, 37.5581, 37.5327, 37.5095, 37.4883, 37.4688, 37.4506, 37.4338, 37.4181, 37.4035, 37.3899, 37.3773, 37.3654, 37.3544, 37.3442, 37.3346, 37.3257, 37.3175, 37.3098, 37.3027, 37.2962, 37.2901, 37.2845, 37.2793, 37.2746, 37.2702, 37.2663, 37.2627, 37.2594, 37.2565, 37.2539, 37.2516, 37.2496, 37.2479, 37.2465, 37.2453, 37.2444, 37.2438, 37.2434, 37.2433, \n",
            "37.2441, 37.2443, 37.2446, 37.2453, 37.2462, 37.2474, 37.2488, 37.2505, 37.2525, 37.2548, 37.2574, 37.2603, 37.2636, 37.2672, 37.2712, 37.2755, 37.2802, 37.2854, 37.291, 37.297, 37.3036, 37.3106, 37.3182, 37.3264, 37.3352, 37.3447, 37.3548, 37.3657, 37.3773, 37.3897, 37.403, 37.4173, 37.4325, 37.4488, 37.4662, 37.4849, 37.505, 37.5269, 37.5509, 37.5719, 37.5904, 37.6066, 37.6208, 37.6331, 37.6435, 37.6523, 37.6594, 37.6649, 37.6688, 37.6711, 37.6719, 37.6711, 37.6688, 37.6649, 37.6594, 37.6523, 37.6436, 37.6331, 37.6208, 37.6066, 37.5904, 37.5719, 37.5509, 37.5269, 37.505, 37.4849, 37.4662, 37.4488, 37.4325, 37.4173, 37.4031, 37.3898, 37.3773, 37.3657, 37.3548, 37.3447, 37.3352, 37.3264, 37.3182, 37.3106, 37.3036, 37.297, 37.291, 37.2854, 37.2802, 37.2755, 37.2712, 37.2672, 37.2636, 37.2603, 37.2574, 37.2548, 37.2525, 37.2505, 37.2488, 37.2474, 37.2462, 37.2453, 37.2446, 37.2443, 37.2441, \n",
            "37.2449, 37.245, 37.2454, 37.246, 37.2469, 37.2481, 37.2496, 37.2513, 37.2533, 37.2556, 37.2582, 37.2611, 37.2644, 37.268, 37.2719, 37.2763, 37.281, 37.2861, 37.2917, 37.2977, 37.3043, 37.3113, 37.3189, 37.327, 37.3357, 37.3451, 37.3551, 37.3658, 37.3772, 37.3894, 37.4024, 37.4163, 37.431, 37.4467, 37.4634, 37.4811, 37.5, 37.5203, 37.5423, 37.5617, 37.5789, 37.5943, 37.6078, 37.6195, 37.6296, 37.6381, 37.645, 37.6503, 37.6541, 37.6564, 37.6571, 37.6564, 37.6541, 37.6503, 37.645, 37.6381, 37.6296, 37.6195, 37.6078, 37.5943, 37.5789, 37.5617, 37.5423, 37.5203, 37.5, 37.4811, 37.4634, 37.4467, 37.4311, 37.4163, 37.4025, 37.3894, 37.3772, 37.3658, 37.3551, 37.3451, 37.3357, 37.327, 37.3189, 37.3113, 37.3043, 37.2978, 37.2917, 37.2861, 37.281, 37.2763, 37.2719, 37.268, 37.2644, 37.2611, 37.2582, 37.2556, 37.2533, 37.2513, 37.2496, 37.2481, 37.2469, 37.246, 37.2454, 37.245, 37.2449, \n",
            "37.2455, 37.2456, 37.246, 37.2467, 37.2476, 37.2487, 37.2502, 37.2519, 37.2539, 37.2562, 37.2588, 37.2618, 37.265, 37.2686, 37.2726, 37.2769, 37.2816, 37.2868, 37.2923, 37.2983, 37.3048, 37.3118, 37.3193, 37.3274, 37.3361, 37.3453, 37.3552, 37.3658, 37.3771, 37.389, 37.4018, 37.4152, 37.4295, 37.4446, 37.4606, 37.4773, 37.4949, 37.5131, 37.5317, 37.5491, 37.5651, 37.5795, 37.5924, 37.6036, 37.6134, 37.6216, 37.6282, 37.6334, 37.6371, 37.6393, 37.64, 37.6393, 37.6371, 37.6334, 37.6282, 37.6216, 37.6134, 37.6036, 37.5924, 37.5795, 37.5651, 37.5491, 37.5317, 37.5131, 37.4949, 37.4773, 37.4606, 37.4447, 37.4296, 37.4153, 37.4018, 37.3891, 37.3771, 37.3658, 37.3553, 37.3454, 37.3361, 37.3274, 37.3194, 37.3118, 37.3048, 37.2983, 37.2923, 37.2868, 37.2816, 37.2769, 37.2726, 37.2686, 37.265, 37.2618, 37.2588, 37.2562, 37.2539, 37.2519, 37.2502, 37.2487, 37.2476, 37.2467, 37.246, 37.2456, 37.2455, \n",
            "37.246, 37.2461, 37.2465, 37.2472, 37.2481, 37.2493, 37.2507, 37.2524, 37.2544, 37.2567, 37.2594, 37.2623, 37.2655, 37.2691, 37.2731, 37.2774, 37.2821, 37.2873, 37.2928, 37.2988, 37.3053, 37.3122, 37.3197, 37.3278, 37.3364, 37.3455, 37.3553, 37.3658, 37.3769, 37.3886, 37.4011, 37.4143, 37.4281, 37.4427, 37.4579, 37.4738, 37.4902, 37.5069, 37.5235, 37.5394, 37.5543, 37.5679, 37.5801, 37.5909, 37.6003, 37.6082, 37.6147, 37.6198, 37.6234, 37.6255, 37.6262, 37.6255, 37.6234, 37.6198, 37.6147, 37.6082, 37.6003, 37.5909, 37.5801, 37.5679, 37.5543, 37.5395, 37.5235, 37.5069, 37.4902, 37.4738, 37.458, 37.4427, 37.4282, 37.4143, 37.4011, 37.3886, 37.3769, 37.3658, 37.3554, 37.3455, 37.3364, 37.3278, 37.3197, 37.3123, 37.3053, 37.2988, 37.2928, 37.2873, 37.2821, 37.2774, 37.2731, 37.2691, 37.2655, 37.2623, 37.2594, 37.2567, 37.2544, 37.2524, 37.2507, 37.2493, 37.2481, 37.2472, 37.2465, 37.2462, 37.246, \n",
            "37.2464, 37.2465, 37.2469, 37.2476, 37.2485, 37.2496, 37.2511, 37.2528, 37.2548, 37.2571, 37.2598, 37.2627, 37.2659, 37.2696, 37.2735, 37.2778, 37.2825, 37.2876, 37.2932, 37.2992, 37.3056, 37.3126, 37.32, 37.328, 37.3365, 37.3457, 37.3554, 37.3657, 37.3767, 37.3883, 37.4005, 37.4134, 37.4269, 37.441, 37.4557, 37.4709, 37.4864, 37.5019, 37.5174, 37.5322, 37.5462, 37.5591, 37.5708, 37.5812, 37.5903, 37.598, 37.6043, 37.6093, 37.6128, 37.6149, 37.6156, 37.6149, 37.6128, 37.6093, 37.6043, 37.598, 37.5903, 37.5812, 37.5708, 37.5591, 37.5462, 37.5322, 37.5174, 37.502, 37.4864, 37.4709, 37.4558, 37.4411, 37.4269, 37.4134, 37.4005, 37.3883, 37.3767, 37.3657, 37.3554, 37.3457, 37.3366, 37.328, 37.32, 37.3126, 37.3056, 37.2992, 37.2932, 37.2876, 37.2825, 37.2778, 37.2735, 37.2696, 37.266, 37.2627, 37.2598, 37.2571, 37.2548, 37.2528, 37.2511, 37.2497, 37.2485, 37.2476, 37.2469, 37.2465, 37.2464, \n",
            "37.2467, 37.2468, 37.2472, 37.2478, 37.2488, 37.2499, 37.2514, 37.2531, 37.2551, 37.2574, 37.26, 37.263, 37.2662, 37.2698, 37.2738, 37.2781, 37.2828, 37.2879, 37.2934, 37.2994, 37.3059, 37.3128, 37.3202, 37.3282, 37.3367, 37.3457, 37.3554, 37.3656, 37.3765, 37.388, 37.4, 37.4127, 37.426, 37.4398, 37.454, 37.4687, 37.4835, 37.4984, 37.513, 37.5272, 37.5405, 37.5529, 37.5643, 37.5744, 37.5832, 37.5908, 37.597, 37.6018, 37.6053, 37.6074, 37.6081, 37.6074, 37.6053, 37.6018, 37.597, 37.5908, 37.5832, 37.5744, 37.5643, 37.5529, 37.5405, 37.5272, 37.513, 37.4984, 37.4836, 37.4687, 37.4541, 37.4398, 37.426, 37.4127, 37.4001, 37.388, 37.3765, 37.3656, 37.3554, 37.3457, 37.3367, 37.3282, 37.3202, 37.3128, 37.3059, 37.2994, 37.2934, 37.2879, 37.2828, 37.2781, 37.2738, 37.2698, 37.2662, 37.263, 37.26, 37.2574, 37.2551, 37.2531, 37.2514, 37.2499, 37.2488, 37.2479, 37.2472, 37.2468, 37.2467, \n",
            "37.2469, 37.247, 37.2474, 37.248, 37.2489, 37.2501, 37.2515, 37.2533, 37.2553, 37.2576, 37.2602, 37.2631, 37.2664, 37.27, 37.274, 37.2783, 37.283, 37.2881, 37.2936, 37.2996, 37.306, 37.3129, 37.3203, 37.3283, 37.3367, 37.3458, 37.3554, 37.3656, 37.3764, 37.3878, 37.3997, 37.4123, 37.4254, 37.439, 37.453, 37.4673, 37.4818, 37.4963, 37.5104, 37.5242, 37.5372, 37.5493, 37.5604, 37.5703, 37.579, 37.5865, 37.5926, 37.5974, 37.6008, 37.6029, 37.6035, 37.6029, 37.6008, 37.5974, 37.5926, 37.5865, 37.579, 37.5703, 37.5604, 37.5493, 37.5372, 37.5242, 37.5105, 37.4963, 37.4818, 37.4674, 37.453, 37.439, 37.4254, 37.4123, 37.3998, 37.3878, 37.3764, 37.3656, 37.3554, 37.3458, 37.3367, 37.3283, 37.3203, 37.3129, 37.306, 37.2996, 37.2936, 37.2881, 37.283, 37.2783, 37.274, 37.27, 37.2664, 37.2631, 37.2602, 37.2576, 37.2553, 37.2533, 37.2515, 37.2501, 37.2489, 37.248, 37.2474, 37.247, 37.2469, \n",
            "37.2469, 37.2471, 37.2474, 37.2481, 37.249, 37.2502, 37.2516, 37.2533, 37.2553, 37.2577, 37.2603, 37.2632, 37.2665, 37.2701, 37.274, 37.2783, 37.283, 37.2881, 37.2937, 37.2996, 37.3061, 37.313, 37.3204, 37.3283, 37.3368, 37.3458, 37.3554, 37.3656, 37.3763, 37.3877, 37.3996, 37.4122, 37.4252, 37.4387, 37.4526, 37.4669, 37.4812, 37.4955, 37.5096, 37.5232, 37.5361, 37.5481, 37.5591, 37.569, 37.5776, 37.585, 37.5911, 37.5959, 37.5993, 37.6014, 37.6021, 37.6014, 37.5993, 37.5959, 37.5911, 37.585, 37.5776, 37.569, 37.5591, 37.5481, 37.5361, 37.5232, 37.5096, 37.4955, 37.4812, 37.4669, 37.4527, 37.4388, 37.4252, 37.4122, 37.3997, 37.3877, 37.3763, 37.3656, 37.3554, 37.3458, 37.3368, 37.3283, 37.3204, 37.313, 37.3061, 37.2996, 37.2937, 37.2881, 37.283, 37.2783, 37.274, 37.2701, 37.2665, 37.2632, 37.2603, 37.2577, 37.2553, 37.2533, 37.2516, 37.2502, 37.249, 37.2481, 37.2474, 37.2471, 37.2469, \n",
            "C++: Matriz salva em matriz.txt\n"
          ]
        }
      ]
    },
    {
      "cell_type": "code",
      "source": [
        "import matplotlib\n",
        "import matplotlib.pyplot as plt\n",
        "from matplotlib import cm\n",
        "from mpl_toolkits.mplot3d import axes3d, Axes3D\n",
        "import numpy as np\n",
        "import math\n",
        "\n",
        "from google.colab import files\n",
        "from matplotlib.figure import projections\n",
        "\n",
        "plt.rcParams['figure.figsize'] = [8, 6]\n",
        "\n",
        "# Carregar a matriz do arquivo\n",
        "matriz = np.loadtxt('matriz.txt')\n",
        "\n",
        "# Exibir a matriz\n",
        "print(\"Matriz de tecidos:\")\n",
        "print(matriz)\n",
        "plt.imshow(matriz)"
      ],
      "metadata": {
        "colab": {
          "base_uri": "https://localhost:8080/",
          "height": 532
        },
        "id": "dLkKnsjwe-3I",
        "outputId": "f50b6c7e-e797-42d6-d6b6-a1b115351912"
      },
      "execution_count": null,
      "outputs": [
        {
          "output_type": "stream",
          "name": "stdout",
          "text": [
            "Matriz de tecidos:\n",
            "[[0. 0. 0. ... 0. 0. 0.]\n",
            " [0. 0. 0. ... 0. 0. 0.]\n",
            " [1. 1. 1. ... 1. 1. 1.]\n",
            " ...\n",
            " [2. 2. 2. ... 2. 2. 2.]\n",
            " [2. 2. 2. ... 2. 2. 2.]\n",
            " [2. 2. 2. ... 2. 2. 2.]]\n"
          ]
        },
        {
          "output_type": "execute_result",
          "data": {
            "text/plain": [
              "<matplotlib.image.AxesImage at 0x7fd0d2f8f220>"
            ]
          },
          "metadata": {},
          "execution_count": 25
        },
        {
          "output_type": "display_data",
          "data": {
            "text/plain": [
              "<Figure size 800x600 with 1 Axes>"
            ],
            "image/png": "[encoded data removed]"
          },
          "metadata": {}
        }
      ]
    },
    {
      "cell_type": "code",
      "source": [
        "# Carregar a matriz do arquivo\n",
        "resultados = np.loadtxt('final.txt')\n",
        "\n",
        "# Exibir a matriz\n",
        "print(resultados)\n",
        "\n",
        "fig = plt.figure()\n",
        "plt.xlabel('x-axis (m)')\n",
        "plt.ylabel('Temperatura (°C)')\n",
        "plt.ylabel('z-axis (m)')\n",
        "plt.imshow(np.transpose(resultados), vmin = 37.0, vmax = 37.65, cmap = 'rainbow', interpolation = 'nearest', origin = 'lower', extent=[0,0.05,0,0.1])\n",
        "plt.colorbar(label = 'Temperatura (°C)')\n",
        "plt.show()"
      ],
      "metadata": {
        "colab": {
          "base_uri": "https://localhost:8080/",
          "height": 669
        },
        "id": "dRTW9KFZurPJ",
        "outputId": "e13e9726-34a1-4a43-bb2b-047819423a41"
      },
      "execution_count": null,
      "outputs": [
        {
          "output_type": "stream",
          "name": "stdout",
          "text": [
            "[[37.     37.     37.     ... 37.     37.     37.    ]\n",
            " [37.0151 37.0151 37.0151 ... 37.0151 37.0151 37.0151]\n",
            " [37.0294 37.0294 37.0294 ... 37.0294 37.0294 37.0294]\n",
            " ...\n",
            " [37.2467 37.2468 37.2472 ... 37.2472 37.2468 37.2467]\n",
            " [37.2469 37.247  37.2474 ... 37.2474 37.247  37.2469]\n",
            " [37.2469 37.2471 37.2474 ... 37.2474 37.2471 37.2469]]\n"
          ]
        },
        {
          "output_type": "display_data",
          "data": {
            "text/plain": [
              "<Figure size 800x600 with 2 Axes>"
            ],
            "image/png": "[encoded data removed]"
          },
          "metadata": {}
        }
      ]
    }
  ]
}