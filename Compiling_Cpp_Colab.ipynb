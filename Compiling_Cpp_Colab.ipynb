{
  "nbformat": 4,
  "nbformat_minor": 0,
  "metadata": {
    "colab": {
      "provenance": [],
      "include_colab_link": true
    },
    "kernelspec": {
      "name": "python3",
      "display_name": "Python 3"
    },
    "language_info": {
      "name": "python"
    }
  },
  "cells": [
    {
      "cell_type": "markdown",
      "metadata": {
        "id": "view-in-github",
        "colab_type": "text"
      },
      "source": [
        "<a href=\"https://colab.research.google.com/github/lucasmartinso/IC/blob/main/Compiling_Cpp_Colab.ipynb\" target=\"_parent\"><img src=\"https://colab.research.google.com/assets/colab-badge.svg\" alt=\"Open In Colab\"/></a>"
      ]
    },
    {
      "cell_type": "markdown",
      "source": [
        "## **Simulações numéricas 3D em GPUs de hipertermia com nanopartículas por um modelo de bioaquecimento não linear**\n",
        "\n",
        "Nome: Lucas Martins Oliveira"
      ],
      "metadata": {
        "id": "7y40cz7uOq3P"
      }
    },
    {
      "cell_type": "markdown",
      "source": [
        "Equação a ser modelada:\n",
        "\n",
        "\\begin{equation*}\n",
        "  \\begin{cases}\n",
        "    \\displaystyle \\nabla \\cdot k \\nabla T + w_b c_b(T_a - T) + Q_m = 0 \\text{ para } \\Omega\\\\\\\\\n",
        "    \\displaystyle k \\nabla T \\cdot\\vec{n} = 0 \\text{ para } \\partial \\Omega_N\\\\\\\\\n",
        "    \\displaystyle T  = 37 \\text{ para } \\partial \\Omega_D\\\\\\\\\n",
        "    \\displaystyle T(.,0) = 37\n",
        "  \\end{cases}\n",
        "\\end{equation*}\n",
        "\n",
        "\\begin{equation*}\n",
        "  \\text { onde } T : \\Omega \\times  I \\rightarrow \\mathbb{R^+} \\text { representa o campo de temperatura do tecido } \\\\\n",
        "  c_b : \\Omega \\times  I \\rightarrow \\mathbb{R^+} \\text { representa o calor específico do sangue } \\\\\n",
        "  k : \\Omega \\times  I \\rightarrow \\mathbb{R^+} \\text { na qual a condutividade térmica é considerada isotrópica, mas não homogênea } \\\\\n",
        "  w_b:  \\Omega \\times {R^+} \\times  I \\rightarrow \\mathbb{R^+} \\text { taxa de perfusão sanguínea } \\\\\n",
        "  T_a \\text { temperatura arterial } \\\\\n",
        "  Q_m : \\Omega \\times  I \\rightarrow \\mathbb{R^+} \\text { representa a geração de calor metabólico } \\\\\n",
        "  f : \\Omega \\times  I \\rightarrow \\mathbb{R^+} \\text { temperaturaprescrita(Dirichelet) ou fluxo (Neumann ou Robin} \\\\\n",
        "  \\alpha , \\beta : \\Omega \\times  I \\rightarrow \\mathbb{R^+} \\text { sendo o vetor normal unitário } \\\\\n",
        "\\end{equation*}"
      ],
      "metadata": {
        "id": "5Tr73TudMbgi"
      }
    },
    {
      "cell_type": "markdown",
      "source": [
        "Inicialmente definimos o dominio, em questão"
      ],
      "metadata": {
        "id": "QoGbNEG_PKC-"
      }
    },
    {
      "cell_type": "code",
      "source": [
        "%%writefile dominio.h\n",
        "\n",
        "#ifndef DOMINIO_H\n",
        "#define DOMINIO_H\n",
        "\n",
        "class Dominio {\n",
        "  private:\n",
        "    int tamX, tamY;\n",
        "    float h;\n",
        "    float *x;\n",
        "    float *y;\n",
        "\n",
        "  public:\n",
        "    Dominio(float passo, int tamx, int tamy);\n",
        "    ~Dominio();\n",
        "    void setX();\n",
        "    void setY();\n",
        "    float getX(int indice);\n",
        "    float getY(int indice);\n",
        "};\n",
        "\n",
        "#endif //DOMINIO_H"
      ],
      "metadata": {
        "colab": {
          "base_uri": "https://localhost:8080/"
        },
        "id": "d0PlvPgOga0G",
        "outputId": "39018125-0b2d-4346-f5cf-94b5e5f24810"
      },
      "execution_count": 1,
      "outputs": [
        {
          "output_type": "stream",
          "name": "stdout",
          "text": [
            "Writing dominio.h\n"
          ]
        }
      ]
    },
    {
      "cell_type": "code",
      "source": [
        "%%writefile dominio.cpp\n",
        "\n",
        "#include <iostream>\n",
        "using namespace std;\n",
        "\n",
        "#include \"dominio.h\"\n",
        "\n",
        "Dominio::Dominio(float passo, int tamx, int tamy) {\n",
        "  h = passo;\n",
        "  tamX = tamx;\n",
        "  tamY = tamy;\n",
        "  x = new float[tamX];\n",
        "  y = new float[tamY];\n",
        "}\n",
        "\n",
        "Dominio::~Dominio() {\n",
        "  delete [] x;\n",
        "  delete [] y;\n",
        "}\n",
        "\n",
        "void Dominio::setX() {\n",
        "  for(int i=0; i<tamX; i++) {\n",
        "      x[i] = i*h;\n",
        "  }\n",
        "}\n",
        "\n",
        "void Dominio::setY() {\n",
        "  for(int i=0; i<tamY; i++) {\n",
        "      y[i] = i*h;\n",
        "  }\n",
        "}\n",
        "\n",
        "float Dominio::getX(int indice) {\n",
        "  if(indice < tamX)\n",
        "  {\n",
        "    return x[indice];\n",
        "  }\n",
        "  else\n",
        "  {\n",
        "    cout << \"INDICE INVALIDO\" << endl;\n",
        "    exit(1);\n",
        "  }\n",
        "}\n",
        "\n",
        "float Dominio::getY(int indice) {\n",
        "  if(indice < tamY)\n",
        "  {\n",
        "    return y[indice];\n",
        "  }\n",
        "  else\n",
        "  {\n",
        "    cout << \"INDICE INVALIDO\" << endl;\n",
        "    exit(1);\n",
        "  }\n",
        "}"
      ],
      "metadata": {
        "colab": {
          "base_uri": "https://localhost:8080/"
        },
        "id": "8qrBe-qWj690",
        "outputId": "dcce2a2c-2b60-4719-e4a9-a2f646602013"
      },
      "execution_count": 2,
      "outputs": [
        {
          "output_type": "stream",
          "name": "stdout",
          "text": [
            "Writing dominio.cpp\n"
          ]
        }
      ]
    },
    {
      "cell_type": "markdown",
      "source": [
        "Assim modelamos agora as regiões do nosso espaço em questão que é divida em 4:\n",
        "\n",
        "\n",
        "---\n",
        "\n",
        "\n",
        "\n",
        "0.   Derme\n",
        "1.   Gordura\n",
        "2.   Músculo\n",
        "3.   Tumor\n",
        "\n",
        "\n",
        "\n",
        "---\n",
        "\n",
        "\n",
        "\n"
      ],
      "metadata": {
        "id": "q3JGpUC2Yvdz"
      }
    },
    {
      "cell_type": "code",
      "source": [
        "%%writefile tecidos.h\n",
        "\n",
        "#ifndef TECIDOS_H\n",
        "#define TECIDOS_H\n",
        "\n",
        "class Tecidos {\n",
        "  private:\n",
        "    int *tecidosHumanos;\n",
        "    int tamX;\n",
        "    int tamY;\n",
        "    int detInd(int i, int j);\n",
        "\n",
        "  public:\n",
        "    Tecidos(int tamx, int tamy);\n",
        "    ~Tecidos();\n",
        "    void set();\n",
        "    int busca(int i, int j);\n",
        "    void salvaMatriz();\n",
        "};\n",
        "\n",
        "#endif //TECIDOS_H"
      ],
      "metadata": {
        "colab": {
          "base_uri": "https://localhost:8080/"
        },
        "outputId": "c83ec543-ec61-4455-c32c-3ba5edd6d0f7",
        "id": "W_Yz-iCyQ3Ti"
      },
      "execution_count": 3,
      "outputs": [
        {
          "output_type": "stream",
          "name": "stdout",
          "text": [
            "Writing tecidos.h\n"
          ]
        }
      ]
    },
    {
      "cell_type": "code",
      "source": [
        "%%writefile tecidos.cpp\n",
        "\n",
        "#include <iostream>\n",
        "using namespace std;\n",
        "\n",
        "#include <fstream>\n",
        "#include <vector>\n",
        "\n",
        "#include \"tecidos.h\"\n",
        "\n",
        "Tecidos::Tecidos(int tamx, int tamy) {\n",
        "  tamX = tamx;\n",
        "  tamY = tamy;\n",
        "  tecidosHumanos = new int[tamX*tamY];\n",
        "}\n",
        "\n",
        "Tecidos::~Tecidos() {\n",
        "  delete [] tecidosHumanos;\n",
        "}\n",
        "\n",
        "int Tecidos::detInd(int i, int j) {\n",
        "  if(i<tamX && j<tamY)\n",
        "  {\n",
        "    return tamY*i + j;\n",
        "  }\n",
        "  else\n",
        "  {\n",
        "    cout << \"INDICE INVALIDO\" << endl;\n",
        "    exit(1);\n",
        "  }\n",
        "}\n",
        "\n",
        "void Tecidos::set() {\n",
        "  for(int i=0; i<tamX; i++) {\n",
        "     for(int j=0; j<tamY; j++) {\n",
        "        if((i>(19) && i<(45) && j>(37) && j<(63)))\n",
        "        {\n",
        "          //tumor esfera de raio 13mm -> consideramos um quadrado nessa abordagem\n",
        "          //centro (20,50)mm\n",
        "          tecidosHumanos[detInd(i,j)] = 3;\n",
        "        }\n",
        "        else if(i<2)\n",
        "        {\n",
        "          //derme 2mm\n",
        "          tecidosHumanos[detInd(i,j)] = 0;\n",
        "        }\n",
        "        else if(i<12)\n",
        "        {\n",
        "          //adiposo\n",
        "          tecidosHumanos[detInd(i,j)] = 1;\n",
        "        }\n",
        "        else\n",
        "        {\n",
        "          //musculo\n",
        "          tecidosHumanos[detInd(i,j)] = 2;\n",
        "        }\n",
        "     }\n",
        "  }\n",
        "}\n",
        "\n",
        "int Tecidos::busca(int i, int j) {\n",
        "  if(i < tamX && j < tamY)\n",
        "  {\n",
        "    return tecidosHumanos[detInd(i,j)];\n",
        "  }\n",
        "  else\n",
        "  {\n",
        "    cout << \"INDICE INVALIDO\" << endl;\n",
        "    exit(1);\n",
        "  }\n",
        "}\n",
        "\n",
        "void Tecidos::salvaMatriz() {\n",
        "    // Matriz que vai receber os valores dos tecidos\n",
        "    vector<vector<int>> matriz;\n",
        "\n",
        "    // Inicializar a matriz que vai ser salva com elementos\n",
        "    matriz.resize(tamX);\n",
        "    for (int i = 0; i < tamX; i++) {\n",
        "      matriz[i].resize(tamY);\n",
        "      for (int j = 0; j < tamY; j++) {\n",
        "        matriz[i][j] =  busca(i,j);\n",
        "      }\n",
        "    }\n",
        "\n",
        "    // Salvar a matriz de tecidos em um arquivo para ser importada posteriormente\n",
        "    ofstream arquivo(\"matriz.txt\");\n",
        "    if (arquivo.is_open()) {\n",
        "      for (const auto& linha : matriz) {\n",
        "        for (const auto& elemento : linha) {\n",
        "          arquivo << elemento << \" \";\n",
        "        }\n",
        "        arquivo << \"\\n\";\n",
        "      }\n",
        "      arquivo.close();\n",
        "      cout << \"C++: Matriz de tecidos salva em matriz.txt\" << endl;\n",
        "    } else {\n",
        "      cerr << \"C++: Erro ao abrir o arquivo\" << endl;\n",
        "    }\n",
        "}"
      ],
      "metadata": {
        "colab": {
          "base_uri": "https://localhost:8080/"
        },
        "outputId": "1ca1d040-12df-498f-ea31-fb8474e2ec83",
        "id": "GJ8LD-F3RhYM"
      },
      "execution_count": 55,
      "outputs": [
        {
          "output_type": "stream",
          "name": "stdout",
          "text": [
            "Overwriting tecidos.cpp\n"
          ]
        }
      ]
    },
    {
      "cell_type": "markdown",
      "source": [
        "A geração de calor metabólico varia de acordo com a região tratada, temos assim então:\n",
        "\n",
        "\\begin{equation*}\n",
        "  Q_{m_{muscle}} = Q_{m_{fat}} = Q_{m_{dermis}} = 420.0 \\\\\n",
        "  Q_{m_{tumor}} = 4200.0\n",
        "\\end{equation*}"
      ],
      "metadata": {
        "id": "EtO7bpzrX92c"
      }
    },
    {
      "cell_type": "markdown",
      "source": [
        "Temos que a condutividade térmica varia de acordo com o tecido, assim obtemos a seguintes relações:\n",
        "\n",
        "\\begin{equation*}\n",
        "  k_{dermis} = 0.40\\\\\n",
        "  k_{fat} = 0.21\\\\\n",
        "  k_{muscle} = 0.45\\\\\n",
        "  k_{tumor} = 0.55\\\\\n",
        "\\end{equation*}"
      ],
      "metadata": {
        "id": "fe-hntH2VXff"
      }
    },
    {
      "cell_type": "markdown",
      "source": [
        "A densidade dos tecidos são diferentes uma das outras, dessa forma definimos para a mesma a seguinte variação:\n",
        "\n",
        "\\begin{equation*}\n",
        "  \\rho_{dermis} = 1200\\\\\n",
        "  \\rho_{fat} = 1000\\\\\n",
        "  \\rho_{muscle} = 1000\\\\\n",
        "  \\rho_{tumor} = 1000\\\\\n",
        "\\end{equation*}"
      ],
      "metadata": {
        "id": "ooTSR8GGWuaI"
      }
    },
    {
      "cell_type": "markdown",
      "source": [
        "O calor específico dos tecidos são diferentes um dos outros, dessa forma definimos para a mesma a seguinte variação:\n",
        "\n",
        "\\begin{equation*}\n",
        "  c_{dermis} = 3600\\\\\n",
        "  c_{fat} = 2500\\\\\n",
        "  c_{muscle} = 3800\\\\\n",
        "  c_{tumor} = 4200\\\\\n",
        "\\end{equation*}"
      ],
      "metadata": {
        "id": "kZAMPceZXmt0"
      }
    },
    {
      "cell_type": "markdown",
      "source": [
        "A taxa de perfusão sanguínea varia de acordo com o tecido e com a temperatura que esse se encontra, dessa forma temos que:\n",
        "\n",
        "\\begin{equation*}\n",
        "  W_{dermis} = 0.5 \\\\\n",
        "  W_{fat} =\n",
        "    \\begin{cases}\n",
        "      \\displaystyle 0.36 + 0.36exp(-\\frac{(T-45.0)^2}{12.0}) \\text { para } T \\leq 45.0 \\\\\\\\\n",
        "      0.72 \\text { para } T>45.0\n",
        "    \\end{cases} \\\\\n",
        "  W_{muscle} =\n",
        "    \\begin{cases}\n",
        "      \\displaystyle 0.45 + 3.55exp(-\\frac{(T-45.0)^2}{12.0}) \\text { para } T \\leq 45.0 \\\\\\\\\n",
        "      4.0 \\text { para } T>45.0\n",
        "    \\end{cases} \\\\\n",
        "    W_{tumor} =\n",
        "    \\begin{cases}\n",
        "      \\displaystyle 0.833 -\\frac{(T-37.0)^{4.8}}{5.438E+3} \\text { para } 37.0 \\leq T \\leq 42.0 \\\\\\\\\n",
        "      0.416 \\text { para } T>42.0\n",
        "    \\end{cases} \\\\\n",
        "\\end{equation*}"
      ],
      "metadata": {
        "id": "ZjRrOiDB6f6s"
      }
    },
    {
      "cell_type": "code",
      "source": [
        "%%writefile variaveis.h\n",
        "\n",
        "#ifndef VARIAVEIS_H\n",
        "#define VARIAVEIS_H\n",
        "\n",
        "class Variaveis {\n",
        "  private:\n",
        "   float *qm;\n",
        "   float *k;\n",
        "   float *w;\n",
        "   float *p;\n",
        "   float *c;\n",
        "\n",
        "  public:\n",
        "    Variaveis();\n",
        "    ~Variaveis();\n",
        "    void setQm();\n",
        "    void setK();\n",
        "    void setP();\n",
        "    void setC();\n",
        "    void setW();\n",
        "    float getQm(int tecido);\n",
        "    float* getK();\n",
        "    float getP(int tecido);\n",
        "    float getC(int tecido);\n",
        "    float getW(int tecido, float temp);\n",
        "};\n",
        "\n",
        "#endif //VARIAVEIS_H"
      ],
      "metadata": {
        "colab": {
          "base_uri": "https://localhost:8080/"
        },
        "outputId": "d756890d-d8dc-4a13-aed3-ae95553990f2",
        "id": "h47g2uv-ll69"
      },
      "execution_count": 5,
      "outputs": [
        {
          "output_type": "stream",
          "name": "stdout",
          "text": [
            "Writing variaveis.h\n"
          ]
        }
      ]
    },
    {
      "cell_type": "code",
      "source": [
        "%%writefile variaveis.cpp\n",
        "\n",
        "#include <iostream>\n",
        "#include <cmath>\n",
        "using namespace std;\n",
        "\n",
        "#include \"variaveis.h\"\n",
        "\n",
        "Variaveis::Variaveis() {\n",
        "  qm = new float[4];\n",
        "  k = new float[4];\n",
        "  w = new float[4];\n",
        "  p = new float[4];\n",
        "  c = new float[4];\n",
        "}\n",
        "\n",
        "Variaveis::~Variaveis() {\n",
        "  delete [] qm;\n",
        "  delete [] k;\n",
        "  delete [] w;\n",
        "  delete [] p;\n",
        "  delete [] c;\n",
        "}\n",
        "\n",
        "void Variaveis::setQm() {\n",
        "  for(int i=0; i<4; i++) {\n",
        "    i==3 ? qm[i]=4200 : qm[i]=420;\n",
        "  }\n",
        "}\n",
        "\n",
        "void Variaveis::setK() {\n",
        "  k[0] = 0.4;\n",
        "  k[1] = 0.21;\n",
        "  k[2] = 0.45;\n",
        "  k[3] = 0.55;\n",
        "}\n",
        "\n",
        "void Variaveis::setP() {\n",
        "  for(int i=0; i<4; i++) {\n",
        "    i==0 ? p[i]=1200 : p[i]=1000;\n",
        "  }\n",
        "}\n",
        "\n",
        "void Variaveis::setC() {\n",
        "  c[0] = 3600;\n",
        "  c[1] = 2500;\n",
        "  c[2] = 3800;\n",
        "  c[3] = 4200;\n",
        "}\n",
        "\n",
        "void Variaveis::setW() {\n",
        "  w[0] = 0.5;\n",
        "  w[1] = 4.0;\n",
        "  w[2] = 0.72;\n",
        "  w[3] = 0.416;\n",
        "}\n",
        "\n",
        "float Variaveis::getQm(int tecido) {\n",
        "  if(tecido <= 3 && tecido >=0)\n",
        "    return qm[tecido];\n",
        "  else {\n",
        "    cout << \"INDICE INVALIDO\" << endl;\n",
        "    exit(1);\n",
        "  }\n",
        "}\n",
        "\n",
        "float* Variaveis::getK() {\n",
        "  return k;\n",
        "}\n",
        "\n",
        "float Variaveis::getP(int tecido) {\n",
        "  if(tecido <= 3 && tecido >=0)\n",
        "    return p[tecido];\n",
        "  else {\n",
        "    cout << \"INDICE INVALIDO\" << endl;\n",
        "    exit(1);\n",
        "  }\n",
        "}\n",
        "\n",
        "float Variaveis::getC(int tecido) {\n",
        "  if(tecido <= 3 && tecido >=0)\n",
        "    return c[tecido];\n",
        "  else {\n",
        "    cout << \"INDICE INVALIDO\" << endl;\n",
        "    exit(1);\n",
        "  }\n",
        "}\n",
        "\n",
        "float Variaveis::getW(int tecido, float temp) {\n",
        "  if(tecido == 0)\n",
        "    return w[0];\n",
        "  else if(tecido == 1)\n",
        "    return temp > 45.0 ? w[1] : ( 0.36 + 0.36*exp(-pow(temp - 45, 2)/12));\n",
        "  else if(tecido == 2)\n",
        "    return temp > 45.0 ? w[2] : ( 0.45 + 3.55*exp(-pow(temp - 45, 2)/12));\n",
        "  else if(tecido == 3)\n",
        "    return temp > 42.0 ? w[3] : ( 0.833 - (pow(temp-37, 4.8)/5438));\n",
        "  else {\n",
        "    cout << \"INDICE INVÁLIDO\" << endl;\n",
        "    exit(1);\n",
        "  }\n",
        "}"
      ],
      "metadata": {
        "colab": {
          "base_uri": "https://localhost:8080/"
        },
        "outputId": "3a04ec0f-ae40-45f3-a18e-7edffb9a98bc",
        "id": "_RsiZj-CnPXa"
      },
      "execution_count": 6,
      "outputs": [
        {
          "output_type": "stream",
          "name": "stdout",
          "text": [
            "Writing variaveis.cpp\n"
          ]
        }
      ]
    },
    {
      "cell_type": "markdown",
      "source": [
        "\\begin{equation*}\n",
        "  \\text{Temos que, reorganizando a equação separamos aonde a variavel } T_{i,j}\n",
        "  \\text { para o lado esquerdo da equação, e aonde não consta para o lado direito, então obtemos: }\n",
        "\\end{equation*}\n",
        "\n",
        "Lado direito da equação, chamamos de f\n",
        "\n",
        "\\begin{equation*}\n",
        "  f_{i,j} = -Q_{m_{i,j}} - W_{b_{i,j}}C_bT_a\n",
        "\\end{equation*}\n",
        "\n",
        "Assim de forma encontramos a equação:\n",
        "\n",
        "\\begin{equation*}\n",
        "  T_{i,j} = \\frac{-h^2f_{i,j} + k_{i+\\frac{1}{2},j}T_{i+1,j} + k_{i-\\frac{1}{2},j}T_{i-1,j} + k_{i,j+\\frac{1}{2}}T_{i,j+1} + k_{i,j-\\frac{1}{2}}T_{i,j-1}}{k_{i+\\frac{1}{2},j} + k_{i-\\frac{1}{2}} + k_{i,j+\\frac{1}{2}} + k_{i,j-\\frac{1}{2}} + W_{b_{i,j}}C_bh^2}\n",
        "\\end{equation*}"
      ],
      "metadata": {
        "id": "yJH-ASggHYPg"
      }
    },
    {
      "cell_type": "markdown",
      "source": [
        "Assim temos que a condutividade térmica, pode ser calculada usando o método do ponto do médio, então:\n",
        "\\begin{equation*}\n",
        "  k_{i+\\frac{1}{2},j} \\approx \\frac{2k_{i,j}k_{i+1,j}}{k_{i,j}+k_{i+1,j}}\n",
        "\\end{equation*}"
      ],
      "metadata": {
        "id": "Iik5OLkO2ilZ"
      }
    },
    {
      "cell_type": "code",
      "source": [
        "%%writefile jacobi.h\n",
        "\n",
        "#ifndef JACOBI_H\n",
        "#define JACOBI_H\n",
        "\n",
        "#include <string>\n",
        "\n",
        "#include \"tecidos.h\"\n",
        "#include \"variaveis.h\"\n",
        "\n",
        "class Jacobi {\n",
        "  private:\n",
        "    float *sol; //vetor solucao\n",
        "    float *u; //passo anterior ao da solucao (necessario para resolver o problema)\n",
        "    float *f; //lado direito da funcao\n",
        "    int tamX;\n",
        "    int tamY;\n",
        "    int detInd(int i, int j);\n",
        "\n",
        "  public:\n",
        "    Jacobi(int tamx, int tamy);\n",
        "    ~Jacobi();\n",
        "    void setU(int ci);\n",
        "    void resolucao(float cb, float Ta, Tecidos *t, Variaveis *var, float h);\n",
        "    void salvaMatriz(float *mat);\n",
        "};\n",
        "\n",
        "#endif //JACOBI_H"
      ],
      "metadata": {
        "colab": {
          "base_uri": "https://localhost:8080/"
        },
        "outputId": "d86fff88-9904-4911-f889-e395b9266865",
        "id": "xM5g9zxepFV4"
      },
      "execution_count": 56,
      "outputs": [
        {
          "output_type": "stream",
          "name": "stdout",
          "text": [
            "Overwriting jacobi.h\n"
          ]
        }
      ]
    },
    {
      "cell_type": "code",
      "source": [
        "%%writefile jacobi.cpp\n",
        "\n",
        "#include <iostream>\n",
        "#include <cmath>\n",
        "using namespace std;\n",
        "#include <string>\n",
        "#include <fstream>\n",
        "#include <vector>\n",
        "\n",
        "#include \"jacobi.h\"\n",
        "#include \"tecidos.h\"\n",
        "#include \"variaveis.h\"\n",
        "\n",
        "Jacobi::Jacobi(int tamx, int tamy) {\n",
        "  tamX = tamx;\n",
        "  tamY = tamy;\n",
        "\n",
        "  sol = new float[tamx*tamy];\n",
        "  u = new float[tamx*tamy];\n",
        "  f = new float[tamx*tamy];\n",
        "}\n",
        "\n",
        "Jacobi::~Jacobi() {\n",
        "  delete [] f;\n",
        "  delete [] u;\n",
        "  delete [] sol;\n",
        "}\n",
        "\n",
        "int Jacobi::detInd(int i, int j) {\n",
        "   if(i<tamX && j<tamY)\n",
        "  {\n",
        "    return tamY*i + j;\n",
        "  }\n",
        "  else\n",
        "  {\n",
        "    cout << \"INDICE INVALIDO\" << endl;\n",
        "    exit(1);\n",
        "  }\n",
        "}\n",
        "\n",
        "void Jacobi::setU(int ci) {\n",
        "  //ci == chute inicial\n",
        "\n",
        "  for(int i=0; i<tamX; i++) {\n",
        "    for(int j=0; j<tamY; j++) {\n",
        "      u[detInd(i,j)] = 37;\n",
        "    }\n",
        "  }\n",
        "}\n",
        "\n",
        "void Jacobi::salvaMatriz(float *mat) {\n",
        "    // Matriz que vai receber os valores da temperatura por região\n",
        "    vector<vector<float>> final;\n",
        "\n",
        "    // Inicializar a final que vai ser salva com elementos\n",
        "    final.resize(tamX);\n",
        "    for (int i = 0; i < tamX; i++) {\n",
        "      final[i].resize(tamY);\n",
        "      for (int j = 0; j < tamY; j++) {\n",
        "        final[i][j] =  mat[detInd(i,j)];\n",
        "      }\n",
        "    }\n",
        "\n",
        "    // Salvar a final de tecidos em um arquivo para ser importada posteriormente\n",
        "    ofstream arquivo(\"final.txt\");\n",
        "    if (arquivo.is_open()) {\n",
        "      for (const auto& linha : final) {\n",
        "        for (const auto& elemento : linha) {\n",
        "          arquivo << elemento << \" \";\n",
        "        }\n",
        "        arquivo << \"\\n\";\n",
        "      }\n",
        "      arquivo.close();\n",
        "      cout << \"C++: Matriz solucao salva em final.txt\" << endl;\n",
        "    } else {\n",
        "      cerr << \"C++: Erro ao abrir o arquivo\" << endl;\n",
        "    }\n",
        "}\n",
        "\n",
        "void Jacobi::resolucao(float cb, float Ta, Tecidos *t, Variaveis *var, float h) {\n",
        "  //Condicoes de Contorno\n",
        "  float u_a = 37.0; //dirichelet esquerdo -> T0\n",
        "  int u_b = 0; //neumann topo\n",
        "  int u_c = 0; //neumann direito\n",
        "  int u_d = 0; //neumann base\n",
        "\n",
        "  int kit=0;\n",
        "  int k_max = 10000; //numero maximo de iteraçoes do metodo\n",
        "  double error= 1;\n",
        "  double error_max = 1*pow(10,-6); //erro para convergencia\n",
        "\n",
        "  float *ks = var->getK();\n",
        "\n",
        "  while (kit<k_max && error > error_max) { //metodo de jacob\n",
        "    for(int i=0; i<tamX; i++) {\n",
        "      for(int j=0; j<tamY; j++) {\n",
        "         float kij = ks[t->busca(i,j)]; //vai ser usado em todos os casos\n",
        "\n",
        "         float k_ip = i==tamX-1 ? 2*kij*kij/(2*kij) : 2*kij*(ks[t->busca(i+1,j)]) / (kij+ks[t->busca(i+1,j)]);\n",
        "         float k_im = i==0 ? 2*kij*kij/(2*kij) : 2*kij*(ks[t->busca(i-1,j)]) / (kij+ks[t->busca(i-1,j)]);\n",
        "         float k_jp = j==tamY-1 ? 2*kij*kij/(2*kij) : 2*kij*(ks[t->busca(i,j+1)]) / (kij+ks[t->busca(i,j+1)]);\n",
        "         float k_jm = j==0 ? 2*kij*kij/(2*kij): 2*kij*(ks[t->busca(i,j-1)]) / (kij+ks[t->busca(i,j-1)]);\n",
        "\n",
        "        //para tratar do tipo Dirichlet, devemos atribuir diretamente no ponto (x_i,y_j)\n",
        "        if (i==0)\n",
        "          sol[detInd(i,j)] = u_a;\n",
        "        else {\n",
        "          //Tradando condicoes de contorno do tipo Neumann\n",
        "\n",
        "          float uipj = i==tamX-1 ? 2*h*u_c+u[detInd(tamX-2,j)]: u[detInd(i+1,j)];\n",
        "          float uimj = i==0 ? 2*h*u_a+u[detInd(1,j)] : u[detInd(i-1,j)];\n",
        "          float uijp = j==tamY-1 ? 2*h*u_d+u[detInd(i,tamY-2)]  : u[detInd(i,j+1)];\n",
        "          float uijm = j==0 ? 2*h*u_b+u[detInd(i,1)] : u[detInd(i,j-1)];\n",
        "\n",
        "          int indice = t->busca(i,j);\n",
        "\n",
        "          f[detInd(i,j)] = -(var->getQm(indice) + var->getW(indice, u[detInd(i,j)])*cb*Ta);\n",
        "          sol[detInd(i,j)] = (k_ip*uipj + k_im*uimj + k_jp*uijp + k_jm*uijm - f[detInd(i,j)]*pow(h,2)) / ( k_ip+ k_im + k_jp + k_jm + var->getW(indice, u[detInd(i,j)])*cb*pow(h,2));\n",
        "        }\n",
        "      }\n",
        "    }\n",
        "    kit=kit+1;\n",
        "\n",
        "    error = 1;\n",
        "\n",
        "    for(int i=0; i<tamX; i++) {\n",
        "      for(int j=0; j<tamY; j++) {\n",
        "        error += (sol[detInd(i,j)] - u[detInd(i,j)]) / sol[detInd(i,j)];\n",
        "      }\n",
        "    }\n",
        "\n",
        "    u = sol;\n",
        "  }\n",
        "\n",
        "  cout << error << endl;\n",
        "\n",
        "  salvaMatriz(u);\n",
        "}"
      ],
      "metadata": {
        "colab": {
          "base_uri": "https://localhost:8080/"
        },
        "outputId": "6cb385b6-9bae-4c52-b296-5aea81e75ef4",
        "id": "Dn1pTlCyqFLI"
      },
      "execution_count": 86,
      "outputs": [
        {
          "output_type": "stream",
          "name": "stdout",
          "text": [
            "Overwriting jacobi.cpp\n"
          ]
        }
      ]
    },
    {
      "cell_type": "code",
      "execution_count": 87,
      "metadata": {
        "colab": {
          "base_uri": "https://localhost:8080/"
        },
        "id": "nqMDOQAKGS56",
        "outputId": "5d83bedb-ffa8-4b1f-a200-bd09b19afc7e"
      },
      "outputs": [
        {
          "output_type": "stream",
          "name": "stdout",
          "text": [
            "Overwriting main.cpp\n"
          ]
        }
      ],
      "source": [
        "%%writefile main.cpp\n",
        "#include <iostream>\n",
        "using namespace std;\n",
        "#include <string>\n",
        "\n",
        "#include \"dominio.h\"\n",
        "#include \"tecidos.h\"\n",
        "#include \"variaveis.h\"\n",
        "#include \"jacobi.h\"\n",
        "\n",
        "\n",
        "int main()\n",
        "{\n",
        "    float h = 0.001; // 0.1/(101-1);\n",
        "    int tamX = 51;\n",
        "    int tamY = 101;\n",
        "\n",
        "    Dominio *dom = new Dominio(h, tamX, tamY);\n",
        "    dom->setX();\n",
        "    dom->setY();\n",
        "\n",
        "    Tecidos *humano = new Tecidos(tamX, tamY);\n",
        "    humano->set();\n",
        "    humano->salvaMatriz();\n",
        "\n",
        "    Variaveis *var = new Variaveis;\n",
        "    var->setQm();\n",
        "    var->setK();\n",
        "    var->setP();\n",
        "    var->setC();\n",
        "    var->setW();\n",
        "\n",
        "    int cb = 4200; //calor especifico do sangue (constante)\n",
        "    int Ta = 37; //temperatura inicial (constante)\n",
        "\n",
        "    Jacobi solucao(tamX, tamY);\n",
        "    solucao.setU(Ta);\n",
        "    solucao.resolucao(cb, Ta, humano, var, h);\n",
        "\n",
        "    delete [] dom;\n",
        "    delete [] humano;\n",
        "    delete [] var;\n",
        "\n",
        "    return 0;\n",
        "}"
      ]
    },
    {
      "cell_type": "code",
      "source": [
        "!g++ dominio.cpp \\\n",
        "  tecidos.cpp \\\n",
        "  variaveis.cpp \\\n",
        "  jacobi.cpp \\\n",
        "  main.cpp \\\n",
        "  -o hyperthermia"
      ],
      "metadata": {
        "id": "g6KKYe_rGuAs"
      },
      "execution_count": 88,
      "outputs": []
    },
    {
      "cell_type": "code",
      "source": [
        "!./hyperthermia"
      ],
      "metadata": {
        "colab": {
          "base_uri": "https://localhost:8080/"
        },
        "id": "SqoQmduWHDyf",
        "outputId": "b5cf1ec1-0312-4165-f755-84b22e72fdfd"
      },
      "execution_count": 89,
      "outputs": [
        {
          "output_type": "stream",
          "name": "stdout",
          "text": [
            "C++: Matriz de tecidos salva em matriz.txt\n",
            "1\n",
            "C++: Matriz solucao salva em final.txt\n"
          ]
        }
      ]
    },
    {
      "cell_type": "code",
      "source": [
        "import matplotlib\n",
        "import matplotlib.pyplot as plt\n",
        "from matplotlib import cm\n",
        "from mpl_toolkits.mplot3d import axes3d, Axes3D\n",
        "import numpy as np\n",
        "import math\n",
        "\n",
        "from google.colab import files\n",
        "from matplotlib.figure import projections\n",
        "\n",
        "plt.rcParams['figure.figsize'] = [8, 6]\n",
        "\n",
        "# Carregar a matriz do arquivo\n",
        "matriz = np.loadtxt('matriz.txt')\n",
        "\n",
        "# Exibir a matriz\n",
        "print(\"Matriz de tecidos:\")\n",
        "print(matriz)\n",
        "plt.imshow(matriz)"
      ],
      "metadata": {
        "colab": {
          "base_uri": "https://localhost:8080/",
          "height": 532
        },
        "id": "dLkKnsjwe-3I",
        "outputId": "1489aa66-2738-41a2-bf5c-76cd6b6b5557"
      },
      "execution_count": 75,
      "outputs": [
        {
          "output_type": "stream",
          "name": "stdout",
          "text": [
            "Matriz de tecidos:\n",
            "[[0. 0. 0. ... 0. 0. 0.]\n",
            " [0. 0. 0. ... 0. 0. 0.]\n",
            " [1. 1. 1. ... 1. 1. 1.]\n",
            " ...\n",
            " [2. 2. 2. ... 2. 2. 2.]\n",
            " [2. 2. 2. ... 2. 2. 2.]\n",
            " [2. 2. 2. ... 2. 2. 2.]]\n"
          ]
        },
        {
          "output_type": "execute_result",
          "data": {
            "text/plain": [
              "<matplotlib.image.AxesImage at 0x7b24a175eef0>"
            ]
          },
          "metadata": {},
          "execution_count": 75
        },
        {
          "output_type": "display_data",
          "data": {
            "text/plain": [
              "<Figure size 800x600 with 1 Axes>"
            ],
            "image/png": "[encoded data removed]"
          },
          "metadata": {}
        }
      ]
    },
    {
      "cell_type": "code",
      "source": [
        "# Carregar a matriz do arquivo\n",
        "resultados = np.loadtxt('final.txt')\n",
        "\n",
        "# Exibir a matriz\n",
        "#print(resultados)\n",
        "\n",
        "fig = plt.figure()\n",
        "plt.xlabel('x-axis (m)')\n",
        "plt.ylabel('Temperatura (°C)')\n",
        "plt.ylabel('z-axis (m)')\n",
        "plt.imshow(np.transpose(resultados), vmin = 37.0, vmax = 37.65, cmap = 'rainbow', interpolation = 'nearest', origin = 'lower', extent=[0,0.05,0,0.1])\n",
        "plt.colorbar(label = 'Temperatura (°C)')\n",
        "plt.show()"
      ],
      "metadata": {
        "colab": {
          "base_uri": "https://localhost:8080/",
          "height": 547
        },
        "id": "dRTW9KFZurPJ",
        "outputId": "08f0fcfa-9b99-4379-8a3c-13b844cabadb"
      },
      "execution_count": 76,
      "outputs": [
        {
          "output_type": "display_data",
          "data": {
            "text/plain": [
              "<Figure size 800x600 with 2 Axes>"
            ],
            "image/png": "[encoded data removed]"
          },
          "metadata": {}
        }
      ]
    }
  ]
}