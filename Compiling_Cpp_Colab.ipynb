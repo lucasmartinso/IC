{
  "nbformat": 4,
  "nbformat_minor": 0,
  "metadata": {
    "colab": {
      "provenance": [],
      "include_colab_link": true
    },
    "kernelspec": {
      "name": "python3",
      "display_name": "Python 3"
    },
    "language_info": {
      "name": "python"
    }
  },
  "cells": [
    {
      "cell_type": "markdown",
      "metadata": {
        "id": "view-in-github",
        "colab_type": "text"
      },
      "source": [
        "<a href=\"https://colab.research.google.com/github/lucasmartinso/IC/blob/main/Compiling_Cpp_Colab.ipynb\" target=\"_parent\"><img src=\"https://colab.research.google.com/assets/colab-badge.svg\" alt=\"Open In Colab\"/></a>"
      ]
    },
    {
      "cell_type": "markdown",
      "source": [
        "## **Simulações numéricas 3D em GPUs de hipertermia com nanopartículas por um modelo de bioaquecimento não linear**\n",
        "\n",
        "Nome: Lucas Martins Oliveira"
      ],
      "metadata": {
        "id": "7y40cz7uOq3P"
      }
    },
    {
      "cell_type": "markdown",
      "source": [
        "Equação a ser modelada:\n",
        "\n",
        "\\begin{equation*}\n",
        "  \\begin{cases}\n",
        "    \\displaystyle \\nabla \\cdot k \\nabla T + w_b c_b(T_a - T) + Q_m = 0 \\text{ para } \\Omega\\\\\\\\\n",
        "    \\displaystyle k \\nabla T \\cdot\\vec{n} = 0 \\text{ para } \\partial \\Omega_N\\\\\\\\\n",
        "    \\displaystyle T  = 37 \\text{ para } \\partial \\Omega_D\\\\\\\\\n",
        "    \\displaystyle T(.,0) = 37\n",
        "  \\end{cases}\n",
        "\\end{equation*}\n",
        "\n",
        "\\begin{equation*}\n",
        "  \\text { onde } T : \\Omega \\times  I \\rightarrow \\mathbb{R^+} \\text { representa o campo de temperatura do tecido } \\\\\n",
        "  c_b : \\Omega \\times  I \\rightarrow \\mathbb{R^+} \\text { representa o calor específico do sangue } \\\\\n",
        "  k : \\Omega \\times  I \\rightarrow \\mathbb{R^+} \\text { na qual a condutividade térmica é considerada isotrópica, mas não homogênea } \\\\\n",
        "  w_b:  \\Omega \\times {R^+} \\times  I \\rightarrow \\mathbb{R^+} \\text { taxa de perfusão sanguínea } \\\\\n",
        "  T_a \\text { temperatura arterial } \\\\\n",
        "  Q_m : \\Omega \\times  I \\rightarrow \\mathbb{R^+} \\text { representa a geração de calor metabólico } \\\\\n",
        "  f : \\Omega \\times  I \\rightarrow \\mathbb{R^+} \\text { temperaturaprescrita(Dirichelet) ou fluxo (Neumann ou Robin} \\\\\n",
        "  \\alpha , \\beta : \\Omega \\times  I \\rightarrow \\mathbb{R^+} \\text { sendo o vetor normal unitário } \\\\\n",
        "\\end{equation*}"
      ],
      "metadata": {
        "id": "5Tr73TudMbgi"
      }
    },
    {
      "cell_type": "markdown",
      "source": [
        "Inicialmente definimos o dominio, em questão"
      ],
      "metadata": {
        "id": "QoGbNEG_PKC-"
      }
    },
    {
      "cell_type": "code",
      "source": [
        "%%writefile dominio.h\n",
        "\n",
        "#ifndef DOMINIO_H\n",
        "#define DOMINIO_H\n",
        "\n",
        "class Dominio {\n",
        "  private:\n",
        "    int tamX, tamY;\n",
        "    float h;\n",
        "    float *x;\n",
        "    float *y;\n",
        "\n",
        "  public:\n",
        "    Dominio(float passo, int tamx, int tamy);\n",
        "    ~Dominio();\n",
        "    void setX();\n",
        "    void setY();\n",
        "    float getX(int indice);\n",
        "    float getY(int indice);\n",
        "};\n",
        "\n",
        "#endif //DOMINIO_H"
      ],
      "metadata": {
        "colab": {
          "base_uri": "https://localhost:8080/"
        },
        "id": "d0PlvPgOga0G",
        "outputId": "f63de59a-194d-4bde-cf53-031d0ce58f95"
      },
      "execution_count": 1,
      "outputs": [
        {
          "output_type": "stream",
          "name": "stdout",
          "text": [
            "Writing dominio.h\n"
          ]
        }
      ]
    },
    {
      "cell_type": "code",
      "source": [
        "%%writefile dominio.cpp\n",
        "\n",
        "#include <iostream>\n",
        "using namespace std;\n",
        "\n",
        "#include \"dominio.h\"\n",
        "\n",
        "Dominio::Dominio(float passo, int tamx, int tamy) {\n",
        "  h = passo;\n",
        "  tamX = tamx;\n",
        "  tamY = tamy;\n",
        "  x = new float[tamX];\n",
        "  y = new float[tamY];\n",
        "}\n",
        "\n",
        "Dominio::~Dominio() {\n",
        "  delete [] x;\n",
        "  delete [] y;\n",
        "}\n",
        "\n",
        "void Dominio::setX() {\n",
        "  for(int i=0; i<tamX; i++) {\n",
        "      x[i] = i*h;\n",
        "  }\n",
        "}\n",
        "\n",
        "void Dominio::setY() {\n",
        "  for(int i=0; i<tamY; i++) {\n",
        "      y[i] = i*h;\n",
        "  }\n",
        "}\n",
        "\n",
        "float Dominio::getX(int indice) {\n",
        "  if(indice < tamX)\n",
        "  {\n",
        "    return x[indice];\n",
        "  }\n",
        "  else\n",
        "  {\n",
        "    cout << \"INDICE INVALIDO\" << endl;\n",
        "    exit(1);\n",
        "  }\n",
        "}\n",
        "\n",
        "float Dominio::getY(int indice) {\n",
        "  if(indice < tamY)\n",
        "  {\n",
        "    return y[indice];\n",
        "  }\n",
        "  else\n",
        "  {\n",
        "    cout << \"INDICE INVALIDO\" << endl;\n",
        "    exit(1);\n",
        "  }\n",
        "}"
      ],
      "metadata": {
        "colab": {
          "base_uri": "https://localhost:8080/"
        },
        "id": "8qrBe-qWj690",
        "outputId": "fe3b056c-f6ae-4a28-90da-8f8349ba3dd6"
      },
      "execution_count": 2,
      "outputs": [
        {
          "output_type": "stream",
          "name": "stdout",
          "text": [
            "Writing dominio.cpp\n"
          ]
        }
      ]
    },
    {
      "cell_type": "markdown",
      "source": [
        "Assim modelamos agora as regiões do nosso espaço em questão que é divida em 4:\n",
        "\n",
        "\n",
        "---\n",
        "\n",
        "\n",
        "\n",
        "0.   Derme\n",
        "1.   Gordura\n",
        "2.   Músculo\n",
        "3.   Tumor\n",
        "\n",
        "\n",
        "\n",
        "---\n",
        "\n",
        "\n",
        "\n"
      ],
      "metadata": {
        "id": "q3JGpUC2Yvdz"
      }
    },
    {
      "cell_type": "code",
      "source": [
        "%%writefile tecidos.h\n",
        "\n",
        "#ifndef TECIDOS_H\n",
        "#define TECIDOS_H\n",
        "\n",
        "class Tecidos {\n",
        "  private:\n",
        "    int *tecidosHumanos;\n",
        "    int tamX;\n",
        "    int tamY;\n",
        "    int detInd(int i, int j);\n",
        "\n",
        "  public:\n",
        "    Tecidos(int tamx, int tamy);\n",
        "    ~Tecidos();\n",
        "    void set();\n",
        "    int busca(int i, int j);\n",
        "    void salvaMatriz();\n",
        "};\n",
        "\n",
        "#endif //TECIDOS_H"
      ],
      "metadata": {
        "colab": {
          "base_uri": "https://localhost:8080/"
        },
        "outputId": "204e5b98-1e29-4df4-ed85-f4379fae8f39",
        "id": "W_Yz-iCyQ3Ti"
      },
      "execution_count": 3,
      "outputs": [
        {
          "output_type": "stream",
          "name": "stdout",
          "text": [
            "Writing tecidos.h\n"
          ]
        }
      ]
    },
    {
      "cell_type": "code",
      "source": [
        "%%writefile tecidos.cpp\n",
        "\n",
        "#include <iostream>\n",
        "using namespace std;\n",
        "\n",
        "#include <fstream>\n",
        "#include <vector>\n",
        "\n",
        "#include \"tecidos.h\"\n",
        "\n",
        "Tecidos::Tecidos(int tamx, int tamy) {\n",
        "  tamX = tamx;\n",
        "  tamY = tamy;\n",
        "  tecidosHumanos = new int[tamX*tamY];\n",
        "}\n",
        "\n",
        "Tecidos::~Tecidos() {\n",
        "  delete [] tecidosHumanos;\n",
        "}\n",
        "\n",
        "int Tecidos::detInd(int i, int j) {\n",
        "  if(i<tamX && j<tamY)\n",
        "  {\n",
        "    return tamY*i + j;\n",
        "  }\n",
        "  else\n",
        "  {\n",
        "    cout << \"INDICE INVALIDO\" << endl;\n",
        "    exit(1);\n",
        "  }\n",
        "}\n",
        "\n",
        "void Tecidos::set() {\n",
        "  for(int i=0; i<tamX; i++) {\n",
        "     for(int j=0; j<tamY; j++) {\n",
        "        if((i>(19) && i<(45) && j>(37) && j<(63)))\n",
        "        {\n",
        "          //tumor esfera de raio 13mm -> consideramos um quadrado nessa abordagem\n",
        "          //centro (20,50)mm\n",
        "          tecidosHumanos[detInd(i,j)] = 3;\n",
        "        }\n",
        "        else if(i<2)\n",
        "        {\n",
        "          //derme 2mm\n",
        "          tecidosHumanos[detInd(i,j)] = 0;\n",
        "        }\n",
        "        else if(i<12)\n",
        "        {\n",
        "          //adiposo\n",
        "          tecidosHumanos[detInd(i,j)] = 1;\n",
        "        }\n",
        "        else\n",
        "        {\n",
        "          //musculo\n",
        "          tecidosHumanos[detInd(i,j)] = 2;\n",
        "        }\n",
        "     }\n",
        "  }\n",
        "}\n",
        "\n",
        "int Tecidos::busca(int i, int j) {\n",
        "  if(i < tamX && j < tamY)\n",
        "  {\n",
        "    return tecidosHumanos[detInd(i,j)];\n",
        "  }\n",
        "  else\n",
        "  {\n",
        "    cout << \"INDICE INVALIDO\" << endl;\n",
        "    exit(1);\n",
        "  }\n",
        "}\n",
        "\n",
        "void Tecidos::salvaMatriz() {\n",
        "    // Matriz que vai receber os valores dos tecidos\n",
        "    vector<vector<int>> matriz;\n",
        "\n",
        "    // Inicializar a matriz que vai ser salva com elementos\n",
        "    matriz.resize(tamX);\n",
        "    for (int i = 0; i < tamX; i++) {\n",
        "      matriz[i].resize(tamY);\n",
        "      for (int j = 0; j < tamY; j++) {\n",
        "        matriz[i][j] =  busca(i,j);\n",
        "      }\n",
        "    }\n",
        "\n",
        "    // Salvar a matriz de tecidos em um arquivo para ser importada posteriormente\n",
        "    ofstream arquivo(\"matriz.txt\");\n",
        "    if (arquivo.is_open()) {\n",
        "      for (const auto& linha : matriz) {\n",
        "        for (const auto& elemento : linha) {\n",
        "          arquivo << elemento << \" \";\n",
        "        }\n",
        "        arquivo << \"\\n\";\n",
        "      }\n",
        "      arquivo.close();\n",
        "      cout << \"C++: Matriz de tecidos salva em matriz.txt\" << endl;\n",
        "    } else {\n",
        "      cerr << \"C++: Erro ao abrir o arquivo\" << endl;\n",
        "    }\n",
        "}"
      ],
      "metadata": {
        "colab": {
          "base_uri": "https://localhost:8080/"
        },
        "outputId": "6e3dc124-2ea3-4078-cd4c-e0480932c12d",
        "id": "GJ8LD-F3RhYM"
      },
      "execution_count": 4,
      "outputs": [
        {
          "output_type": "stream",
          "name": "stdout",
          "text": [
            "Writing tecidos.cpp\n"
          ]
        }
      ]
    },
    {
      "cell_type": "markdown",
      "source": [
        "A geração de calor metabólico varia de acordo com a região tratada, temos assim então:\n",
        "\n",
        "\\begin{equation*}\n",
        "  Q_{m_{muscle}} = Q_{m_{fat}} = Q_{m_{dermis}} = 420.0 \\\\\n",
        "  Q_{m_{tumor}} = 4200.0\n",
        "\\end{equation*}"
      ],
      "metadata": {
        "id": "EtO7bpzrX92c"
      }
    },
    {
      "cell_type": "markdown",
      "source": [
        "Temos que a condutividade térmica varia de acordo com o tecido, assim obtemos a seguintes relações:\n",
        "\n",
        "\\begin{equation*}\n",
        "  k_{dermis} = 0.40\\\\\n",
        "  k_{fat} = 0.21\\\\\n",
        "  k_{muscle} = 0.45\\\\\n",
        "  k_{tumor} = 0.55\\\\\n",
        "\\end{equation*}"
      ],
      "metadata": {
        "id": "fe-hntH2VXff"
      }
    },
    {
      "cell_type": "markdown",
      "source": [
        "A densidade dos tecidos são diferentes uma das outras, dessa forma definimos para a mesma a seguinte variação:\n",
        "\n",
        "\\begin{equation*}\n",
        "  \\rho_{dermis} = 1200\\\\\n",
        "  \\rho_{fat} = 1000\\\\\n",
        "  \\rho_{muscle} = 1000\\\\\n",
        "  \\rho_{tumor} = 1000\\\\\n",
        "\\end{equation*}"
      ],
      "metadata": {
        "id": "ooTSR8GGWuaI"
      }
    },
    {
      "cell_type": "markdown",
      "source": [
        "O calor específico dos tecidos são diferentes um dos outros, dessa forma definimos para a mesma a seguinte variação:\n",
        "\n",
        "\\begin{equation*}\n",
        "  c_{dermis} = 3600\\\\\n",
        "  c_{fat} = 2500\\\\\n",
        "  c_{muscle} = 3800\\\\\n",
        "  c_{tumor} = 4200\\\\\n",
        "\\end{equation*}"
      ],
      "metadata": {
        "id": "kZAMPceZXmt0"
      }
    },
    {
      "cell_type": "markdown",
      "source": [
        "A taxa de perfusão sanguínea varia de acordo com o tecido e com a temperatura que esse se encontra, dessa forma temos que:\n",
        "\n",
        "\\begin{equation*}\n",
        "  W_{dermis} = 0.5 \\\\\n",
        "  W_{fat} =\n",
        "    \\begin{cases}\n",
        "      \\displaystyle 0.36 + 0.36exp(-\\frac{(T-45.0)^2}{12.0}) \\text { para } T \\leq 45.0 \\\\\\\\\n",
        "      0.72 \\text { para } T>45.0\n",
        "    \\end{cases} \\\\\n",
        "  W_{muscle} =\n",
        "    \\begin{cases}\n",
        "      \\displaystyle 0.45 + 3.55exp(-\\frac{(T-45.0)^2}{12.0}) \\text { para } T \\leq 45.0 \\\\\\\\\n",
        "      4.0 \\text { para } T>45.0\n",
        "    \\end{cases} \\\\\n",
        "    W_{tumor} =\n",
        "    \\begin{cases}\n",
        "      \\displaystyle 0.833 -\\frac{(T-37.0)^{4.8}}{5.438E+3} \\text { para } 37.0 \\leq T \\leq 42.0 \\\\\\\\\n",
        "      0.416 \\text { para } T>42.0\n",
        "    \\end{cases} \\\\\n",
        "\\end{equation*}"
      ],
      "metadata": {
        "id": "ZjRrOiDB6f6s"
      }
    },
    {
      "cell_type": "code",
      "source": [
        "%%writefile variaveis.h\n",
        "\n",
        "#ifndef VARIAVEIS_H\n",
        "#define VARIAVEIS_H\n",
        "\n",
        "class Variaveis {\n",
        "  private:\n",
        "   float *qm;\n",
        "   float *k;\n",
        "   float *w;\n",
        "   float *p;\n",
        "   float *c;\n",
        "\n",
        "  public:\n",
        "    Variaveis();\n",
        "    ~Variaveis();\n",
        "    void setQm();\n",
        "    void setK();\n",
        "    void setP();\n",
        "    void setC();\n",
        "    void setW();\n",
        "    float getQm(int tecido);\n",
        "    float* getK();\n",
        "    float getP(int tecido);\n",
        "    float getC(int tecido);\n",
        "    float getW(int tecido, float temp);\n",
        "};\n",
        "\n",
        "#endif //VARIAVEIS_H"
      ],
      "metadata": {
        "colab": {
          "base_uri": "https://localhost:8080/"
        },
        "outputId": "e085cf4d-f467-41dd-e1b1-a2ce5fcb7457",
        "id": "h47g2uv-ll69"
      },
      "execution_count": 5,
      "outputs": [
        {
          "output_type": "stream",
          "name": "stdout",
          "text": [
            "Writing variaveis.h\n"
          ]
        }
      ]
    },
    {
      "cell_type": "code",
      "source": [
        "%%writefile variaveis.cpp\n",
        "\n",
        "#include <iostream>\n",
        "#include <cmath>\n",
        "using namespace std;\n",
        "\n",
        "#include \"variaveis.h\"\n",
        "\n",
        "Variaveis::Variaveis() {\n",
        "  qm = new float[4];\n",
        "  k = new float[4];\n",
        "  w = new float[4];\n",
        "  p = new float[4];\n",
        "  c = new float[4];\n",
        "}\n",
        "\n",
        "Variaveis::~Variaveis() {\n",
        "  delete [] qm;\n",
        "  delete [] k;\n",
        "  delete [] w;\n",
        "  delete [] p;\n",
        "  delete [] c;\n",
        "}\n",
        "\n",
        "void Variaveis::setQm() {\n",
        "  for(int i=0; i<4; i++) {\n",
        "    i==3 ? qm[i]=4200 : qm[i]=420;\n",
        "  }\n",
        "}\n",
        "\n",
        "void Variaveis::setK() {\n",
        "  k[0] = 0.4;\n",
        "  k[1] = 0.21;\n",
        "  k[2] = 0.45;\n",
        "  k[3] = 0.55;\n",
        "}\n",
        "\n",
        "void Variaveis::setP() {\n",
        "  for(int i=0; i<4; i++) {\n",
        "    i==0 ? p[i]=1200 : p[i]=1000;\n",
        "  }\n",
        "}\n",
        "\n",
        "void Variaveis::setC() {\n",
        "  c[0] = 3600;\n",
        "  c[1] = 2500;\n",
        "  c[2] = 3800;\n",
        "  c[3] = 4200;\n",
        "}\n",
        "\n",
        "void Variaveis::setW() {\n",
        "  w[0] = 0.5;\n",
        "  w[1] = 4.0;\n",
        "  w[2] = 0.72;\n",
        "  w[3] = 0.416;\n",
        "}\n",
        "\n",
        "float Variaveis::getQm(int tecido) {\n",
        "  if(tecido <= 3 && tecido >=0)\n",
        "    return qm[tecido];\n",
        "  else {\n",
        "    cout << \"INDICE INVALIDO\" << endl;\n",
        "    exit(1);\n",
        "  }\n",
        "}\n",
        "\n",
        "float* Variaveis::getK() {\n",
        "  return k;\n",
        "}\n",
        "\n",
        "float Variaveis::getP(int tecido) {\n",
        "  if(tecido <= 3 && tecido >=0)\n",
        "    return p[tecido];\n",
        "  else {\n",
        "    cout << \"INDICE INVALIDO\" << endl;\n",
        "    exit(1);\n",
        "  }\n",
        "}\n",
        "\n",
        "float Variaveis::getC(int tecido) {\n",
        "  if(tecido <= 3 && tecido >=0)\n",
        "    return c[tecido];\n",
        "  else {\n",
        "    cout << \"INDICE INVALIDO\" << endl;\n",
        "    exit(1);\n",
        "  }\n",
        "}\n",
        "\n",
        "float Variaveis::getW(int tecido, float temp) {\n",
        "  if(tecido == 0)\n",
        "    return w[0];\n",
        "  else if(tecido == 1)\n",
        "    return temp > 45.0 ? w[1] : ( 0.36 + 0.36*exp(-pow(temp - 45, 2)/12));\n",
        "  else if(tecido == 2)\n",
        "    return temp > 45.0 ? w[2] : ( 0.45 + 3.55*exp(-pow(temp - 45, 2)/12));\n",
        "  else if(tecido == 3)\n",
        "    return temp > 42.0 ? w[3] : ( 0.833 - (pow(temp-37, 4.8)/5438));\n",
        "  else {\n",
        "    cout << \"INDICE INVÁLIDO\" << endl;\n",
        "    exit(1);\n",
        "  }\n",
        "}"
      ],
      "metadata": {
        "colab": {
          "base_uri": "https://localhost:8080/"
        },
        "outputId": "7748b191-e64d-4848-e78c-e4bd43d64235",
        "id": "_RsiZj-CnPXa"
      },
      "execution_count": 6,
      "outputs": [
        {
          "output_type": "stream",
          "name": "stdout",
          "text": [
            "Writing variaveis.cpp\n"
          ]
        }
      ]
    },
    {
      "cell_type": "markdown",
      "source": [
        "\\begin{equation*}\n",
        "  \\text{Temos que, reorganizando a equação separamos aonde a variavel } T_{i,j}\n",
        "  \\text { para o lado esquerdo da equação, e aonde não consta para o lado direito, então obtemos: }\n",
        "\\end{equation*}\n",
        "\n",
        "Lado direito da equação, chamamos de f\n",
        "\n",
        "\\begin{equation*}\n",
        "  f_{i,j} = -Q_{m_{i,j}} - W_{b_{i,j}}C_bT_a\n",
        "\\end{equation*}\n",
        "\n",
        "Assim de forma encontramos a equação:\n",
        "\n",
        "\\begin{equation*}\n",
        "  T_{i,j} = \\frac{-h^2f_{i,j} + k_{i+\\frac{1}{2},j}T_{i+1,j} + k_{i-\\frac{1}{2},j}T_{i-1,j} + k_{i,j+\\frac{1}{2}}T_{i,j+1} + k_{i,j-\\frac{1}{2}}T_{i,j-1}}{k_{i+\\frac{1}{2},j} + k_{i-\\frac{1}{2}} + k_{i,j+\\frac{1}{2}} + k_{i,j-\\frac{1}{2}} + W_{b_{i,j}}C_bh^2}\n",
        "\\end{equation*}"
      ],
      "metadata": {
        "id": "yJH-ASggHYPg"
      }
    },
    {
      "cell_type": "markdown",
      "source": [
        "Assim temos que a condutividade térmica, pode ser calculada usando o método do ponto do médio, então:\n",
        "\\begin{equation*}\n",
        "  k_{i+\\frac{1}{2},j} \\approx \\frac{2k_{i,j}k_{i+1,j}}{k_{i,j}+k_{i+1,j}}\n",
        "\\end{equation*}"
      ],
      "metadata": {
        "id": "Iik5OLkO2ilZ"
      }
    },
    {
      "cell_type": "code",
      "source": [
        "%%writefile jacobi.h\n",
        "\n",
        "#ifndef JACOBI_H\n",
        "#define JACOBI_H\n",
        "\n",
        "#include <string>\n",
        "\n",
        "#include \"tecidos.h\"\n",
        "#include \"variaveis.h\"\n",
        "\n",
        "class Jacobi {\n",
        "  private:\n",
        "    float **u; //vetor solucao e passo anterior ao da solucao\n",
        "    float *f; //lado direito da funcao\n",
        "    int tamX;\n",
        "    int tamY;\n",
        "    int detInd(int i, int j);\n",
        "\n",
        "  public:\n",
        "    Jacobi(int tamx, int tamy);\n",
        "    ~Jacobi();\n",
        "    void setU(int ci);\n",
        "    void resolucao(float cb, float Ta, Tecidos *t, Variaveis *var, float h);\n",
        "    void salvaMatriz(float *mat);\n",
        "};\n",
        "\n",
        "#endif //JACOBI_H"
      ],
      "metadata": {
        "colab": {
          "base_uri": "https://localhost:8080/"
        },
        "outputId": "bc4ecedb-76f3-481c-dba4-3aaeec032289",
        "id": "xM5g9zxepFV4"
      },
      "execution_count": 15,
      "outputs": [
        {
          "output_type": "stream",
          "name": "stdout",
          "text": [
            "Overwriting jacobi.h\n"
          ]
        }
      ]
    },
    {
      "cell_type": "code",
      "source": [
        "%%writefile jacobi.cpp\n",
        "\n",
        "#include <iostream>\n",
        "#include <cmath>\n",
        "using namespace std;\n",
        "#include <string>\n",
        "#include <fstream>\n",
        "#include <vector>\n",
        "\n",
        "#include \"jacobi.h\"\n",
        "#include \"tecidos.h\"\n",
        "#include \"variaveis.h\"\n",
        "\n",
        "Jacobi::Jacobi(int tamx, int tamy) {\n",
        "  tamX = tamx;\n",
        "  tamY = tamy;\n",
        "\n",
        "  f = new float[tamx*tamy];\n",
        "  u = new float *[2];\n",
        "\n",
        "  for(int i=0; i<2; i++) {\n",
        "    u[i] = new float[tamX*tamY];\n",
        "  }\n",
        "}\n",
        "\n",
        "Jacobi::~Jacobi() {\n",
        "  for (int i = 0; i < 2; i++) {\n",
        "        delete[] u[i];\n",
        "  }\n",
        "\n",
        "  delete [] f;\n",
        "  delete [] u;\n",
        "}\n",
        "\n",
        "int Jacobi::detInd(int i, int j) {\n",
        "   if(i<tamX && j<tamY)\n",
        "  {\n",
        "    return tamY*i + j;\n",
        "  }\n",
        "  else\n",
        "  {\n",
        "    cout << \"INDICE INVALIDO\" << endl;\n",
        "    exit(1);\n",
        "  }\n",
        "}\n",
        "\n",
        "void Jacobi::setU(int ci) {\n",
        "  //ci == chute inicial\n",
        "\n",
        "  for(int i=0; i<tamX; i++) {\n",
        "    for(int j=0; j<tamY; j++) {\n",
        "      u[0][detInd(i,j)] = 37;\n",
        "    }\n",
        "  }\n",
        "}\n",
        "\n",
        "void Jacobi::salvaMatriz(float *mat) {\n",
        "    // Matriz que vai receber os valores da temperatura por região\n",
        "    vector<vector<float>> final;\n",
        "\n",
        "    // Inicializar a final que vai ser salva com elementos\n",
        "    final.resize(tamX);\n",
        "    for (int i = 0; i < tamX; i++) {\n",
        "      final[i].resize(tamY);\n",
        "      for (int j = 0; j < tamY; j++) {\n",
        "        final[i][j] =  mat[detInd(i,j)];\n",
        "      }\n",
        "    }\n",
        "\n",
        "    // Salvar a final de tecidos em um arquivo para ser importada posteriormente\n",
        "    ofstream arquivo(\"final.txt\");\n",
        "    if (arquivo.is_open()) {\n",
        "      for (const auto& linha : final) {\n",
        "        for (const auto& elemento : linha) {\n",
        "          arquivo << elemento << \" \";\n",
        "        }\n",
        "        arquivo << \"\\n\";\n",
        "      }\n",
        "      arquivo.close();\n",
        "      cout << \"C++: Matriz solucao salva em final.txt\" << endl;\n",
        "    } else {\n",
        "      cerr << \"C++: Erro ao abrir o arquivo\" << endl;\n",
        "    }\n",
        "}\n",
        "\n",
        "void Jacobi::resolucao(float cb, float Ta, Tecidos *t, Variaveis *var, float h) {\n",
        "  //Condicoes de Contorno\n",
        "  float u_a = 37.0; //dirichelet esquerdo -> T0\n",
        "  int u_b = 0; //neumann topo\n",
        "  int u_c = 0; //neumann direito\n",
        "  int u_d = 0; //neumann base\n",
        "\n",
        "  int kit=0;\n",
        "  int k_max = 10000; //numero maximo de iteraçoes do metodo\n",
        "  double error= 1;\n",
        "  double error_max = 1*pow(10,-6); //erro para convergencia\n",
        "\n",
        "  float *ks = var->getK();\n",
        "\n",
        "  bool swap = false;\n",
        "\n",
        "  while (kit<k_max && error > error_max) { //metodo de jacob\n",
        "    for(int i=0; i<tamX; i++) {\n",
        "      for(int j=0; j<tamY; j++) {\n",
        "         float kij = ks[t->busca(i,j)]; //vai ser usado em todos os casos\n",
        "\n",
        "         float k_ip = i==tamX-1 ? 2*kij*kij/(2*kij) : 2*kij*(ks[t->busca(i+1,j)]) / (kij+ks[t->busca(i+1,j)]);\n",
        "         float k_im = i==0 ? 2*kij*kij/(2*kij) : 2*kij*(ks[t->busca(i-1,j)]) / (kij+ks[t->busca(i-1,j)]);\n",
        "         float k_jp = j==tamY-1 ? 2*kij*kij/(2*kij) : 2*kij*(ks[t->busca(i,j+1)]) / (kij+ks[t->busca(i,j+1)]);\n",
        "         float k_jm = j==0 ? 2*kij*kij/(2*kij): 2*kij*(ks[t->busca(i,j-1)]) / (kij+ks[t->busca(i,j-1)]);\n",
        "\n",
        "        //para tratar do tipo Dirichlet, devemos atribuir diretamente no ponto (x_i,y_j)\n",
        "        if (i==0)\n",
        "          u[!swap][detInd(i,j)] = u_a;\n",
        "        else {\n",
        "          //Tradando condicoes de contorno do tipo Neumann\n",
        "\n",
        "          float uijp = j==tamY-1 ? 2*h*u_c+u[swap][detInd(i,tamY-2)] : u[swap][detInd(i,j+1)];\n",
        "          float uimj = u[swap][detInd(i-1,j)];\n",
        "          float uipj = i==tamX-1 ? 2*h*u_d+u[swap][detInd(tamX-2,j)] : u[swap][detInd(i+1,j)];\n",
        "          float uijm = j==0 ? 2*h*u_b+u[swap][detInd(i,1)] : u[swap][detInd(i,j-1)];\n",
        "\n",
        "          int indice = t->busca(i,j);\n",
        "          int pos = detInd(i,j);\n",
        "\n",
        "          f[pos] = -(var->getQm(indice) + var->getW(indice, u[swap][pos])*cb*Ta);\n",
        "          u[!swap][pos] = (k_ip*uipj + k_im*uimj + k_jp*uijp + k_jm*uijm - f[pos]*pow(h,2)) / ( k_ip+ k_im + k_jp + k_jm + var->getW(indice, u[swap][pos])*cb*pow(h,2));\n",
        "        }\n",
        "      }\n",
        "    }\n",
        "    kit=kit+1;\n",
        "\n",
        "    error = 1;\n",
        "\n",
        "    for(int i=0; i<tamX; i++) {\n",
        "      for(int j=0; j<tamY; j++) {\n",
        "        int pos = detInd(i,j);\n",
        "\n",
        "        error += (u[!swap][pos] - u[swap][pos]) / u[!swap][pos];\n",
        "      }\n",
        "    }\n",
        "\n",
        "    swap = !swap;\n",
        "  }\n",
        "\n",
        "  cout << error << endl;\n",
        "\n",
        "  salvaMatriz(u[swap]);\n",
        "}"
      ],
      "metadata": {
        "colab": {
          "base_uri": "https://localhost:8080/"
        },
        "outputId": "750237b5-b67b-4dbb-db50-19047e77b0df",
        "id": "Dn1pTlCyqFLI"
      },
      "execution_count": 25,
      "outputs": [
        {
          "output_type": "stream",
          "name": "stdout",
          "text": [
            "Overwriting jacobi.cpp\n"
          ]
        }
      ]
    },
    {
      "cell_type": "code",
      "execution_count": 26,
      "metadata": {
        "colab": {
          "base_uri": "https://localhost:8080/"
        },
        "id": "nqMDOQAKGS56",
        "outputId": "79343798-3c7a-4375-a4a2-693f14a2b4e3"
      },
      "outputs": [
        {
          "output_type": "stream",
          "name": "stdout",
          "text": [
            "Overwriting main.cpp\n"
          ]
        }
      ],
      "source": [
        "%%writefile main.cpp\n",
        "#include <iostream>\n",
        "using namespace std;\n",
        "#include <string>\n",
        "\n",
        "#include \"dominio.h\"\n",
        "#include \"tecidos.h\"\n",
        "#include \"variaveis.h\"\n",
        "#include \"jacobi.h\"\n",
        "\n",
        "\n",
        "int main()\n",
        "{\n",
        "    float h = 0.001; // 0.1/(101-1);\n",
        "    int tamX = 51;\n",
        "    int tamY = 101;\n",
        "\n",
        "    Dominio *dom = new Dominio(h, tamX, tamY);\n",
        "    dom->setX();\n",
        "    dom->setY();\n",
        "\n",
        "    Tecidos *humano = new Tecidos(tamX, tamY);\n",
        "    humano->set();\n",
        "    humano->salvaMatriz();\n",
        "\n",
        "    Variaveis *var = new Variaveis;\n",
        "    var->setQm();\n",
        "    var->setK();\n",
        "    var->setP();\n",
        "    var->setC();\n",
        "    var->setW();\n",
        "\n",
        "    int cb = 4200; //calor especifico do sangue (constante)\n",
        "    int Ta = 37; //temperatura inicial (constante)\n",
        "\n",
        "    Jacobi solucao(tamX, tamY);\n",
        "    solucao.setU(Ta);\n",
        "    solucao.resolucao(cb, Ta, humano, var, h);\n",
        "\n",
        "    delete [] dom;\n",
        "    delete [] humano;\n",
        "    delete [] var;\n",
        "\n",
        "    return 0;\n",
        "}"
      ]
    },
    {
      "cell_type": "code",
      "source": [
        "!g++ dominio.cpp \\\n",
        "  tecidos.cpp \\\n",
        "  variaveis.cpp \\\n",
        "  jacobi.cpp \\\n",
        "  main.cpp \\\n",
        "  -o hyperthermia"
      ],
      "metadata": {
        "id": "g6KKYe_rGuAs"
      },
      "execution_count": 27,
      "outputs": []
    },
    {
      "cell_type": "code",
      "source": [
        "!./hyperthermia"
      ],
      "metadata": {
        "colab": {
          "base_uri": "https://localhost:8080/"
        },
        "id": "SqoQmduWHDyf",
        "outputId": "798143a1-80a7-4f4f-ea61-9f4ee16c7750"
      },
      "execution_count": 28,
      "outputs": [
        {
          "output_type": "stream",
          "name": "stdout",
          "text": [
            "C++: Matriz de tecidos salva em matriz.txt\n",
            "1\n",
            "C++: Matriz solucao salva em final.txt\n"
          ]
        }
      ]
    },
    {
      "cell_type": "code",
      "source": [
        "import matplotlib\n",
        "import matplotlib.pyplot as plt\n",
        "from matplotlib import cm\n",
        "from mpl_toolkits.mplot3d import axes3d, Axes3D\n",
        "import numpy as np\n",
        "import math\n",
        "\n",
        "from google.colab import files\n",
        "from matplotlib.figure import projections\n",
        "\n",
        "plt.rcParams['figure.figsize'] = [8, 6]\n",
        "\n",
        "# Carregar a matriz do arquivo\n",
        "matriz = np.loadtxt('matriz.txt')\n",
        "\n",
        "# Exibir a matriz\n",
        "print(\"Matriz de tecidos:\")\n",
        "print(matriz)\n",
        "plt.imshow(matriz)"
      ],
      "metadata": {
        "colab": {
          "base_uri": "https://localhost:8080/",
          "height": 532
        },
        "id": "dLkKnsjwe-3I",
        "outputId": "235382ea-e49c-41a1-cd28-f618c8be86a4"
      },
      "execution_count": 29,
      "outputs": [
        {
          "output_type": "stream",
          "name": "stdout",
          "text": [
            "Matriz de tecidos:\n",
            "[[0. 0. 0. ... 0. 0. 0.]\n",
            " [0. 0. 0. ... 0. 0. 0.]\n",
            " [1. 1. 1. ... 1. 1. 1.]\n",
            " ...\n",
            " [2. 2. 2. ... 2. 2. 2.]\n",
            " [2. 2. 2. ... 2. 2. 2.]\n",
            " [2. 2. 2. ... 2. 2. 2.]]\n"
          ]
        },
        {
          "output_type": "execute_result",
          "data": {
            "text/plain": [
              "<matplotlib.image.AxesImage at 0x7e290aa04280>"
            ]
          },
          "metadata": {},
          "execution_count": 29
        },
        {
          "output_type": "display_data",
          "data": {
            "text/plain": [
              "<Figure size 800x600 with 1 Axes>"
            ],
            "image/png": "[encoded data removed]"
          },
          "metadata": {}
        }
      ]
    },
    {
      "cell_type": "code",
      "source": [
        "# Carregar a matriz do arquivo\n",
        "resultados = np.loadtxt('final.txt')\n",
        "\n",
        "# Exibir a matriz\n",
        "#print(resultados)\n",
        "\n",
        "fig = plt.figure()\n",
        "plt.xlabel('x-axis (m)')\n",
        "plt.ylabel('Temperatura (°C)')\n",
        "plt.ylabel('z-axis (m)')\n",
        "plt.imshow(np.transpose(resultados), vmin = 37.0, vmax = 37.65, cmap = 'rainbow', interpolation = 'nearest', origin = 'lower', extent=[0,0.05,0,0.1])\n",
        "plt.colorbar(label = 'Temperatura (°C)')\n",
        "plt.show()"
      ],
      "metadata": {
        "colab": {
          "base_uri": "https://localhost:8080/",
          "height": 547
        },
        "id": "dRTW9KFZurPJ",
        "outputId": "58ae9349-9aa9-4424-e1d8-bbe1838e0886"
      },
      "execution_count": 30,
      "outputs": [
        {
          "output_type": "display_data",
          "data": {
            "text/plain": [
              "<Figure size 800x600 with 2 Axes>"
            ],
            "image/png": "[encoded data removed]"
          },
          "metadata": {}
        }
      ]
    }
  ]
}